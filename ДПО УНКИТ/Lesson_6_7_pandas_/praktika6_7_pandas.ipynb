{
  "nbformat": 4,
  "nbformat_minor": 0,
  "metadata": {
    "colab": {
      "provenance": []
    },
    "kernelspec": {
      "name": "python3",
      "display_name": "Python 3"
    },
    "language_info": {
      "name": "python"
    }
  },
  "cells": [
    {
      "cell_type": "code",
      "execution_count": null,
      "metadata": {
        "colab": {
          "base_uri": "https://localhost:8080/",
          "height": 81
        },
        "id": "NPmBhUR_790E",
        "outputId": "eecff9b7-f150-4ba5-d8f3-474e531b316c"
      },
      "outputs": [
        {
          "output_type": "execute_result",
          "data": {
            "text/plain": [
              "   f  o  l  t\n",
              "0  1  2  3  4"
            ],
            "text/html": [
              "\n",
              "  <div id=\"df-d6d60725-1980-442f-bd75-9895673367c6\" class=\"colab-df-container\">\n",
              "    <div>\n",
              "<style scoped>\n",
              "    .dataframe tbody tr th:only-of-type {\n",
              "        vertical-align: middle;\n",
              "    }\n",
              "\n",
              "    .dataframe tbody tr th {\n",
              "        vertical-align: top;\n",
              "    }\n",
              "\n",
              "    .dataframe thead th {\n",
              "        text-align: right;\n",
              "    }\n",
              "</style>\n",
              "<table border=\"1\" class=\"dataframe\">\n",
              "  <thead>\n",
              "    <tr style=\"text-align: right;\">\n",
              "      <th></th>\n",
              "      <th>f</th>\n",
              "      <th>o</th>\n",
              "      <th>l</th>\n",
              "      <th>t</th>\n",
              "    </tr>\n",
              "  </thead>\n",
              "  <tbody>\n",
              "    <tr>\n",
              "      <th>0</th>\n",
              "      <td>1</td>\n",
              "      <td>2</td>\n",
              "      <td>3</td>\n",
              "      <td>4</td>\n",
              "    </tr>\n",
              "  </tbody>\n",
              "</table>\n",
              "</div>\n",
              "    <div class=\"colab-df-buttons\">\n",
              "\n",
              "  <div class=\"colab-df-container\">\n",
              "    <button class=\"colab-df-convert\" onclick=\"convertToInteractive('df-d6d60725-1980-442f-bd75-9895673367c6')\"\n",
              "            title=\"Convert this dataframe to an interactive table.\"\n",
              "            style=\"display:none;\">\n",
              "\n",
              "  <svg xmlns=\"http://www.w3.org/2000/svg\" height=\"24px\" viewBox=\"0 -960 960 960\">\n",
              "    <path d=\"M120-120v-720h720v720H120Zm60-500h600v-160H180v160Zm220 220h160v-160H400v160Zm0 220h160v-160H400v160ZM180-400h160v-160H180v160Zm440 0h160v-160H620v160ZM180-180h160v-160H180v160Zm440 0h160v-160H620v160Z\"/>\n",
              "  </svg>\n",
              "    </button>\n",
              "\n",
              "  <style>\n",
              "    .colab-df-container {\n",
              "      display:flex;\n",
              "      gap: 12px;\n",
              "    }\n",
              "\n",
              "    .colab-df-convert {\n",
              "      background-color: #E8F0FE;\n",
              "      border: none;\n",
              "      border-radius: 50%;\n",
              "      cursor: pointer;\n",
              "      display: none;\n",
              "      fill: #1967D2;\n",
              "      height: 32px;\n",
              "      padding: 0 0 0 0;\n",
              "      width: 32px;\n",
              "    }\n",
              "\n",
              "    .colab-df-convert:hover {\n",
              "      background-color: #E2EBFA;\n",
              "      box-shadow: 0px 1px 2px rgba(60, 64, 67, 0.3), 0px 1px 3px 1px rgba(60, 64, 67, 0.15);\n",
              "      fill: #174EA6;\n",
              "    }\n",
              "\n",
              "    .colab-df-buttons div {\n",
              "      margin-bottom: 4px;\n",
              "    }\n",
              "\n",
              "    [theme=dark] .colab-df-convert {\n",
              "      background-color: #3B4455;\n",
              "      fill: #D2E3FC;\n",
              "    }\n",
              "\n",
              "    [theme=dark] .colab-df-convert:hover {\n",
              "      background-color: #434B5C;\n",
              "      box-shadow: 0px 1px 3px 1px rgba(0, 0, 0, 0.15);\n",
              "      filter: drop-shadow(0px 1px 2px rgba(0, 0, 0, 0.3));\n",
              "      fill: #FFFFFF;\n",
              "    }\n",
              "  </style>\n",
              "\n",
              "    <script>\n",
              "      const buttonEl =\n",
              "        document.querySelector('#df-d6d60725-1980-442f-bd75-9895673367c6 button.colab-df-convert');\n",
              "      buttonEl.style.display =\n",
              "        google.colab.kernel.accessAllowed ? 'block' : 'none';\n",
              "\n",
              "      async function convertToInteractive(key) {\n",
              "        const element = document.querySelector('#df-d6d60725-1980-442f-bd75-9895673367c6');\n",
              "        const dataTable =\n",
              "          await google.colab.kernel.invokeFunction('convertToInteractive',\n",
              "                                                    [key], {});\n",
              "        if (!dataTable) return;\n",
              "\n",
              "        const docLinkHtml = 'Like what you see? Visit the ' +\n",
              "          '<a target=\"_blank\" href=https://colab.research.google.com/notebooks/data_table.ipynb>data table notebook</a>'\n",
              "          + ' to learn more about interactive tables.';\n",
              "        element.innerHTML = '';\n",
              "        dataTable['output_type'] = 'display_data';\n",
              "        await google.colab.output.renderOutput(dataTable, element);\n",
              "        const docLink = document.createElement('div');\n",
              "        docLink.innerHTML = docLinkHtml;\n",
              "        element.appendChild(docLink);\n",
              "      }\n",
              "    </script>\n",
              "  </div>\n",
              "\n",
              "    </div>\n",
              "  </div>\n"
            ],
            "application/vnd.google.colaboratory.intrinsic+json": {
              "type": "dataframe",
              "summary": "{\n  \"name\": \"(pd\",\n  \"rows\": 1,\n  \"fields\": [\n    {\n      \"column\": \"f\",\n      \"properties\": {\n        \"dtype\": \"string\",\n        \"num_unique_values\": 1,\n        \"samples\": [\n          \"1\"\n        ],\n        \"semantic_type\": \"\",\n        \"description\": \"\"\n      }\n    },\n    {\n      \"column\": \"o\",\n      \"properties\": {\n        \"dtype\": \"string\",\n        \"num_unique_values\": 1,\n        \"samples\": [\n          \"2\"\n        ],\n        \"semantic_type\": \"\",\n        \"description\": \"\"\n      }\n    },\n    {\n      \"column\": \"l\",\n      \"properties\": {\n        \"dtype\": \"string\",\n        \"num_unique_values\": 1,\n        \"samples\": [\n          \"3\"\n        ],\n        \"semantic_type\": \"\",\n        \"description\": \"\"\n      }\n    },\n    {\n      \"column\": \"t\",\n      \"properties\": {\n        \"dtype\": \"string\",\n        \"num_unique_values\": 1,\n        \"samples\": [\n          \"4\"\n        ],\n        \"semantic_type\": \"\",\n        \"description\": \"\"\n      }\n    }\n  ]\n}"
            }
          },
          "metadata": {},
          "execution_count": 8
        }
      ],
      "source": [
        "# n1\n",
        "\n",
        "import pandas as pd\n",
        "import numpy as np\n",
        "\n",
        "mylist = [i for i in range(5)]\n",
        "myarr = np.array([i for i in range(7)])\n",
        "mydict = [{\"f\": \"1\", \"o\": \"2\", \"l\": \"3\", \"t\": \"4\"}]\n",
        "\n",
        "(pd.DataFrame(mylist))\n",
        "(pd.DataFrame(myarr))\n",
        "(pd.DataFrame(mydict))"
      ]
    },
    {
      "cell_type": "code",
      "source": [
        "# n2\n",
        "import numpy as np\n",
        "import pandas as pd\n",
        "\n",
        "mylist = list('jjoea4543')\n",
        "myarr = np.arange(4)\n",
        "mydict = dict(zip(mylist, myarr))\n",
        "ser = pd.Series(mydict)\n",
        "\n",
        "df = ser.reset_index()\n",
        "\n",
        "df.columns = ['index', 'values']\n",
        "\n",
        "print(\"Исходный Series:\")\n",
        "print(ser)\n",
        "\n",
        "print(\"\\nDataFrame с индексом в качестве столбца:\")\n",
        "print(df)"
      ],
      "metadata": {
        "colab": {
          "base_uri": "https://localhost:8080/"
        },
        "id": "ZLA4RcqP_jx9",
        "outputId": "dbfc39ba-59eb-46aa-c22e-d56e13eab8ca"
      },
      "execution_count": null,
      "outputs": [
        {
          "output_type": "stream",
          "name": "stdout",
          "text": [
            "Исходный Series:\n",
            "j    1\n",
            "o    2\n",
            "e    3\n",
            "dtype: int64\n",
            "\n",
            "DataFrame с индексом в качестве столбца:\n",
            "  index  values\n",
            "0     j       1\n",
            "1     o       2\n",
            "2     e       3\n"
          ]
        }
      ]
    },
    {
      "cell_type": "code",
      "source": [
        "import numpy as np\n",
        "import pandas as pd\n",
        "\n",
        "mylist = list('hhaifs')\n",
        "myarr = np.arange(6)\n",
        "mydict = dict(zip(mylist, myarr))\n",
        "\n",
        "ser1 = pd.Series(mylist)\n",
        "ser2 = pd.Series(myarr)\n",
        "\n",
        "df"
      ],
      "metadata": {
        "colab": {
          "base_uri": "https://localhost:8080/",
          "height": 238
        },
        "id": "uUzaO53m_48f",
        "outputId": "23909b49-fb5a-4c19-e12a-644b0019fa02"
      },
      "execution_count": null,
      "outputs": [
        {
          "output_type": "execute_result",
          "data": {
            "text/plain": [
              "  col1  col2\n",
              "0    h     0\n",
              "1    h     1\n",
              "2    a     2\n",
              "3    i     3\n",
              "4    f     4\n",
              "5    s     5"
            ],
            "text/html": [
              "\n",
              "  <div id=\"df-d5f716f9-39b0-4ef9-a498-efe6c3ac57fa\" class=\"colab-df-container\">\n",
              "    <div>\n",
              "<style scoped>\n",
              "    .dataframe tbody tr th:only-of-type {\n",
              "        vertical-align: middle;\n",
              "    }\n",
              "\n",
              "    .dataframe tbody tr th {\n",
              "        vertical-align: top;\n",
              "    }\n",
              "\n",
              "    .dataframe thead th {\n",
              "        text-align: right;\n",
              "    }\n",
              "</style>\n",
              "<table border=\"1\" class=\"dataframe\">\n",
              "  <thead>\n",
              "    <tr style=\"text-align: right;\">\n",
              "      <th></th>\n",
              "      <th>col1</th>\n",
              "      <th>col2</th>\n",
              "    </tr>\n",
              "  </thead>\n",
              "  <tbody>\n",
              "    <tr>\n",
              "      <th>0</th>\n",
              "      <td>h</td>\n",
              "      <td>0</td>\n",
              "    </tr>\n",
              "    <tr>\n",
              "      <th>1</th>\n",
              "      <td>h</td>\n",
              "      <td>1</td>\n",
              "    </tr>\n",
              "    <tr>\n",
              "      <th>2</th>\n",
              "      <td>a</td>\n",
              "      <td>2</td>\n",
              "    </tr>\n",
              "    <tr>\n",
              "      <th>3</th>\n",
              "      <td>i</td>\n",
              "      <td>3</td>\n",
              "    </tr>\n",
              "    <tr>\n",
              "      <th>4</th>\n",
              "      <td>f</td>\n",
              "      <td>4</td>\n",
              "    </tr>\n",
              "    <tr>\n",
              "      <th>5</th>\n",
              "      <td>s</td>\n",
              "      <td>5</td>\n",
              "    </tr>\n",
              "  </tbody>\n",
              "</table>\n",
              "</div>\n",
              "    <div class=\"colab-df-buttons\">\n",
              "\n",
              "  <div class=\"colab-df-container\">\n",
              "    <button class=\"colab-df-convert\" onclick=\"convertToInteractive('df-d5f716f9-39b0-4ef9-a498-efe6c3ac57fa')\"\n",
              "            title=\"Convert this dataframe to an interactive table.\"\n",
              "            style=\"display:none;\">\n",
              "\n",
              "  <svg xmlns=\"http://www.w3.org/2000/svg\" height=\"24px\" viewBox=\"0 -960 960 960\">\n",
              "    <path d=\"M120-120v-720h720v720H120Zm60-500h600v-160H180v160Zm220 220h160v-160H400v160Zm0 220h160v-160H400v160ZM180-400h160v-160H180v160Zm440 0h160v-160H620v160ZM180-180h160v-160H180v160Zm440 0h160v-160H620v160Z\"/>\n",
              "  </svg>\n",
              "    </button>\n",
              "\n",
              "  <style>\n",
              "    .colab-df-container {\n",
              "      display:flex;\n",
              "      gap: 12px;\n",
              "    }\n",
              "\n",
              "    .colab-df-convert {\n",
              "      background-color: #E8F0FE;\n",
              "      border: none;\n",
              "      border-radius: 50%;\n",
              "      cursor: pointer;\n",
              "      display: none;\n",
              "      fill: #1967D2;\n",
              "      height: 32px;\n",
              "      padding: 0 0 0 0;\n",
              "      width: 32px;\n",
              "    }\n",
              "\n",
              "    .colab-df-convert:hover {\n",
              "      background-color: #E2EBFA;\n",
              "      box-shadow: 0px 1px 2px rgba(60, 64, 67, 0.3), 0px 1px 3px 1px rgba(60, 64, 67, 0.15);\n",
              "      fill: #174EA6;\n",
              "    }\n",
              "\n",
              "    .colab-df-buttons div {\n",
              "      margin-bottom: 4px;\n",
              "    }\n",
              "\n",
              "    [theme=dark] .colab-df-convert {\n",
              "      background-color: #3B4455;\n",
              "      fill: #D2E3FC;\n",
              "    }\n",
              "\n",
              "    [theme=dark] .colab-df-convert:hover {\n",
              "      background-color: #434B5C;\n",
              "      box-shadow: 0px 1px 3px 1px rgba(0, 0, 0, 0.15);\n",
              "      filter: drop-shadow(0px 1px 2px rgba(0, 0, 0, 0.3));\n",
              "      fill: #FFFFFF;\n",
              "    }\n",
              "  </style>\n",
              "\n",
              "    <script>\n",
              "      const buttonEl =\n",
              "        document.querySelector('#df-d5f716f9-39b0-4ef9-a498-efe6c3ac57fa button.colab-df-convert');\n",
              "      buttonEl.style.display =\n",
              "        google.colab.kernel.accessAllowed ? 'block' : 'none';\n",
              "\n",
              "      async function convertToInteractive(key) {\n",
              "        const element = document.querySelector('#df-d5f716f9-39b0-4ef9-a498-efe6c3ac57fa');\n",
              "        const dataTable =\n",
              "          await google.colab.kernel.invokeFunction('convertToInteractive',\n",
              "                                                    [key], {});\n",
              "        if (!dataTable) return;\n",
              "\n",
              "        const docLinkHtml = 'Like what you see? Visit the ' +\n",
              "          '<a target=\"_blank\" href=https://colab.research.google.com/notebooks/data_table.ipynb>data table notebook</a>'\n",
              "          + ' to learn more about interactive tables.';\n",
              "        element.innerHTML = '';\n",
              "        dataTable['output_type'] = 'display_data';\n",
              "        await google.colab.output.renderOutput(dataTable, element);\n",
              "        const docLink = document.createElement('div');\n",
              "        docLink.innerHTML = docLinkHtml;\n",
              "        element.appendChild(docLink);\n",
              "      }\n",
              "    </script>\n",
              "  </div>\n",
              "\n",
              "\n",
              "<div id=\"df-59ea6821-86ef-4591-8cfe-084381e9e4e7\">\n",
              "  <button class=\"colab-df-quickchart\" onclick=\"quickchart('df-59ea6821-86ef-4591-8cfe-084381e9e4e7')\"\n",
              "            title=\"Suggest charts\"\n",
              "            style=\"display:none;\">\n",
              "\n",
              "<svg xmlns=\"http://www.w3.org/2000/svg\" height=\"24px\"viewBox=\"0 0 24 24\"\n",
              "     width=\"24px\">\n",
              "    <g>\n",
              "        <path d=\"M19 3H5c-1.1 0-2 .9-2 2v14c0 1.1.9 2 2 2h14c1.1 0 2-.9 2-2V5c0-1.1-.9-2-2-2zM9 17H7v-7h2v7zm4 0h-2V7h2v10zm4 0h-2v-4h2v4z\"/>\n",
              "    </g>\n",
              "</svg>\n",
              "  </button>\n",
              "\n",
              "<style>\n",
              "  .colab-df-quickchart {\n",
              "      --bg-color: #E8F0FE;\n",
              "      --fill-color: #1967D2;\n",
              "      --hover-bg-color: #E2EBFA;\n",
              "      --hover-fill-color: #174EA6;\n",
              "      --disabled-fill-color: #AAA;\n",
              "      --disabled-bg-color: #DDD;\n",
              "  }\n",
              "\n",
              "  [theme=dark] .colab-df-quickchart {\n",
              "      --bg-color: #3B4455;\n",
              "      --fill-color: #D2E3FC;\n",
              "      --hover-bg-color: #434B5C;\n",
              "      --hover-fill-color: #FFFFFF;\n",
              "      --disabled-bg-color: #3B4455;\n",
              "      --disabled-fill-color: #666;\n",
              "  }\n",
              "\n",
              "  .colab-df-quickchart {\n",
              "    background-color: var(--bg-color);\n",
              "    border: none;\n",
              "    border-radius: 50%;\n",
              "    cursor: pointer;\n",
              "    display: none;\n",
              "    fill: var(--fill-color);\n",
              "    height: 32px;\n",
              "    padding: 0;\n",
              "    width: 32px;\n",
              "  }\n",
              "\n",
              "  .colab-df-quickchart:hover {\n",
              "    background-color: var(--hover-bg-color);\n",
              "    box-shadow: 0 1px 2px rgba(60, 64, 67, 0.3), 0 1px 3px 1px rgba(60, 64, 67, 0.15);\n",
              "    fill: var(--button-hover-fill-color);\n",
              "  }\n",
              "\n",
              "  .colab-df-quickchart-complete:disabled,\n",
              "  .colab-df-quickchart-complete:disabled:hover {\n",
              "    background-color: var(--disabled-bg-color);\n",
              "    fill: var(--disabled-fill-color);\n",
              "    box-shadow: none;\n",
              "  }\n",
              "\n",
              "  .colab-df-spinner {\n",
              "    border: 2px solid var(--fill-color);\n",
              "    border-color: transparent;\n",
              "    border-bottom-color: var(--fill-color);\n",
              "    animation:\n",
              "      spin 1s steps(1) infinite;\n",
              "  }\n",
              "\n",
              "  @keyframes spin {\n",
              "    0% {\n",
              "      border-color: transparent;\n",
              "      border-bottom-color: var(--fill-color);\n",
              "      border-left-color: var(--fill-color);\n",
              "    }\n",
              "    20% {\n",
              "      border-color: transparent;\n",
              "      border-left-color: var(--fill-color);\n",
              "      border-top-color: var(--fill-color);\n",
              "    }\n",
              "    30% {\n",
              "      border-color: transparent;\n",
              "      border-left-color: var(--fill-color);\n",
              "      border-top-color: var(--fill-color);\n",
              "      border-right-color: var(--fill-color);\n",
              "    }\n",
              "    40% {\n",
              "      border-color: transparent;\n",
              "      border-right-color: var(--fill-color);\n",
              "      border-top-color: var(--fill-color);\n",
              "    }\n",
              "    60% {\n",
              "      border-color: transparent;\n",
              "      border-right-color: var(--fill-color);\n",
              "    }\n",
              "    80% {\n",
              "      border-color: transparent;\n",
              "      border-right-color: var(--fill-color);\n",
              "      border-bottom-color: var(--fill-color);\n",
              "    }\n",
              "    90% {\n",
              "      border-color: transparent;\n",
              "      border-bottom-color: var(--fill-color);\n",
              "    }\n",
              "  }\n",
              "</style>\n",
              "\n",
              "  <script>\n",
              "    async function quickchart(key) {\n",
              "      const quickchartButtonEl =\n",
              "        document.querySelector('#' + key + ' button');\n",
              "      quickchartButtonEl.disabled = true;  // To prevent multiple clicks.\n",
              "      quickchartButtonEl.classList.add('colab-df-spinner');\n",
              "      try {\n",
              "        const charts = await google.colab.kernel.invokeFunction(\n",
              "            'suggestCharts', [key], {});\n",
              "      } catch (error) {\n",
              "        console.error('Error during call to suggestCharts:', error);\n",
              "      }\n",
              "      quickchartButtonEl.classList.remove('colab-df-spinner');\n",
              "      quickchartButtonEl.classList.add('colab-df-quickchart-complete');\n",
              "    }\n",
              "    (() => {\n",
              "      let quickchartButtonEl =\n",
              "        document.querySelector('#df-59ea6821-86ef-4591-8cfe-084381e9e4e7 button');\n",
              "      quickchartButtonEl.style.display =\n",
              "        google.colab.kernel.accessAllowed ? 'block' : 'none';\n",
              "    })();\n",
              "  </script>\n",
              "</div>\n",
              "    </div>\n",
              "  </div>\n"
            ],
            "application/vnd.google.colaboratory.intrinsic+json": {
              "type": "dataframe",
              "variable_name": "df",
              "summary": "{\n  \"name\": \"df\",\n  \"rows\": 6,\n  \"fields\": [\n    {\n      \"column\": \"col1\",\n      \"properties\": {\n        \"dtype\": \"string\",\n        \"num_unique_values\": 5,\n        \"samples\": [\n          \"a\",\n          \"s\",\n          \"i\"\n        ],\n        \"semantic_type\": \"\",\n        \"description\": \"\"\n      }\n    },\n    {\n      \"column\": \"col2\",\n      \"properties\": {\n        \"dtype\": \"number\",\n        \"std\": 1,\n        \"min\": 0,\n        \"max\": 5,\n        \"num_unique_values\": 6,\n        \"samples\": [\n          0,\n          1,\n          5\n        ],\n        \"semantic_type\": \"\",\n        \"description\": \"\"\n      }\n    }\n  ]\n}"
            }
          },
          "metadata": {},
          "execution_count": 14
        }
      ]
    },
    {
      "cell_type": "code",
      "source": [
        "# n4\n",
        "\n",
        "import pandas as pd\n",
        "\n",
        "ser = pd.Series(list('ffoord'))\n",
        "ser.name = 'latin_letters'\n",
        "\n",
        "print(ser)"
      ],
      "metadata": {
        "colab": {
          "base_uri": "https://localhost:8080/"
        },
        "id": "z_F6X7EEANX9",
        "outputId": "4a5d75f4-8e44-4b56-b3aa-66bdd4a8f1d4"
      },
      "execution_count": null,
      "outputs": [
        {
          "output_type": "stream",
          "name": "stdout",
          "text": [
            "0    f\n",
            "1    f\n",
            "2    o\n",
            "3    o\n",
            "4    r\n",
            "5    d\n",
            "Name: latin_letters, dtype: object\n"
          ]
        }
      ]
    },
    {
      "cell_type": "code",
      "source": [
        "# n5\n",
        "\n",
        "import pandas as pd\n",
        "\n",
        "ser1 = pd.Series([1, 1, 2, 3, 4, 5, 8, 10, 15, 25, 6, 2])\n",
        "ser2 = pd.Series([1, 4, 5, 6, 7, 8])\n",
        "\n",
        "\n",
        "print(ser1)\n"
      ],
      "metadata": {
        "colab": {
          "base_uri": "https://localhost:8080/"
        },
        "id": "EKJ3HenFA0bc",
        "outputId": "ca92d5a1-b91d-4d6f-8767-45d5bdb0c1a2"
      },
      "execution_count": null,
      "outputs": [
        {
          "output_type": "stream",
          "name": "stdout",
          "text": [
            "0      1\n",
            "1      1\n",
            "2      2\n",
            "3      3\n",
            "4      4\n",
            "5      5\n",
            "6      8\n",
            "7     10\n",
            "8     15\n",
            "9     25\n",
            "10     6\n",
            "11     2\n",
            "dtype: int64\n"
          ]
        }
      ]
    },
    {
      "cell_type": "code",
      "source": [
        "# n6\n",
        "\n",
        "import pandas as pd\n",
        "\n",
        "ser1 = pd.Series([1, 2, 3, 4, 5])\n",
        "ser2 = pd.Series([4, 5, 6, 7, 8])\n",
        "\n",
        "indexes_1 = ser1[ser1.isin(ser2)].index\n",
        "indexes_2 = ser2[ser2.isin(ser1)].index\n",
        "\n",
        "ser1.drop(indexes_1, inplace=True)\n",
        "ser2.drop(indexes_2, inplace=True)\n",
        "\n",
        "df = pd.concat([ser1, ser2])\n",
        "\n",
        "df"
      ],
      "metadata": {
        "id": "4Pb_nFQZA2Jq",
        "colab": {
          "base_uri": "https://localhost:8080/",
          "height": 272
        },
        "outputId": "2c4fe572-c3b3-40df-bf99-787faa623891"
      },
      "execution_count": null,
      "outputs": [
        {
          "output_type": "execute_result",
          "data": {
            "text/plain": [
              "0    1\n",
              "1    2\n",
              "2    3\n",
              "2    6\n",
              "3    7\n",
              "4    8\n",
              "dtype: int64"
            ],
            "text/html": [
              "<div>\n",
              "<style scoped>\n",
              "    .dataframe tbody tr th:only-of-type {\n",
              "        vertical-align: middle;\n",
              "    }\n",
              "\n",
              "    .dataframe tbody tr th {\n",
              "        vertical-align: top;\n",
              "    }\n",
              "\n",
              "    .dataframe thead th {\n",
              "        text-align: right;\n",
              "    }\n",
              "</style>\n",
              "<table border=\"1\" class=\"dataframe\">\n",
              "  <thead>\n",
              "    <tr style=\"text-align: right;\">\n",
              "      <th></th>\n",
              "      <th>0</th>\n",
              "    </tr>\n",
              "  </thead>\n",
              "  <tbody>\n",
              "    <tr>\n",
              "      <th>0</th>\n",
              "      <td>1</td>\n",
              "    </tr>\n",
              "    <tr>\n",
              "      <th>1</th>\n",
              "      <td>2</td>\n",
              "    </tr>\n",
              "    <tr>\n",
              "      <th>2</th>\n",
              "      <td>3</td>\n",
              "    </tr>\n",
              "    <tr>\n",
              "      <th>2</th>\n",
              "      <td>6</td>\n",
              "    </tr>\n",
              "    <tr>\n",
              "      <th>3</th>\n",
              "      <td>7</td>\n",
              "    </tr>\n",
              "    <tr>\n",
              "      <th>4</th>\n",
              "      <td>8</td>\n",
              "    </tr>\n",
              "  </tbody>\n",
              "</table>\n",
              "</div><br><label><b>dtype:</b> int64</label>"
            ]
          },
          "metadata": {},
          "execution_count": 16
        }
      ]
    },
    {
      "cell_type": "code",
      "source": [
        "# n7\n",
        "\n",
        "import pandas as pd\n",
        "\n",
        "ser = pd.Series(np.random.normal(10, 5, 25))\n",
        "\n",
        "print(min(ser))\n",
        "print(max(ser))\n",
        "\n",
        "print(ser.quantile(0.25))\n",
        "print(ser.quantile(0.75))\n",
        "print(ser.quantile(0.5))\n",
        "\n",
        "print(ser)"
      ],
      "metadata": {
        "colab": {
          "base_uri": "https://localhost:8080/"
        },
        "id": "Suwl8GNmrc3X",
        "outputId": "e3c40667-3bd3-473b-ec6a-eaf2d32db26a"
      },
      "execution_count": null,
      "outputs": [
        {
          "output_type": "stream",
          "name": "stdout",
          "text": [
            "-0.4444980058138359\n",
            "19.642875189965032\n",
            "8.279000087469685\n",
            "12.87335057929131\n",
            "10.34531493836489\n",
            "0     14.672277\n",
            "1     13.099487\n",
            "2      8.476906\n",
            "3     -0.444498\n",
            "4     19.642875\n",
            "5     11.056035\n",
            "6      4.598626\n",
            "7     12.644251\n",
            "8     10.627544\n",
            "9     10.345315\n",
            "10    16.021403\n",
            "11    12.873351\n",
            "12    10.558139\n",
            "13     9.205517\n",
            "14     2.888242\n",
            "15     9.204194\n",
            "16    12.563042\n",
            "17     6.641986\n",
            "18     8.279000\n",
            "19    13.912197\n",
            "20     8.586134\n",
            "21     8.437689\n",
            "22     7.363097\n",
            "23    19.491970\n",
            "24    -0.112357\n",
            "dtype: float64\n"
          ]
        }
      ]
    },
    {
      "cell_type": "code",
      "source": [
        "# n8\n",
        "\n",
        "import pandas as pd\n",
        "\n",
        "ser = pd.Series(np.take(list('fraklefkrlkkolokl'), np.random.randint(7, size=18)))\n",
        "\n",
        "freq = ser.value_counts()\n",
        "\n",
        "freq"
      ],
      "metadata": {
        "colab": {
          "base_uri": "https://localhost:8080/",
          "height": 272
        },
        "id": "zIHmb2dqr-j5",
        "outputId": "eeab3e39-ac59-4f65-df46-455e969b6a16"
      },
      "execution_count": null,
      "outputs": [
        {
          "output_type": "execute_result",
          "data": {
            "text/plain": [
              "f    5\n",
              "l    4\n",
              "a    3\n",
              "e    3\n",
              "k    2\n",
              "r    1\n",
              "Name: count, dtype: int64"
            ],
            "text/html": [
              "<div>\n",
              "<style scoped>\n",
              "    .dataframe tbody tr th:only-of-type {\n",
              "        vertical-align: middle;\n",
              "    }\n",
              "\n",
              "    .dataframe tbody tr th {\n",
              "        vertical-align: top;\n",
              "    }\n",
              "\n",
              "    .dataframe thead th {\n",
              "        text-align: right;\n",
              "    }\n",
              "</style>\n",
              "<table border=\"1\" class=\"dataframe\">\n",
              "  <thead>\n",
              "    <tr style=\"text-align: right;\">\n",
              "      <th></th>\n",
              "      <th>count</th>\n",
              "    </tr>\n",
              "  </thead>\n",
              "  <tbody>\n",
              "    <tr>\n",
              "      <th>f</th>\n",
              "      <td>5</td>\n",
              "    </tr>\n",
              "    <tr>\n",
              "      <th>l</th>\n",
              "      <td>4</td>\n",
              "    </tr>\n",
              "    <tr>\n",
              "      <th>a</th>\n",
              "      <td>3</td>\n",
              "    </tr>\n",
              "    <tr>\n",
              "      <th>e</th>\n",
              "      <td>3</td>\n",
              "    </tr>\n",
              "    <tr>\n",
              "      <th>k</th>\n",
              "      <td>2</td>\n",
              "    </tr>\n",
              "    <tr>\n",
              "      <th>r</th>\n",
              "      <td>1</td>\n",
              "    </tr>\n",
              "  </tbody>\n",
              "</table>\n",
              "</div><br><label><b>dtype:</b> int64</label>"
            ]
          },
          "metadata": {},
          "execution_count": 21
        }
      ]
    },
    {
      "cell_type": "code",
      "source": [
        "# n9\n",
        "\n",
        "import pandas as pd\n",
        "\n",
        "np.random.RandomState(100)\n",
        "ser = pd.Series(np.random.randint(1, 5, [12]))\n",
        "\n",
        "top_2_values = ser.value_counts().nlargest(2).index\n",
        "\n",
        "# Заменяем все элементы, кроме двух наиболее часто встречающихся, на \"Прочее\"\n",
        "ser_modified = ser.where(ser.isin(top_2_values), 'Прочее')\n",
        "\n",
        "print(ser_modified)"
      ],
      "metadata": {
        "colab": {
          "base_uri": "https://localhost:8080/"
        },
        "id": "7Ch8NfYUtEAp",
        "outputId": "904181de-2dba-4afd-b153-349a5f5ecf65"
      },
      "execution_count": null,
      "outputs": [
        {
          "output_type": "stream",
          "name": "stdout",
          "text": [
            "0          1\n",
            "1          3\n",
            "2          3\n",
            "3          1\n",
            "4          1\n",
            "5     Прочее\n",
            "6          1\n",
            "7          1\n",
            "8     Прочее\n",
            "9     Прочее\n",
            "10         3\n",
            "11    Прочее\n",
            "dtype: object\n"
          ]
        }
      ]
    },
    {
      "cell_type": "code",
      "source": [
        "# n10\n",
        "\n",
        "import pandas as pd\n",
        "\n",
        "ser = pd.Series(np.random.random(30))\n",
        "\n",
        "labels = [f'{i}th' for i in range(1, 11)]\n",
        "\n",
        "deciles = pd.qcut(ser, q=10, labels=labels)\n",
        "\n",
        "deciles = deciles.astype('category')\n",
        "\n",
        "print(deciles)"
      ],
      "metadata": {
        "colab": {
          "base_uri": "https://localhost:8080/"
        },
        "id": "EiqTnItstVD5",
        "outputId": "f2343da6-c625-4e17-d467-7526b6fb9357"
      },
      "execution_count": null,
      "outputs": [
        {
          "output_type": "stream",
          "name": "stdout",
          "text": [
            "0      1th\n",
            "1      9th\n",
            "2      9th\n",
            "3      2th\n",
            "4     10th\n",
            "5      3th\n",
            "6      7th\n",
            "7      3th\n",
            "8      2th\n",
            "9      4th\n",
            "10     6th\n",
            "11     8th\n",
            "12     8th\n",
            "13     2th\n",
            "14     1th\n",
            "15     6th\n",
            "16     9th\n",
            "17     4th\n",
            "18     4th\n",
            "19    10th\n",
            "20     3th\n",
            "21     5th\n",
            "22     7th\n",
            "23     5th\n",
            "24    10th\n",
            "25     1th\n",
            "26     6th\n",
            "27     5th\n",
            "28     7th\n",
            "29     8th\n",
            "dtype: category\n",
            "Categories (10, object): ['1th' < '2th' < '3th' < '4th' ... '7th' < '8th' < '9th' < '10th']\n"
          ]
        }
      ]
    },
    {
      "cell_type": "code",
      "source": [
        "# n11\n",
        "\n",
        "import pandas as pd\n",
        "\n",
        "ser = pd.Series(np.random.randint(1, 10, 35))\n",
        "\n",
        "reshaped_array = ser.values.reshape(7, 5)\n",
        "\n",
        "df = pd.DataFrame(reshaped_array)\n",
        "\n",
        "df"
      ],
      "metadata": {
        "colab": {
          "base_uri": "https://localhost:8080/",
          "height": 269
        },
        "id": "FMa6gZ35t_dY",
        "outputId": "29ebcb2b-aa37-4403-ad27-758998cc6378"
      },
      "execution_count": null,
      "outputs": [
        {
          "output_type": "execute_result",
          "data": {
            "text/plain": [
              "   0  1  2  3  4\n",
              "0  8  4  1  5  6\n",
              "1  5  8  8  4  8\n",
              "2  1  4  4  5  8\n",
              "3  7  4  7  4  9\n",
              "4  2  6  1  5  3\n",
              "5  7  3  1  8  8\n",
              "6  1  7  9  9  8"
            ],
            "text/html": [
              "\n",
              "  <div id=\"df-4ca1b376-c541-413b-aa5d-0be9bfd7a876\" class=\"colab-df-container\">\n",
              "    <div>\n",
              "<style scoped>\n",
              "    .dataframe tbody tr th:only-of-type {\n",
              "        vertical-align: middle;\n",
              "    }\n",
              "\n",
              "    .dataframe tbody tr th {\n",
              "        vertical-align: top;\n",
              "    }\n",
              "\n",
              "    .dataframe thead th {\n",
              "        text-align: right;\n",
              "    }\n",
              "</style>\n",
              "<table border=\"1\" class=\"dataframe\">\n",
              "  <thead>\n",
              "    <tr style=\"text-align: right;\">\n",
              "      <th></th>\n",
              "      <th>0</th>\n",
              "      <th>1</th>\n",
              "      <th>2</th>\n",
              "      <th>3</th>\n",
              "      <th>4</th>\n",
              "    </tr>\n",
              "  </thead>\n",
              "  <tbody>\n",
              "    <tr>\n",
              "      <th>0</th>\n",
              "      <td>8</td>\n",
              "      <td>4</td>\n",
              "      <td>1</td>\n",
              "      <td>5</td>\n",
              "      <td>6</td>\n",
              "    </tr>\n",
              "    <tr>\n",
              "      <th>1</th>\n",
              "      <td>5</td>\n",
              "      <td>8</td>\n",
              "      <td>8</td>\n",
              "      <td>4</td>\n",
              "      <td>8</td>\n",
              "    </tr>\n",
              "    <tr>\n",
              "      <th>2</th>\n",
              "      <td>1</td>\n",
              "      <td>4</td>\n",
              "      <td>4</td>\n",
              "      <td>5</td>\n",
              "      <td>8</td>\n",
              "    </tr>\n",
              "    <tr>\n",
              "      <th>3</th>\n",
              "      <td>7</td>\n",
              "      <td>4</td>\n",
              "      <td>7</td>\n",
              "      <td>4</td>\n",
              "      <td>9</td>\n",
              "    </tr>\n",
              "    <tr>\n",
              "      <th>4</th>\n",
              "      <td>2</td>\n",
              "      <td>6</td>\n",
              "      <td>1</td>\n",
              "      <td>5</td>\n",
              "      <td>3</td>\n",
              "    </tr>\n",
              "    <tr>\n",
              "      <th>5</th>\n",
              "      <td>7</td>\n",
              "      <td>3</td>\n",
              "      <td>1</td>\n",
              "      <td>8</td>\n",
              "      <td>8</td>\n",
              "    </tr>\n",
              "    <tr>\n",
              "      <th>6</th>\n",
              "      <td>1</td>\n",
              "      <td>7</td>\n",
              "      <td>9</td>\n",
              "      <td>9</td>\n",
              "      <td>8</td>\n",
              "    </tr>\n",
              "  </tbody>\n",
              "</table>\n",
              "</div>\n",
              "    <div class=\"colab-df-buttons\">\n",
              "\n",
              "  <div class=\"colab-df-container\">\n",
              "    <button class=\"colab-df-convert\" onclick=\"convertToInteractive('df-4ca1b376-c541-413b-aa5d-0be9bfd7a876')\"\n",
              "            title=\"Convert this dataframe to an interactive table.\"\n",
              "            style=\"display:none;\">\n",
              "\n",
              "  <svg xmlns=\"http://www.w3.org/2000/svg\" height=\"24px\" viewBox=\"0 -960 960 960\">\n",
              "    <path d=\"M120-120v-720h720v720H120Zm60-500h600v-160H180v160Zm220 220h160v-160H400v160Zm0 220h160v-160H400v160ZM180-400h160v-160H180v160Zm440 0h160v-160H620v160ZM180-180h160v-160H180v160Zm440 0h160v-160H620v160Z\"/>\n",
              "  </svg>\n",
              "    </button>\n",
              "\n",
              "  <style>\n",
              "    .colab-df-container {\n",
              "      display:flex;\n",
              "      gap: 12px;\n",
              "    }\n",
              "\n",
              "    .colab-df-convert {\n",
              "      background-color: #E8F0FE;\n",
              "      border: none;\n",
              "      border-radius: 50%;\n",
              "      cursor: pointer;\n",
              "      display: none;\n",
              "      fill: #1967D2;\n",
              "      height: 32px;\n",
              "      padding: 0 0 0 0;\n",
              "      width: 32px;\n",
              "    }\n",
              "\n",
              "    .colab-df-convert:hover {\n",
              "      background-color: #E2EBFA;\n",
              "      box-shadow: 0px 1px 2px rgba(60, 64, 67, 0.3), 0px 1px 3px 1px rgba(60, 64, 67, 0.15);\n",
              "      fill: #174EA6;\n",
              "    }\n",
              "\n",
              "    .colab-df-buttons div {\n",
              "      margin-bottom: 4px;\n",
              "    }\n",
              "\n",
              "    [theme=dark] .colab-df-convert {\n",
              "      background-color: #3B4455;\n",
              "      fill: #D2E3FC;\n",
              "    }\n",
              "\n",
              "    [theme=dark] .colab-df-convert:hover {\n",
              "      background-color: #434B5C;\n",
              "      box-shadow: 0px 1px 3px 1px rgba(0, 0, 0, 0.15);\n",
              "      filter: drop-shadow(0px 1px 2px rgba(0, 0, 0, 0.3));\n",
              "      fill: #FFFFFF;\n",
              "    }\n",
              "  </style>\n",
              "\n",
              "    <script>\n",
              "      const buttonEl =\n",
              "        document.querySelector('#df-4ca1b376-c541-413b-aa5d-0be9bfd7a876 button.colab-df-convert');\n",
              "      buttonEl.style.display =\n",
              "        google.colab.kernel.accessAllowed ? 'block' : 'none';\n",
              "\n",
              "      async function convertToInteractive(key) {\n",
              "        const element = document.querySelector('#df-4ca1b376-c541-413b-aa5d-0be9bfd7a876');\n",
              "        const dataTable =\n",
              "          await google.colab.kernel.invokeFunction('convertToInteractive',\n",
              "                                                    [key], {});\n",
              "        if (!dataTable) return;\n",
              "\n",
              "        const docLinkHtml = 'Like what you see? Visit the ' +\n",
              "          '<a target=\"_blank\" href=https://colab.research.google.com/notebooks/data_table.ipynb>data table notebook</a>'\n",
              "          + ' to learn more about interactive tables.';\n",
              "        element.innerHTML = '';\n",
              "        dataTable['output_type'] = 'display_data';\n",
              "        await google.colab.output.renderOutput(dataTable, element);\n",
              "        const docLink = document.createElement('div');\n",
              "        docLink.innerHTML = docLinkHtml;\n",
              "        element.appendChild(docLink);\n",
              "      }\n",
              "    </script>\n",
              "  </div>\n",
              "\n",
              "\n",
              "<div id=\"df-1a2a9db3-4ddf-47cd-b08b-ae32e40004a6\">\n",
              "  <button class=\"colab-df-quickchart\" onclick=\"quickchart('df-1a2a9db3-4ddf-47cd-b08b-ae32e40004a6')\"\n",
              "            title=\"Suggest charts\"\n",
              "            style=\"display:none;\">\n",
              "\n",
              "<svg xmlns=\"http://www.w3.org/2000/svg\" height=\"24px\"viewBox=\"0 0 24 24\"\n",
              "     width=\"24px\">\n",
              "    <g>\n",
              "        <path d=\"M19 3H5c-1.1 0-2 .9-2 2v14c0 1.1.9 2 2 2h14c1.1 0 2-.9 2-2V5c0-1.1-.9-2-2-2zM9 17H7v-7h2v7zm4 0h-2V7h2v10zm4 0h-2v-4h2v4z\"/>\n",
              "    </g>\n",
              "</svg>\n",
              "  </button>\n",
              "\n",
              "<style>\n",
              "  .colab-df-quickchart {\n",
              "      --bg-color: #E8F0FE;\n",
              "      --fill-color: #1967D2;\n",
              "      --hover-bg-color: #E2EBFA;\n",
              "      --hover-fill-color: #174EA6;\n",
              "      --disabled-fill-color: #AAA;\n",
              "      --disabled-bg-color: #DDD;\n",
              "  }\n",
              "\n",
              "  [theme=dark] .colab-df-quickchart {\n",
              "      --bg-color: #3B4455;\n",
              "      --fill-color: #D2E3FC;\n",
              "      --hover-bg-color: #434B5C;\n",
              "      --hover-fill-color: #FFFFFF;\n",
              "      --disabled-bg-color: #3B4455;\n",
              "      --disabled-fill-color: #666;\n",
              "  }\n",
              "\n",
              "  .colab-df-quickchart {\n",
              "    background-color: var(--bg-color);\n",
              "    border: none;\n",
              "    border-radius: 50%;\n",
              "    cursor: pointer;\n",
              "    display: none;\n",
              "    fill: var(--fill-color);\n",
              "    height: 32px;\n",
              "    padding: 0;\n",
              "    width: 32px;\n",
              "  }\n",
              "\n",
              "  .colab-df-quickchart:hover {\n",
              "    background-color: var(--hover-bg-color);\n",
              "    box-shadow: 0 1px 2px rgba(60, 64, 67, 0.3), 0 1px 3px 1px rgba(60, 64, 67, 0.15);\n",
              "    fill: var(--button-hover-fill-color);\n",
              "  }\n",
              "\n",
              "  .colab-df-quickchart-complete:disabled,\n",
              "  .colab-df-quickchart-complete:disabled:hover {\n",
              "    background-color: var(--disabled-bg-color);\n",
              "    fill: var(--disabled-fill-color);\n",
              "    box-shadow: none;\n",
              "  }\n",
              "\n",
              "  .colab-df-spinner {\n",
              "    border: 2px solid var(--fill-color);\n",
              "    border-color: transparent;\n",
              "    border-bottom-color: var(--fill-color);\n",
              "    animation:\n",
              "      spin 1s steps(1) infinite;\n",
              "  }\n",
              "\n",
              "  @keyframes spin {\n",
              "    0% {\n",
              "      border-color: transparent;\n",
              "      border-bottom-color: var(--fill-color);\n",
              "      border-left-color: var(--fill-color);\n",
              "    }\n",
              "    20% {\n",
              "      border-color: transparent;\n",
              "      border-left-color: var(--fill-color);\n",
              "      border-top-color: var(--fill-color);\n",
              "    }\n",
              "    30% {\n",
              "      border-color: transparent;\n",
              "      border-left-color: var(--fill-color);\n",
              "      border-top-color: var(--fill-color);\n",
              "      border-right-color: var(--fill-color);\n",
              "    }\n",
              "    40% {\n",
              "      border-color: transparent;\n",
              "      border-right-color: var(--fill-color);\n",
              "      border-top-color: var(--fill-color);\n",
              "    }\n",
              "    60% {\n",
              "      border-color: transparent;\n",
              "      border-right-color: var(--fill-color);\n",
              "    }\n",
              "    80% {\n",
              "      border-color: transparent;\n",
              "      border-right-color: var(--fill-color);\n",
              "      border-bottom-color: var(--fill-color);\n",
              "    }\n",
              "    90% {\n",
              "      border-color: transparent;\n",
              "      border-bottom-color: var(--fill-color);\n",
              "    }\n",
              "  }\n",
              "</style>\n",
              "\n",
              "  <script>\n",
              "    async function quickchart(key) {\n",
              "      const quickchartButtonEl =\n",
              "        document.querySelector('#' + key + ' button');\n",
              "      quickchartButtonEl.disabled = true;  // To prevent multiple clicks.\n",
              "      quickchartButtonEl.classList.add('colab-df-spinner');\n",
              "      try {\n",
              "        const charts = await google.colab.kernel.invokeFunction(\n",
              "            'suggestCharts', [key], {});\n",
              "      } catch (error) {\n",
              "        console.error('Error during call to suggestCharts:', error);\n",
              "      }\n",
              "      quickchartButtonEl.classList.remove('colab-df-spinner');\n",
              "      quickchartButtonEl.classList.add('colab-df-quickchart-complete');\n",
              "    }\n",
              "    (() => {\n",
              "      let quickchartButtonEl =\n",
              "        document.querySelector('#df-1a2a9db3-4ddf-47cd-b08b-ae32e40004a6 button');\n",
              "      quickchartButtonEl.style.display =\n",
              "        google.colab.kernel.accessAllowed ? 'block' : 'none';\n",
              "    })();\n",
              "  </script>\n",
              "</div>\n",
              "    </div>\n",
              "  </div>\n"
            ],
            "application/vnd.google.colaboratory.intrinsic+json": {
              "type": "dataframe",
              "variable_name": "df",
              "summary": "{\n  \"name\": \"df\",\n  \"rows\": 7,\n  \"fields\": [\n    {\n      \"column\": 0,\n      \"properties\": {\n        \"dtype\": \"number\",\n        \"std\": 3,\n        \"min\": 1,\n        \"max\": 8,\n        \"num_unique_values\": 5,\n        \"samples\": [\n          5,\n          2,\n          1\n        ],\n        \"semantic_type\": \"\",\n        \"description\": \"\"\n      }\n    },\n    {\n      \"column\": 1,\n      \"properties\": {\n        \"dtype\": \"number\",\n        \"std\": 1,\n        \"min\": 3,\n        \"max\": 8,\n        \"num_unique_values\": 5,\n        \"samples\": [\n          8,\n          7,\n          6\n        ],\n        \"semantic_type\": \"\",\n        \"description\": \"\"\n      }\n    },\n    {\n      \"column\": 2,\n      \"properties\": {\n        \"dtype\": \"number\",\n        \"std\": 3,\n        \"min\": 1,\n        \"max\": 9,\n        \"num_unique_values\": 5,\n        \"samples\": [\n          8,\n          9,\n          4\n        ],\n        \"semantic_type\": \"\",\n        \"description\": \"\"\n      }\n    },\n    {\n      \"column\": 3,\n      \"properties\": {\n        \"dtype\": \"number\",\n        \"std\": 1,\n        \"min\": 4,\n        \"max\": 9,\n        \"num_unique_values\": 4,\n        \"samples\": [\n          4,\n          9,\n          5\n        ],\n        \"semantic_type\": \"\",\n        \"description\": \"\"\n      }\n    },\n    {\n      \"column\": 4,\n      \"properties\": {\n        \"dtype\": \"number\",\n        \"std\": 2,\n        \"min\": 3,\n        \"max\": 9,\n        \"num_unique_values\": 4,\n        \"samples\": [\n          8,\n          3,\n          6\n        ],\n        \"semantic_type\": \"\",\n        \"description\": \"\"\n      }\n    }\n  ]\n}"
            }
          },
          "metadata": {},
          "execution_count": 26
        }
      ]
    },
    {
      "cell_type": "code",
      "source": [
        "# n12\n",
        "\n",
        "import pandas as pd\n",
        "\n",
        "ser = pd.Series(np.random.randint(1, 10, 7))\n",
        "\n",
        "positions = ser.index[ser % 3 == 0].tolist()\n",
        "\n",
        "print(\"Позиции чисел, кратных 3:\", positions)"
      ],
      "metadata": {
        "colab": {
          "base_uri": "https://localhost:8080/"
        },
        "id": "lY812Z1lulT5",
        "outputId": "e9421ace-9fdb-47fa-f68b-a8f49a051988"
      },
      "execution_count": null,
      "outputs": [
        {
          "output_type": "stream",
          "name": "stdout",
          "text": [
            "Позиции чисел, кратных 3: [1, 4, 6]\n"
          ]
        }
      ]
    },
    {
      "cell_type": "code",
      "source": [
        "# n13\n",
        "\n",
        "import pandas as pd\n",
        "import numpy as np\n",
        "\n",
        "ser = pd.Series(list('flkflfkflkd'))\n",
        "pos = [1, 2, 4, 5, 8]\n",
        "\n",
        "extracted_elem = ser.iloc[pos]\n",
        "\n",
        "extracted_elem"
      ],
      "metadata": {
        "colab": {
          "base_uri": "https://localhost:8080/",
          "height": 241
        },
        "id": "0CJGMRIbvLJZ",
        "outputId": "5da391b3-a256-4523-f955-f1dfa00fc193"
      },
      "execution_count": null,
      "outputs": [
        {
          "output_type": "execute_result",
          "data": {
            "text/plain": [
              "1    l\n",
              "2    k\n",
              "4    l\n",
              "5    f\n",
              "8    l\n",
              "dtype: object"
            ],
            "text/html": [
              "<div>\n",
              "<style scoped>\n",
              "    .dataframe tbody tr th:only-of-type {\n",
              "        vertical-align: middle;\n",
              "    }\n",
              "\n",
              "    .dataframe tbody tr th {\n",
              "        vertical-align: top;\n",
              "    }\n",
              "\n",
              "    .dataframe thead th {\n",
              "        text-align: right;\n",
              "    }\n",
              "</style>\n",
              "<table border=\"1\" class=\"dataframe\">\n",
              "  <thead>\n",
              "    <tr style=\"text-align: right;\">\n",
              "      <th></th>\n",
              "      <th>0</th>\n",
              "    </tr>\n",
              "  </thead>\n",
              "  <tbody>\n",
              "    <tr>\n",
              "      <th>1</th>\n",
              "      <td>l</td>\n",
              "    </tr>\n",
              "    <tr>\n",
              "      <th>2</th>\n",
              "      <td>k</td>\n",
              "    </tr>\n",
              "    <tr>\n",
              "      <th>4</th>\n",
              "      <td>l</td>\n",
              "    </tr>\n",
              "    <tr>\n",
              "      <th>5</th>\n",
              "      <td>f</td>\n",
              "    </tr>\n",
              "    <tr>\n",
              "      <th>8</th>\n",
              "      <td>l</td>\n",
              "    </tr>\n",
              "  </tbody>\n",
              "</table>\n",
              "</div><br><label><b>dtype:</b> object</label>"
            ]
          },
          "metadata": {},
          "execution_count": 34
        }
      ]
    },
    {
      "cell_type": "code",
      "source": [
        "# n14\n",
        "\n",
        "import pandas as pd\n",
        "import numpy as np\n",
        "\n",
        "ser1 = pd.Series(range(10))\n",
        "ser2 = pd.Series(list('abcdejokf'))\n",
        "\n",
        "df = pd.concat([ser1, ser2], axis=1)\n",
        "\n",
        "df"
      ],
      "metadata": {
        "colab": {
          "base_uri": "https://localhost:8080/",
          "height": 363
        },
        "id": "tp9mIJE4vL95",
        "outputId": "9b103d65-5017-4f66-d889-df4641d3e88d"
      },
      "execution_count": null,
      "outputs": [
        {
          "output_type": "execute_result",
          "data": {
            "text/plain": [
              "   0    1\n",
              "0  0    a\n",
              "1  1    b\n",
              "2  2    c\n",
              "3  3    d\n",
              "4  4    e\n",
              "5  5    j\n",
              "6  6    o\n",
              "7  7    k\n",
              "8  8    f\n",
              "9  9  NaN"
            ],
            "text/html": [
              "\n",
              "  <div id=\"df-c8134c3b-643c-416f-9b39-c4cde77951d7\" class=\"colab-df-container\">\n",
              "    <div>\n",
              "<style scoped>\n",
              "    .dataframe tbody tr th:only-of-type {\n",
              "        vertical-align: middle;\n",
              "    }\n",
              "\n",
              "    .dataframe tbody tr th {\n",
              "        vertical-align: top;\n",
              "    }\n",
              "\n",
              "    .dataframe thead th {\n",
              "        text-align: right;\n",
              "    }\n",
              "</style>\n",
              "<table border=\"1\" class=\"dataframe\">\n",
              "  <thead>\n",
              "    <tr style=\"text-align: right;\">\n",
              "      <th></th>\n",
              "      <th>0</th>\n",
              "      <th>1</th>\n",
              "    </tr>\n",
              "  </thead>\n",
              "  <tbody>\n",
              "    <tr>\n",
              "      <th>0</th>\n",
              "      <td>0</td>\n",
              "      <td>a</td>\n",
              "    </tr>\n",
              "    <tr>\n",
              "      <th>1</th>\n",
              "      <td>1</td>\n",
              "      <td>b</td>\n",
              "    </tr>\n",
              "    <tr>\n",
              "      <th>2</th>\n",
              "      <td>2</td>\n",
              "      <td>c</td>\n",
              "    </tr>\n",
              "    <tr>\n",
              "      <th>3</th>\n",
              "      <td>3</td>\n",
              "      <td>d</td>\n",
              "    </tr>\n",
              "    <tr>\n",
              "      <th>4</th>\n",
              "      <td>4</td>\n",
              "      <td>e</td>\n",
              "    </tr>\n",
              "    <tr>\n",
              "      <th>5</th>\n",
              "      <td>5</td>\n",
              "      <td>j</td>\n",
              "    </tr>\n",
              "    <tr>\n",
              "      <th>6</th>\n",
              "      <td>6</td>\n",
              "      <td>o</td>\n",
              "    </tr>\n",
              "    <tr>\n",
              "      <th>7</th>\n",
              "      <td>7</td>\n",
              "      <td>k</td>\n",
              "    </tr>\n",
              "    <tr>\n",
              "      <th>8</th>\n",
              "      <td>8</td>\n",
              "      <td>f</td>\n",
              "    </tr>\n",
              "    <tr>\n",
              "      <th>9</th>\n",
              "      <td>9</td>\n",
              "      <td>NaN</td>\n",
              "    </tr>\n",
              "  </tbody>\n",
              "</table>\n",
              "</div>\n",
              "    <div class=\"colab-df-buttons\">\n",
              "\n",
              "  <div class=\"colab-df-container\">\n",
              "    <button class=\"colab-df-convert\" onclick=\"convertToInteractive('df-c8134c3b-643c-416f-9b39-c4cde77951d7')\"\n",
              "            title=\"Convert this dataframe to an interactive table.\"\n",
              "            style=\"display:none;\">\n",
              "\n",
              "  <svg xmlns=\"http://www.w3.org/2000/svg\" height=\"24px\" viewBox=\"0 -960 960 960\">\n",
              "    <path d=\"M120-120v-720h720v720H120Zm60-500h600v-160H180v160Zm220 220h160v-160H400v160Zm0 220h160v-160H400v160ZM180-400h160v-160H180v160Zm440 0h160v-160H620v160ZM180-180h160v-160H180v160Zm440 0h160v-160H620v160Z\"/>\n",
              "  </svg>\n",
              "    </button>\n",
              "\n",
              "  <style>\n",
              "    .colab-df-container {\n",
              "      display:flex;\n",
              "      gap: 12px;\n",
              "    }\n",
              "\n",
              "    .colab-df-convert {\n",
              "      background-color: #E8F0FE;\n",
              "      border: none;\n",
              "      border-radius: 50%;\n",
              "      cursor: pointer;\n",
              "      display: none;\n",
              "      fill: #1967D2;\n",
              "      height: 32px;\n",
              "      padding: 0 0 0 0;\n",
              "      width: 32px;\n",
              "    }\n",
              "\n",
              "    .colab-df-convert:hover {\n",
              "      background-color: #E2EBFA;\n",
              "      box-shadow: 0px 1px 2px rgba(60, 64, 67, 0.3), 0px 1px 3px 1px rgba(60, 64, 67, 0.15);\n",
              "      fill: #174EA6;\n",
              "    }\n",
              "\n",
              "    .colab-df-buttons div {\n",
              "      margin-bottom: 4px;\n",
              "    }\n",
              "\n",
              "    [theme=dark] .colab-df-convert {\n",
              "      background-color: #3B4455;\n",
              "      fill: #D2E3FC;\n",
              "    }\n",
              "\n",
              "    [theme=dark] .colab-df-convert:hover {\n",
              "      background-color: #434B5C;\n",
              "      box-shadow: 0px 1px 3px 1px rgba(0, 0, 0, 0.15);\n",
              "      filter: drop-shadow(0px 1px 2px rgba(0, 0, 0, 0.3));\n",
              "      fill: #FFFFFF;\n",
              "    }\n",
              "  </style>\n",
              "\n",
              "    <script>\n",
              "      const buttonEl =\n",
              "        document.querySelector('#df-c8134c3b-643c-416f-9b39-c4cde77951d7 button.colab-df-convert');\n",
              "      buttonEl.style.display =\n",
              "        google.colab.kernel.accessAllowed ? 'block' : 'none';\n",
              "\n",
              "      async function convertToInteractive(key) {\n",
              "        const element = document.querySelector('#df-c8134c3b-643c-416f-9b39-c4cde77951d7');\n",
              "        const dataTable =\n",
              "          await google.colab.kernel.invokeFunction('convertToInteractive',\n",
              "                                                    [key], {});\n",
              "        if (!dataTable) return;\n",
              "\n",
              "        const docLinkHtml = 'Like what you see? Visit the ' +\n",
              "          '<a target=\"_blank\" href=https://colab.research.google.com/notebooks/data_table.ipynb>data table notebook</a>'\n",
              "          + ' to learn more about interactive tables.';\n",
              "        element.innerHTML = '';\n",
              "        dataTable['output_type'] = 'display_data';\n",
              "        await google.colab.output.renderOutput(dataTable, element);\n",
              "        const docLink = document.createElement('div');\n",
              "        docLink.innerHTML = docLinkHtml;\n",
              "        element.appendChild(docLink);\n",
              "      }\n",
              "    </script>\n",
              "  </div>\n",
              "\n",
              "\n",
              "<div id=\"df-fe7270aa-6d62-49a7-b7af-bc42194281c4\">\n",
              "  <button class=\"colab-df-quickchart\" onclick=\"quickchart('df-fe7270aa-6d62-49a7-b7af-bc42194281c4')\"\n",
              "            title=\"Suggest charts\"\n",
              "            style=\"display:none;\">\n",
              "\n",
              "<svg xmlns=\"http://www.w3.org/2000/svg\" height=\"24px\"viewBox=\"0 0 24 24\"\n",
              "     width=\"24px\">\n",
              "    <g>\n",
              "        <path d=\"M19 3H5c-1.1 0-2 .9-2 2v14c0 1.1.9 2 2 2h14c1.1 0 2-.9 2-2V5c0-1.1-.9-2-2-2zM9 17H7v-7h2v7zm4 0h-2V7h2v10zm4 0h-2v-4h2v4z\"/>\n",
              "    </g>\n",
              "</svg>\n",
              "  </button>\n",
              "\n",
              "<style>\n",
              "  .colab-df-quickchart {\n",
              "      --bg-color: #E8F0FE;\n",
              "      --fill-color: #1967D2;\n",
              "      --hover-bg-color: #E2EBFA;\n",
              "      --hover-fill-color: #174EA6;\n",
              "      --disabled-fill-color: #AAA;\n",
              "      --disabled-bg-color: #DDD;\n",
              "  }\n",
              "\n",
              "  [theme=dark] .colab-df-quickchart {\n",
              "      --bg-color: #3B4455;\n",
              "      --fill-color: #D2E3FC;\n",
              "      --hover-bg-color: #434B5C;\n",
              "      --hover-fill-color: #FFFFFF;\n",
              "      --disabled-bg-color: #3B4455;\n",
              "      --disabled-fill-color: #666;\n",
              "  }\n",
              "\n",
              "  .colab-df-quickchart {\n",
              "    background-color: var(--bg-color);\n",
              "    border: none;\n",
              "    border-radius: 50%;\n",
              "    cursor: pointer;\n",
              "    display: none;\n",
              "    fill: var(--fill-color);\n",
              "    height: 32px;\n",
              "    padding: 0;\n",
              "    width: 32px;\n",
              "  }\n",
              "\n",
              "  .colab-df-quickchart:hover {\n",
              "    background-color: var(--hover-bg-color);\n",
              "    box-shadow: 0 1px 2px rgba(60, 64, 67, 0.3), 0 1px 3px 1px rgba(60, 64, 67, 0.15);\n",
              "    fill: var(--button-hover-fill-color);\n",
              "  }\n",
              "\n",
              "  .colab-df-quickchart-complete:disabled,\n",
              "  .colab-df-quickchart-complete:disabled:hover {\n",
              "    background-color: var(--disabled-bg-color);\n",
              "    fill: var(--disabled-fill-color);\n",
              "    box-shadow: none;\n",
              "  }\n",
              "\n",
              "  .colab-df-spinner {\n",
              "    border: 2px solid var(--fill-color);\n",
              "    border-color: transparent;\n",
              "    border-bottom-color: var(--fill-color);\n",
              "    animation:\n",
              "      spin 1s steps(1) infinite;\n",
              "  }\n",
              "\n",
              "  @keyframes spin {\n",
              "    0% {\n",
              "      border-color: transparent;\n",
              "      border-bottom-color: var(--fill-color);\n",
              "      border-left-color: var(--fill-color);\n",
              "    }\n",
              "    20% {\n",
              "      border-color: transparent;\n",
              "      border-left-color: var(--fill-color);\n",
              "      border-top-color: var(--fill-color);\n",
              "    }\n",
              "    30% {\n",
              "      border-color: transparent;\n",
              "      border-left-color: var(--fill-color);\n",
              "      border-top-color: var(--fill-color);\n",
              "      border-right-color: var(--fill-color);\n",
              "    }\n",
              "    40% {\n",
              "      border-color: transparent;\n",
              "      border-right-color: var(--fill-color);\n",
              "      border-top-color: var(--fill-color);\n",
              "    }\n",
              "    60% {\n",
              "      border-color: transparent;\n",
              "      border-right-color: var(--fill-color);\n",
              "    }\n",
              "    80% {\n",
              "      border-color: transparent;\n",
              "      border-right-color: var(--fill-color);\n",
              "      border-bottom-color: var(--fill-color);\n",
              "    }\n",
              "    90% {\n",
              "      border-color: transparent;\n",
              "      border-bottom-color: var(--fill-color);\n",
              "    }\n",
              "  }\n",
              "</style>\n",
              "\n",
              "  <script>\n",
              "    async function quickchart(key) {\n",
              "      const quickchartButtonEl =\n",
              "        document.querySelector('#' + key + ' button');\n",
              "      quickchartButtonEl.disabled = true;  // To prevent multiple clicks.\n",
              "      quickchartButtonEl.classList.add('colab-df-spinner');\n",
              "      try {\n",
              "        const charts = await google.colab.kernel.invokeFunction(\n",
              "            'suggestCharts', [key], {});\n",
              "      } catch (error) {\n",
              "        console.error('Error during call to suggestCharts:', error);\n",
              "      }\n",
              "      quickchartButtonEl.classList.remove('colab-df-spinner');\n",
              "      quickchartButtonEl.classList.add('colab-df-quickchart-complete');\n",
              "    }\n",
              "    (() => {\n",
              "      let quickchartButtonEl =\n",
              "        document.querySelector('#df-fe7270aa-6d62-49a7-b7af-bc42194281c4 button');\n",
              "      quickchartButtonEl.style.display =\n",
              "        google.colab.kernel.accessAllowed ? 'block' : 'none';\n",
              "    })();\n",
              "  </script>\n",
              "</div>\n",
              "    </div>\n",
              "  </div>\n"
            ],
            "application/vnd.google.colaboratory.intrinsic+json": {
              "type": "dataframe",
              "variable_name": "df",
              "summary": "{\n  \"name\": \"df\",\n  \"rows\": 10,\n  \"fields\": [\n    {\n      \"column\": 0,\n      \"properties\": {\n        \"dtype\": \"number\",\n        \"std\": 3,\n        \"min\": 0,\n        \"max\": 9,\n        \"num_unique_values\": 10,\n        \"samples\": [\n          8,\n          1,\n          5\n        ],\n        \"semantic_type\": \"\",\n        \"description\": \"\"\n      }\n    },\n    {\n      \"column\": 1,\n      \"properties\": {\n        \"dtype\": \"string\",\n        \"num_unique_values\": 9,\n        \"samples\": [\n          \"k\",\n          \"b\",\n          \"j\"\n        ],\n        \"semantic_type\": \"\",\n        \"description\": \"\"\n      }\n    }\n  ]\n}"
            }
          },
          "metadata": {},
          "execution_count": 36
        }
      ]
    },
    {
      "cell_type": "code",
      "source": [
        "# n15\n",
        "\n",
        "ser1 = pd.Series([10, 9, 6, 17, 5, 3, 1, 12, 8, 13])\n",
        "ser2 = pd.Series([1, 3, 10, 13, 17])\n",
        "\n",
        "positions = pd.Index(ser1).get_indexer(ser2)\n",
        "\n",
        "print(\"Позиции элементов ser2 в ser1:\", positions.tolist())"
      ],
      "metadata": {
        "colab": {
          "base_uri": "https://localhost:8080/"
        },
        "id": "9DxfC3lGvfh6",
        "outputId": "dafce0a3-c768-480b-d9fa-51421535b668"
      },
      "execution_count": null,
      "outputs": [
        {
          "output_type": "stream",
          "name": "stdout",
          "text": [
            "Позиции элементов ser2 в ser1: [6, 5, 0, 9, 3]\n"
          ]
        }
      ]
    },
    {
      "cell_type": "code",
      "source": [
        "# n16\n",
        "\n",
        "import pandas as pd\n",
        "import numpy as np\n",
        "\n",
        "truth = pd.Series(range(10))\n",
        "pred = pd.Series(range(10)) + np.random.random(10)\n",
        "\n",
        "mse = ((truth - pred) ** 2).mean()\n",
        "print(\"Среднеквадратическая ошибка (MSE):\", mse)"
      ],
      "metadata": {
        "colab": {
          "base_uri": "https://localhost:8080/"
        },
        "id": "dl8gD_GhwGgR",
        "outputId": "021e1a84-dfdb-4e10-d256-e83d8293ea0e"
      },
      "execution_count": null,
      "outputs": [
        {
          "output_type": "stream",
          "name": "stdout",
          "text": [
            "Среднеквадратическая ошибка (MSE): 0.3659647133258551\n"
          ]
        }
      ]
    },
    {
      "cell_type": "code",
      "source": [
        "# n17\n",
        "\n",
        "import pandas as pd\n",
        "\n",
        "ser = pd.Series(['how', 'to', 'kick', 'ass?'])\n",
        "\n",
        "ser = ser.str.capitalize()\n",
        "print(ser)"
      ],
      "metadata": {
        "colab": {
          "base_uri": "https://localhost:8080/"
        },
        "id": "RHMT2Av7wa5Q",
        "outputId": "c30e7c49-2935-4b69-fbaa-a7a265d77fb3"
      },
      "execution_count": null,
      "outputs": [
        {
          "output_type": "stream",
          "name": "stdout",
          "text": [
            "0     How\n",
            "1      To\n",
            "2    Kick\n",
            "3    Ass?\n",
            "dtype: object\n"
          ]
        }
      ]
    },
    {
      "cell_type": "code",
      "source": [
        "# n18\n",
        "\n",
        "import pandas as pd\n",
        "\n",
        "ser = pd.Series(['how', 'to', 'kick', 'ass?'])\n",
        "\n",
        "ser = ser.str.len()\n",
        "print(ser)"
      ],
      "metadata": {
        "colab": {
          "base_uri": "https://localhost:8080/"
        },
        "id": "8sU8y6MRwhog",
        "outputId": "d485a2d3-d96c-4c4b-e2a6-32c2c6c22d1e"
      },
      "execution_count": null,
      "outputs": [
        {
          "output_type": "stream",
          "name": "stdout",
          "text": [
            "0    3\n",
            "1    2\n",
            "2    4\n",
            "3    4\n",
            "dtype: int64\n"
          ]
        }
      ]
    },
    {
      "cell_type": "code",
      "source": [
        "# n19\n",
        "\n",
        "import pandas as pd\n",
        "\n",
        "ser = pd.Series([1, 3, 6, 10, 15, 21, 27, 35])\n",
        "\n",
        "first_diff = ser.diff()\n",
        "\n",
        "second_diff = first_diff.diff()\n",
        "\n",
        "print(\"Первая разность:\")\n",
        "print(first_diff.tolist())\n",
        "\n",
        "print(\"Вторая разность:\")\n",
        "print(second_diff.tolist())"
      ],
      "metadata": {
        "colab": {
          "base_uri": "https://localhost:8080/"
        },
        "id": "jBx2ZELDwmuY",
        "outputId": "3472a0c0-4d29-450e-8823-252b1512425e"
      },
      "execution_count": null,
      "outputs": [
        {
          "output_type": "stream",
          "name": "stdout",
          "text": [
            "Первая разность:\n",
            "[nan, 2.0, 3.0, 4.0, 5.0, 6.0, 6.0, 8.0]\n",
            "Вторая разность:\n",
            "[nan, nan, 1.0, 1.0, 1.0, 1.0, 0.0, 2.0]\n"
          ]
        }
      ]
    },
    {
      "cell_type": "code",
      "source": [
        "# n20\n",
        "\n",
        "import pandas as pd\n",
        "\n",
        "ser = pd.Series(['01 Jan 2010', '02-02-2011', '20120303', '2013/04/04', '2014-05-05', '2015-06-06T12:20'])\n",
        "\n",
        "ser_datetime = pd.to_datetime(ser, format='mixed')\n",
        "\n",
        "print(ser_datetime)"
      ],
      "metadata": {
        "colab": {
          "base_uri": "https://localhost:8080/"
        },
        "id": "mcCpJqMowpog",
        "outputId": "2758cd21-b2a1-4da0-f4ec-913ca300fbaf"
      },
      "execution_count": null,
      "outputs": [
        {
          "output_type": "stream",
          "name": "stdout",
          "text": [
            "0   2010-01-01 00:00:00\n",
            "1   2011-02-02 00:00:00\n",
            "2   2012-03-03 00:00:00\n",
            "3   2013-04-04 00:00:00\n",
            "4   2014-05-05 00:00:00\n",
            "5   2015-06-06 12:20:00\n",
            "dtype: datetime64[ns]\n"
          ]
        }
      ]
    },
    {
      "cell_type": "code",
      "source": [
        "# n21\n",
        "\n",
        "import pandas as pd\n",
        "\n",
        "ser = pd.Series(['01 Jan 2010', '02-02-2011', '20120303', '2013/04/04', '2014-05-05', '2015-06-06T12:20'])\n",
        "\n",
        "ser_datetime = pd.to_datetime(ser, format='mixed')\n",
        "\n",
        "ser_date = ser_datetime.dt.day\n",
        "ser_week = ser_datetime.dt.isocalendar().week\n",
        "day_of_year = ser_datetime.dt.dayofyear\n",
        "day_of_week = ser_datetime.dt.day_name()\n",
        "\n",
        "result = pd.DataFrame({\n",
        "    'Date': ser_date,\n",
        "    'Week number': ser_week,\n",
        "    'Day num of year': day_of_year,\n",
        "    'Day of week': day_of_week\n",
        "})\n",
        "\n",
        "print(result)"
      ],
      "metadata": {
        "colab": {
          "base_uri": "https://localhost:8080/"
        },
        "id": "Io4JwopEwp3x",
        "outputId": "80a73399-52ad-435d-fd19-70881a45ed47"
      },
      "execution_count": null,
      "outputs": [
        {
          "output_type": "stream",
          "name": "stdout",
          "text": [
            "   Date  Week number  Day num of year Day of week\n",
            "0     1           53                1      Friday\n",
            "1     2            5               33   Wednesday\n",
            "2     3            9               63    Saturday\n",
            "3     4           14               94    Thursday\n",
            "4     5           19              125      Monday\n",
            "5     6           23              157    Saturday\n"
          ]
        }
      ]
    },
    {
      "cell_type": "code",
      "source": [
        "# n22\n",
        "\n",
        "import pandas as pd\n",
        "\n",
        "ser = pd.Series(['Jan 2010', 'Feb 2011', 'Mar 2012'])\n",
        "\n",
        "new_ser = pd.to_datetime(ser.str.replace(r'(\\w{3} \\d{4})', r'04 \\1', regex=True), format=\"mixed\")\n",
        "\n",
        "new_ser"
      ],
      "metadata": {
        "colab": {
          "base_uri": "https://localhost:8080/",
          "height": 178
        },
        "id": "etfhw5ynxqzp",
        "outputId": "8f38dc40-ecdb-44e5-e2fc-ef016eb84fdc"
      },
      "execution_count": null,
      "outputs": [
        {
          "output_type": "execute_result",
          "data": {
            "text/plain": [
              "0   2010-01-04\n",
              "1   2011-02-04\n",
              "2   2012-03-04\n",
              "dtype: datetime64[ns]"
            ],
            "text/html": [
              "<div>\n",
              "<style scoped>\n",
              "    .dataframe tbody tr th:only-of-type {\n",
              "        vertical-align: middle;\n",
              "    }\n",
              "\n",
              "    .dataframe tbody tr th {\n",
              "        vertical-align: top;\n",
              "    }\n",
              "\n",
              "    .dataframe thead th {\n",
              "        text-align: right;\n",
              "    }\n",
              "</style>\n",
              "<table border=\"1\" class=\"dataframe\">\n",
              "  <thead>\n",
              "    <tr style=\"text-align: right;\">\n",
              "      <th></th>\n",
              "      <th>0</th>\n",
              "    </tr>\n",
              "  </thead>\n",
              "  <tbody>\n",
              "    <tr>\n",
              "      <th>0</th>\n",
              "      <td>2010-01-04</td>\n",
              "    </tr>\n",
              "    <tr>\n",
              "      <th>1</th>\n",
              "      <td>2011-02-04</td>\n",
              "    </tr>\n",
              "    <tr>\n",
              "      <th>2</th>\n",
              "      <td>2012-03-04</td>\n",
              "    </tr>\n",
              "  </tbody>\n",
              "</table>\n",
              "</div><br><label><b>dtype:</b> datetime64[ns]</label>"
            ]
          },
          "metadata": {},
          "execution_count": 54
        }
      ]
    },
    {
      "cell_type": "code",
      "source": [
        "# n23\n",
        "\n",
        "import pandas as pd\n",
        "\n",
        "ser = pd.Series(['Apple', 'Orange', 'Plan', 'Python', 'Money'])\n",
        "\n",
        "def has_at_least_two_vowels(word):\n",
        "    vowels = set(\"aeiouAEIOU\")\n",
        "    return sum(1 for char in word if char in vowels) >= 2\n",
        "\n",
        "result = ser[ser.apply(has_at_least_two_vowels)]\n",
        "\n",
        "print(result)"
      ],
      "metadata": {
        "colab": {
          "base_uri": "https://localhost:8080/"
        },
        "id": "kMRQ9Z6Pz_IJ",
        "outputId": "939aad9c-cb47-4cd3-9540-a95688717670"
      },
      "execution_count": null,
      "outputs": [
        {
          "output_type": "stream",
          "name": "stdout",
          "text": [
            "0     Apple\n",
            "1    Orange\n",
            "4     Money\n",
            "dtype: object\n"
          ]
        }
      ]
    },
    {
      "cell_type": "code",
      "source": [
        "# n24\n",
        "\n",
        "import pandas as pd\n",
        "\n",
        "emails = pd.Series(['buying books at amazon.com', 'rameses@egypt.com', 'matt@t.co', 'narendra@modi.com'])\n",
        "\n",
        "pattern = r'[A-Za-z0-9_%+-]+@[A-Za-z0-9.-]+\\.[A-Za-z]{2,4}'\n",
        "\n",
        "valid_emails = emails[emails.str.contains(pattern, na=False, regex=True)]\n",
        "\n",
        "print(valid_emails)"
      ],
      "metadata": {
        "colab": {
          "base_uri": "https://localhost:8080/"
        },
        "id": "tT3sp-n40IQw",
        "outputId": "132d08b5-b952-4e81-86a4-751f6d940a11"
      },
      "execution_count": null,
      "outputs": [
        {
          "output_type": "stream",
          "name": "stdout",
          "text": [
            "1    rameses@egypt.com\n",
            "2            matt@t.co\n",
            "3    narendra@modi.com\n",
            "dtype: object\n"
          ]
        }
      ]
    },
    {
      "cell_type": "code",
      "source": [
        "# n25\n",
        "\n",
        "import pandas as pd\n",
        "import numpy as np\n",
        "\n",
        "fruit = pd.Series(np.random.choice(['apple', 'banana', 'carrot'], 10))\n",
        "weights = pd.Series(np.linspace(1, 10, 10))\n",
        "print(weights.tolist())\n",
        "print(fruit.tolist())\n",
        "\n",
        "df = pd.DataFrame({\"Fruit\": fruit, \"Weight\": weights})\n",
        "\n",
        "meam_weights = df.groupby('Fruit')['Weight'].mean()\n",
        "\n",
        "meam_weights"
      ],
      "metadata": {
        "colab": {
          "base_uri": "https://localhost:8080/",
          "height": 244
        },
        "id": "ptV0qwy60Rlo",
        "outputId": "94fa67a1-5829-4087-9394-efc1a7807d64"
      },
      "execution_count": null,
      "outputs": [
        {
          "output_type": "stream",
          "name": "stdout",
          "text": [
            "[1.0, 2.0, 3.0, 4.0, 5.0, 6.0, 7.0, 8.0, 9.0, 10.0]\n",
            "['banana', 'banana', 'carrot', 'carrot', 'carrot', 'banana', 'carrot', 'apple', 'banana', 'apple']\n"
          ]
        },
        {
          "output_type": "execute_result",
          "data": {
            "text/plain": [
              "Fruit\n",
              "apple     9.00\n",
              "banana    4.50\n",
              "carrot    4.75\n",
              "Name: Weight, dtype: float64"
            ],
            "text/html": [
              "<div>\n",
              "<style scoped>\n",
              "    .dataframe tbody tr th:only-of-type {\n",
              "        vertical-align: middle;\n",
              "    }\n",
              "\n",
              "    .dataframe tbody tr th {\n",
              "        vertical-align: top;\n",
              "    }\n",
              "\n",
              "    .dataframe thead th {\n",
              "        text-align: right;\n",
              "    }\n",
              "</style>\n",
              "<table border=\"1\" class=\"dataframe\">\n",
              "  <thead>\n",
              "    <tr style=\"text-align: right;\">\n",
              "      <th></th>\n",
              "      <th>Weight</th>\n",
              "    </tr>\n",
              "    <tr>\n",
              "      <th>Fruit</th>\n",
              "      <th></th>\n",
              "    </tr>\n",
              "  </thead>\n",
              "  <tbody>\n",
              "    <tr>\n",
              "      <th>apple</th>\n",
              "      <td>9.00</td>\n",
              "    </tr>\n",
              "    <tr>\n",
              "      <th>banana</th>\n",
              "      <td>4.50</td>\n",
              "    </tr>\n",
              "    <tr>\n",
              "      <th>carrot</th>\n",
              "      <td>4.75</td>\n",
              "    </tr>\n",
              "  </tbody>\n",
              "</table>\n",
              "</div><br><label><b>dtype:</b> float64</label>"
            ]
          },
          "metadata": {},
          "execution_count": 57
        }
      ]
    },
    {
      "cell_type": "code",
      "source": [
        "# n26\n",
        "\n",
        "import pandas as pd\n",
        "import numpy as np\n",
        "\n",
        "p = pd.Series([1, 2, 3, 4, 5, 6, 7, 8, 9, 10, 11])\n",
        "q = pd.Series([11, 10, 9, 8, 7, 6, 5, 4, 3, 2, 1])\n",
        "\n",
        "distance = np.sqrt(np.sum((p - q) ** 2))\n",
        "\n",
        "distance = round(distance, 3)\n",
        "\n",
        "print(distance)"
      ],
      "metadata": {
        "colab": {
          "base_uri": "https://localhost:8080/"
        },
        "id": "d0asy4CR0bh_",
        "outputId": "3bcfc097-8810-4b2d-c8e3-54e99794fdb9"
      },
      "execution_count": null,
      "outputs": [
        {
          "output_type": "stream",
          "name": "stdout",
          "text": [
            "20.976\n"
          ]
        }
      ]
    },
    {
      "cell_type": "code",
      "source": [
        "# n27\n",
        "\n",
        "import pandas as pd\n",
        "import numpy as np\n",
        "\n",
        "ser = pd.Series([2, 10, 3, 4, 9, 10, 2, 7, 3])\n",
        "\n",
        "peaks = np.where((ser.shift(1) < ser) & (ser.shift(-1) < ser))[0]\n",
        "\n",
        "print(peaks)"
      ],
      "metadata": {
        "colab": {
          "base_uri": "https://localhost:8080/"
        },
        "id": "mVSw1XRR0gvQ",
        "outputId": "929fc561-8ea8-474b-e6b9-e7e24909c611"
      },
      "execution_count": null,
      "outputs": [
        {
          "output_type": "stream",
          "name": "stdout",
          "text": [
            "[1 5 7]\n"
          ]
        }
      ]
    },
    {
      "cell_type": "code",
      "source": [
        "# n28\n",
        "\n",
        "import pandas as pd\n",
        "\n",
        "my_str = 'dbc deb abed gade'\n",
        "\n",
        "ser = pd.Series(list(my_str))\n",
        "\n",
        "char_counts = ser.value_counts()\n",
        "\n",
        "least_frequent_char = char_counts[char_counts.index != ' '].idxmin()\n",
        "\n",
        "result = ''.join(ser.replace(' ', least_frequent_char))\n",
        "\n",
        "print(result)"
      ],
      "metadata": {
        "colab": {
          "base_uri": "https://localhost:8080/"
        },
        "id": "8QgSQ4BF0kaY",
        "outputId": "f9bdfcfd-93fe-4545-c0c7-26f956717715"
      },
      "execution_count": null,
      "outputs": [
        {
          "output_type": "stream",
          "name": "stdout",
          "text": [
            "dbccdebcabedcgade\n"
          ]
        }
      ]
    },
    {
      "cell_type": "code",
      "source": [
        "# n29\n",
        "\n",
        "import pandas as pd\n",
        "import random\n",
        "\n",
        "date = ['2000-01-01', '2000-01-08', '2000-01-15', '2000-01-22', '2000-01-29', '2000-02-05', '2000-02-12', '2000-02-19', '2000-02-26', '2000-03-04']\n",
        "rand = [random.randint(1, 10) for i in range(10)]\n",
        "\n",
        "df = pd.DataFrame({'Datetime': date, \"Random\": rand})\n",
        "\n",
        "df"
      ],
      "metadata": {
        "colab": {
          "base_uri": "https://localhost:8080/",
          "height": 363
        },
        "id": "GN1D2rBa0lvX",
        "outputId": "d75db515-db6a-4da5-c1d1-080effb0a96c"
      },
      "execution_count": null,
      "outputs": [
        {
          "output_type": "execute_result",
          "data": {
            "text/plain": [
              "     Datetime  Random\n",
              "0  2000-01-01       4\n",
              "1  2000-01-08       1\n",
              "2  2000-01-15       4\n",
              "3  2000-01-22       3\n",
              "4  2000-01-29       7\n",
              "5  2000-02-05       5\n",
              "6  2000-02-12       8\n",
              "7  2000-02-19       5\n",
              "8  2000-02-26      10\n",
              "9  2000-03-04       9"
            ],
            "text/html": [
              "\n",
              "  <div id=\"df-27a8c4ce-37a8-465d-bce5-83ea8f4636dc\" class=\"colab-df-container\">\n",
              "    <div>\n",
              "<style scoped>\n",
              "    .dataframe tbody tr th:only-of-type {\n",
              "        vertical-align: middle;\n",
              "    }\n",
              "\n",
              "    .dataframe tbody tr th {\n",
              "        vertical-align: top;\n",
              "    }\n",
              "\n",
              "    .dataframe thead th {\n",
              "        text-align: right;\n",
              "    }\n",
              "</style>\n",
              "<table border=\"1\" class=\"dataframe\">\n",
              "  <thead>\n",
              "    <tr style=\"text-align: right;\">\n",
              "      <th></th>\n",
              "      <th>Datetime</th>\n",
              "      <th>Random</th>\n",
              "    </tr>\n",
              "  </thead>\n",
              "  <tbody>\n",
              "    <tr>\n",
              "      <th>0</th>\n",
              "      <td>2000-01-01</td>\n",
              "      <td>4</td>\n",
              "    </tr>\n",
              "    <tr>\n",
              "      <th>1</th>\n",
              "      <td>2000-01-08</td>\n",
              "      <td>1</td>\n",
              "    </tr>\n",
              "    <tr>\n",
              "      <th>2</th>\n",
              "      <td>2000-01-15</td>\n",
              "      <td>4</td>\n",
              "    </tr>\n",
              "    <tr>\n",
              "      <th>3</th>\n",
              "      <td>2000-01-22</td>\n",
              "      <td>3</td>\n",
              "    </tr>\n",
              "    <tr>\n",
              "      <th>4</th>\n",
              "      <td>2000-01-29</td>\n",
              "      <td>7</td>\n",
              "    </tr>\n",
              "    <tr>\n",
              "      <th>5</th>\n",
              "      <td>2000-02-05</td>\n",
              "      <td>5</td>\n",
              "    </tr>\n",
              "    <tr>\n",
              "      <th>6</th>\n",
              "      <td>2000-02-12</td>\n",
              "      <td>8</td>\n",
              "    </tr>\n",
              "    <tr>\n",
              "      <th>7</th>\n",
              "      <td>2000-02-19</td>\n",
              "      <td>5</td>\n",
              "    </tr>\n",
              "    <tr>\n",
              "      <th>8</th>\n",
              "      <td>2000-02-26</td>\n",
              "      <td>10</td>\n",
              "    </tr>\n",
              "    <tr>\n",
              "      <th>9</th>\n",
              "      <td>2000-03-04</td>\n",
              "      <td>9</td>\n",
              "    </tr>\n",
              "  </tbody>\n",
              "</table>\n",
              "</div>\n",
              "    <div class=\"colab-df-buttons\">\n",
              "\n",
              "  <div class=\"colab-df-container\">\n",
              "    <button class=\"colab-df-convert\" onclick=\"convertToInteractive('df-27a8c4ce-37a8-465d-bce5-83ea8f4636dc')\"\n",
              "            title=\"Convert this dataframe to an interactive table.\"\n",
              "            style=\"display:none;\">\n",
              "\n",
              "  <svg xmlns=\"http://www.w3.org/2000/svg\" height=\"24px\" viewBox=\"0 -960 960 960\">\n",
              "    <path d=\"M120-120v-720h720v720H120Zm60-500h600v-160H180v160Zm220 220h160v-160H400v160Zm0 220h160v-160H400v160ZM180-400h160v-160H180v160Zm440 0h160v-160H620v160ZM180-180h160v-160H180v160Zm440 0h160v-160H620v160Z\"/>\n",
              "  </svg>\n",
              "    </button>\n",
              "\n",
              "  <style>\n",
              "    .colab-df-container {\n",
              "      display:flex;\n",
              "      gap: 12px;\n",
              "    }\n",
              "\n",
              "    .colab-df-convert {\n",
              "      background-color: #E8F0FE;\n",
              "      border: none;\n",
              "      border-radius: 50%;\n",
              "      cursor: pointer;\n",
              "      display: none;\n",
              "      fill: #1967D2;\n",
              "      height: 32px;\n",
              "      padding: 0 0 0 0;\n",
              "      width: 32px;\n",
              "    }\n",
              "\n",
              "    .colab-df-convert:hover {\n",
              "      background-color: #E2EBFA;\n",
              "      box-shadow: 0px 1px 2px rgba(60, 64, 67, 0.3), 0px 1px 3px 1px rgba(60, 64, 67, 0.15);\n",
              "      fill: #174EA6;\n",
              "    }\n",
              "\n",
              "    .colab-df-buttons div {\n",
              "      margin-bottom: 4px;\n",
              "    }\n",
              "\n",
              "    [theme=dark] .colab-df-convert {\n",
              "      background-color: #3B4455;\n",
              "      fill: #D2E3FC;\n",
              "    }\n",
              "\n",
              "    [theme=dark] .colab-df-convert:hover {\n",
              "      background-color: #434B5C;\n",
              "      box-shadow: 0px 1px 3px 1px rgba(0, 0, 0, 0.15);\n",
              "      filter: drop-shadow(0px 1px 2px rgba(0, 0, 0, 0.3));\n",
              "      fill: #FFFFFF;\n",
              "    }\n",
              "  </style>\n",
              "\n",
              "    <script>\n",
              "      const buttonEl =\n",
              "        document.querySelector('#df-27a8c4ce-37a8-465d-bce5-83ea8f4636dc button.colab-df-convert');\n",
              "      buttonEl.style.display =\n",
              "        google.colab.kernel.accessAllowed ? 'block' : 'none';\n",
              "\n",
              "      async function convertToInteractive(key) {\n",
              "        const element = document.querySelector('#df-27a8c4ce-37a8-465d-bce5-83ea8f4636dc');\n",
              "        const dataTable =\n",
              "          await google.colab.kernel.invokeFunction('convertToInteractive',\n",
              "                                                    [key], {});\n",
              "        if (!dataTable) return;\n",
              "\n",
              "        const docLinkHtml = 'Like what you see? Visit the ' +\n",
              "          '<a target=\"_blank\" href=https://colab.research.google.com/notebooks/data_table.ipynb>data table notebook</a>'\n",
              "          + ' to learn more about interactive tables.';\n",
              "        element.innerHTML = '';\n",
              "        dataTable['output_type'] = 'display_data';\n",
              "        await google.colab.output.renderOutput(dataTable, element);\n",
              "        const docLink = document.createElement('div');\n",
              "        docLink.innerHTML = docLinkHtml;\n",
              "        element.appendChild(docLink);\n",
              "      }\n",
              "    </script>\n",
              "  </div>\n",
              "\n",
              "\n",
              "<div id=\"df-8df32823-28d7-4325-98f5-3113864ab635\">\n",
              "  <button class=\"colab-df-quickchart\" onclick=\"quickchart('df-8df32823-28d7-4325-98f5-3113864ab635')\"\n",
              "            title=\"Suggest charts\"\n",
              "            style=\"display:none;\">\n",
              "\n",
              "<svg xmlns=\"http://www.w3.org/2000/svg\" height=\"24px\"viewBox=\"0 0 24 24\"\n",
              "     width=\"24px\">\n",
              "    <g>\n",
              "        <path d=\"M19 3H5c-1.1 0-2 .9-2 2v14c0 1.1.9 2 2 2h14c1.1 0 2-.9 2-2V5c0-1.1-.9-2-2-2zM9 17H7v-7h2v7zm4 0h-2V7h2v10zm4 0h-2v-4h2v4z\"/>\n",
              "    </g>\n",
              "</svg>\n",
              "  </button>\n",
              "\n",
              "<style>\n",
              "  .colab-df-quickchart {\n",
              "      --bg-color: #E8F0FE;\n",
              "      --fill-color: #1967D2;\n",
              "      --hover-bg-color: #E2EBFA;\n",
              "      --hover-fill-color: #174EA6;\n",
              "      --disabled-fill-color: #AAA;\n",
              "      --disabled-bg-color: #DDD;\n",
              "  }\n",
              "\n",
              "  [theme=dark] .colab-df-quickchart {\n",
              "      --bg-color: #3B4455;\n",
              "      --fill-color: #D2E3FC;\n",
              "      --hover-bg-color: #434B5C;\n",
              "      --hover-fill-color: #FFFFFF;\n",
              "      --disabled-bg-color: #3B4455;\n",
              "      --disabled-fill-color: #666;\n",
              "  }\n",
              "\n",
              "  .colab-df-quickchart {\n",
              "    background-color: var(--bg-color);\n",
              "    border: none;\n",
              "    border-radius: 50%;\n",
              "    cursor: pointer;\n",
              "    display: none;\n",
              "    fill: var(--fill-color);\n",
              "    height: 32px;\n",
              "    padding: 0;\n",
              "    width: 32px;\n",
              "  }\n",
              "\n",
              "  .colab-df-quickchart:hover {\n",
              "    background-color: var(--hover-bg-color);\n",
              "    box-shadow: 0 1px 2px rgba(60, 64, 67, 0.3), 0 1px 3px 1px rgba(60, 64, 67, 0.15);\n",
              "    fill: var(--button-hover-fill-color);\n",
              "  }\n",
              "\n",
              "  .colab-df-quickchart-complete:disabled,\n",
              "  .colab-df-quickchart-complete:disabled:hover {\n",
              "    background-color: var(--disabled-bg-color);\n",
              "    fill: var(--disabled-fill-color);\n",
              "    box-shadow: none;\n",
              "  }\n",
              "\n",
              "  .colab-df-spinner {\n",
              "    border: 2px solid var(--fill-color);\n",
              "    border-color: transparent;\n",
              "    border-bottom-color: var(--fill-color);\n",
              "    animation:\n",
              "      spin 1s steps(1) infinite;\n",
              "  }\n",
              "\n",
              "  @keyframes spin {\n",
              "    0% {\n",
              "      border-color: transparent;\n",
              "      border-bottom-color: var(--fill-color);\n",
              "      border-left-color: var(--fill-color);\n",
              "    }\n",
              "    20% {\n",
              "      border-color: transparent;\n",
              "      border-left-color: var(--fill-color);\n",
              "      border-top-color: var(--fill-color);\n",
              "    }\n",
              "    30% {\n",
              "      border-color: transparent;\n",
              "      border-left-color: var(--fill-color);\n",
              "      border-top-color: var(--fill-color);\n",
              "      border-right-color: var(--fill-color);\n",
              "    }\n",
              "    40% {\n",
              "      border-color: transparent;\n",
              "      border-right-color: var(--fill-color);\n",
              "      border-top-color: var(--fill-color);\n",
              "    }\n",
              "    60% {\n",
              "      border-color: transparent;\n",
              "      border-right-color: var(--fill-color);\n",
              "    }\n",
              "    80% {\n",
              "      border-color: transparent;\n",
              "      border-right-color: var(--fill-color);\n",
              "      border-bottom-color: var(--fill-color);\n",
              "    }\n",
              "    90% {\n",
              "      border-color: transparent;\n",
              "      border-bottom-color: var(--fill-color);\n",
              "    }\n",
              "  }\n",
              "</style>\n",
              "\n",
              "  <script>\n",
              "    async function quickchart(key) {\n",
              "      const quickchartButtonEl =\n",
              "        document.querySelector('#' + key + ' button');\n",
              "      quickchartButtonEl.disabled = true;  // To prevent multiple clicks.\n",
              "      quickchartButtonEl.classList.add('colab-df-spinner');\n",
              "      try {\n",
              "        const charts = await google.colab.kernel.invokeFunction(\n",
              "            'suggestCharts', [key], {});\n",
              "      } catch (error) {\n",
              "        console.error('Error during call to suggestCharts:', error);\n",
              "      }\n",
              "      quickchartButtonEl.classList.remove('colab-df-spinner');\n",
              "      quickchartButtonEl.classList.add('colab-df-quickchart-complete');\n",
              "    }\n",
              "    (() => {\n",
              "      let quickchartButtonEl =\n",
              "        document.querySelector('#df-8df32823-28d7-4325-98f5-3113864ab635 button');\n",
              "      quickchartButtonEl.style.display =\n",
              "        google.colab.kernel.accessAllowed ? 'block' : 'none';\n",
              "    })();\n",
              "  </script>\n",
              "</div>\n",
              "    </div>\n",
              "  </div>\n"
            ],
            "application/vnd.google.colaboratory.intrinsic+json": {
              "type": "dataframe",
              "variable_name": "df",
              "summary": "{\n  \"name\": \"df\",\n  \"rows\": 10,\n  \"fields\": [\n    {\n      \"column\": \"Datetime\",\n      \"properties\": {\n        \"dtype\": \"object\",\n        \"num_unique_values\": 10,\n        \"samples\": [\n          \"2000-02-26\",\n          \"2000-01-08\",\n          \"2000-02-05\"\n        ],\n        \"semantic_type\": \"\",\n        \"description\": \"\"\n      }\n    },\n    {\n      \"column\": \"Random\",\n      \"properties\": {\n        \"dtype\": \"number\",\n        \"std\": 2,\n        \"min\": 1,\n        \"max\": 10,\n        \"num_unique_values\": 8,\n        \"samples\": [\n          1,\n          8,\n          4\n        ],\n        \"semantic_type\": \"\",\n        \"description\": \"\"\n      }\n    }\n  ]\n}"
            }
          },
          "metadata": {},
          "execution_count": 69
        }
      ]
    },
    {
      "cell_type": "code",
      "source": [
        "# n30\n",
        "\n",
        "import pandas as pd\n",
        "import numpy as np\n",
        "\n",
        "ser = pd.Series([1, 10, 3, np.nan], index=pd.to_datetime(['2000-01-01', '2000-01-03', '2000-01-06', '2000-01-08']))\n",
        "\n",
        "full_date_range = pd.date_range(start=ser.index.min(), end=ser.index.max(), freq='D')\n",
        "\n",
        "ser_reindexed = ser.reindex(full_date_range)\n",
        "\n",
        "ser_filled = ser_reindexed.ffill()\n",
        "\n",
        "print(ser_filled)"
      ],
      "metadata": {
        "colab": {
          "base_uri": "https://localhost:8080/"
        },
        "id": "DdhG9Nce0nCM",
        "outputId": "45c18e2c-360b-4ddf-ca36-77a19bf71e2d"
      },
      "execution_count": null,
      "outputs": [
        {
          "output_type": "stream",
          "name": "stdout",
          "text": [
            "2000-01-01     1.0\n",
            "2000-01-02     1.0\n",
            "2000-01-03    10.0\n",
            "2000-01-04    10.0\n",
            "2000-01-05    10.0\n",
            "2000-01-06     3.0\n",
            "2000-01-07     3.0\n",
            "2000-01-08     3.0\n",
            "Freq: D, dtype: float64\n"
          ]
        }
      ]
    },
    {
      "cell_type": "code",
      "source": [
        "# n31\n",
        "\n",
        "import pandas as pd\n",
        "import numpy as np\n",
        "\n",
        "ser = pd.Series(np.arange(20) + np.random.normal(1, 10, 20))\n",
        "\n",
        "autocorrelations = [ser.autocorr(lag) for lag in range(10)]\n",
        "\n",
        "autocorrelations_without_lag0 = autocorrelations[1:]\n",
        "\n",
        "max_corr_lag = np.argmax(autocorrelations_without_lag0) + 1\n",
        "\n",
        "print(autocorrelations)\n",
        "print(f\"Lag having highest correlation: {max_corr_lag}\")"
      ],
      "metadata": {
        "colab": {
          "base_uri": "https://localhost:8080/"
        },
        "id": "DWlSDvMG0oNg",
        "outputId": "6d65a62c-89e1-44f2-9ae4-dd3af95e0290"
      },
      "execution_count": null,
      "outputs": [
        {
          "output_type": "stream",
          "name": "stdout",
          "text": [
            "[1.0, 0.38855206318295205, 0.22938548352846236, 0.43258351082333546, 0.10872389555621191, -0.030733859731399103, 0.043840895083523186, 0.20436305934153726, 0.5638274394317963, 0.5147032526045731]\n",
            "Lag having highest correlation: 8\n"
          ]
        }
      ]
    },
    {
      "cell_type": "code",
      "source": [
        "# n32\n",
        "\n",
        "import pandas as pd\n",
        "url = \"https://raw.githubusercontent.com/selva86/datasets/master/BostonHousing.csv\"\n",
        "\n",
        "df = pd.read_csv( url, skiprows=lambda x: x % 50 != 0)\n",
        "\n",
        "print(df)"
      ],
      "metadata": {
        "colab": {
          "base_uri": "https://localhost:8080/"
        },
        "id": "l1uoX-z30pkh",
        "outputId": "43715606-bfa7-450e-cf07-ff7cc754a486"
      },
      "execution_count": 97,
      "outputs": [
        {
          "output_type": "stream",
          "name": "stdout",
          "text": [
            "      crim  zn  indus  chas    nox     rm   age     dis  rad  tax  ptratio  \\\n",
            "0  0.21977   0   6.91     0  0.448  5.602  62.0  6.0877    3  233     17.9   \n",
            "1  0.06860   0   2.89     0  0.445  7.416  62.5  3.4952    2  276     18.0   \n",
            "2  2.73397   0  19.58     0  0.871  5.597  94.9  1.5257    5  403     14.7   \n",
            "3  0.03150  95   1.47     0  0.403  6.975  15.3  7.6534    3  402     17.0   \n",
            "4  0.19073  22   5.86     0  0.431  6.718  17.5  7.8265    7  330     19.1   \n",
            "5  0.05561  70   2.24     0  0.400  7.041  10.0  7.8278    5  358     14.8   \n",
            "6  0.02899  40   1.25     0  0.429  6.939  34.5  8.7921    1  335     19.7   \n",
            "7  9.91655   0  18.10     0  0.693  5.852  77.8  1.5004   24  666     20.2   \n",
            "8  7.52601   0  18.10     0  0.713  6.417  98.3  2.1850   24  666     20.2   \n",
            "9  0.17783   0   9.69     0  0.585  5.569  73.5  2.3999    6  391     19.2   \n",
            "\n",
            "        b  lstat  medv  \n",
            "0  396.90  16.20  19.4  \n",
            "1  396.90   6.19  33.2  \n",
            "2  351.85  21.45  15.4  \n",
            "3  396.90   4.56  34.9  \n",
            "4  393.74   6.56  26.2  \n",
            "5  371.58   4.74  29.0  \n",
            "6  389.85   5.89  26.6  \n",
            "7  338.16  29.97   6.3  \n",
            "8  304.21  19.31  13.0  \n",
            "9  395.77  15.10  17.5  \n"
          ]
        }
      ]
    },
    {
      "cell_type": "code",
      "source": [
        "# n33\n",
        "\n",
        "import pandas as pd\n",
        "\n",
        "url = \"https://raw.githubusercontent.com/selva86/datasets/master/BostonHousing.csv\"\n",
        "df = pd.read_csv(url)\n",
        "\n",
        "df['MEDV_Category'] = df['medv'].apply(lambda x: 'Low' if x < 25 else 'High')\n",
        "\n",
        "print(df[['medv', 'MEDV_Category']].head())"
      ],
      "metadata": {
        "colab": {
          "base_uri": "https://localhost:8080/"
        },
        "id": "kBSHqzPu4PJX",
        "outputId": "193f5297-5b63-4287-f2d5-ce15d3f2fc11"
      },
      "execution_count": 92,
      "outputs": [
        {
          "output_type": "stream",
          "name": "stdout",
          "text": [
            "   medv MEDV_Category\n",
            "0  24.0           Low\n",
            "1  21.6           Low\n",
            "2  34.7          High\n",
            "3  33.4          High\n",
            "4  36.2          High\n"
          ]
        }
      ]
    },
    {
      "cell_type": "code",
      "source": [
        "# n34\n",
        "\n",
        "import pandas as pd\n",
        "import numpy as np\n",
        "\n",
        "L = pd.Series(range(15))\n",
        "\n",
        "window_size = 4\n",
        "\n",
        "intervals = np.lib.stride_tricks.sliding_window_view(L, window_size)\n",
        "\n",
        "df = pd.DataFrame(intervals)\n",
        "\n",
        "print(df)"
      ],
      "metadata": {
        "id": "WtC6E3XV4PRv",
        "colab": {
          "base_uri": "https://localhost:8080/"
        },
        "outputId": "c81e76e4-0198-4016-a5ab-eac0fda0a406"
      },
      "execution_count": 84,
      "outputs": [
        {
          "output_type": "stream",
          "name": "stdout",
          "text": [
            "     0   1   2   3\n",
            "0    0   1   2   3\n",
            "1    1   2   3   4\n",
            "2    2   3   4   5\n",
            "3    3   4   5   6\n",
            "4    4   5   6   7\n",
            "5    5   6   7   8\n",
            "6    6   7   8   9\n",
            "7    7   8   9  10\n",
            "8    8   9  10  11\n",
            "9    9  10  11  12\n",
            "10  10  11  12  13\n",
            "11  11  12  13  14\n"
          ]
        }
      ]
    },
    {
      "cell_type": "code",
      "source": [
        "# n35\n",
        "\n",
        "import pandas as pd\n",
        "url = \"https://raw.githubusercontent.com/selva86/datasets/master/BostonHousing.csv\"\n",
        "df = pd.read_csv(url)\n",
        "\n",
        "selected_columns = df[['crim', 'medv']]\n",
        "\n",
        "print(selected_columns.head())"
      ],
      "metadata": {
        "id": "KYmwrUjv4PY_",
        "colab": {
          "base_uri": "https://localhost:8080/"
        },
        "outputId": "7dce3a58-9b75-4390-b9a2-ba9d76976b2b"
      },
      "execution_count": 91,
      "outputs": [
        {
          "output_type": "stream",
          "name": "stdout",
          "text": [
            "      crim  medv\n",
            "0  0.00632  24.0\n",
            "1  0.02731  21.6\n",
            "2  0.02729  34.7\n",
            "3  0.03237  33.4\n",
            "4  0.06905  36.2\n"
          ]
        }
      ]
    },
    {
      "cell_type": "code",
      "source": [
        "# n36\n",
        "\n",
        "import pandas as pd\n",
        "import numpy as np\n",
        "\n",
        "url = \"https://raw.githubusercontent.com/selva86/datasets/master/Cars93_miss.csv\"\n",
        "df = pd.read_csv(url)\n",
        "\n",
        "num_rows, num_cols = df.shape\n",
        "print(num_rows)\n",
        "print(num_cols)\n",
        "\n",
        "print(df.dtypes)\n",
        "\n",
        "print(df.describe(include='all'))\n",
        "\n",
        "numpy_array = df.to_numpy()\n",
        "print(numpy_array)\n",
        "\n",
        "list_representation = df.values.tolist()\n",
        "print(list_representation)"
      ],
      "metadata": {
        "id": "YBxaoTVl4PfW",
        "colab": {
          "base_uri": "https://localhost:8080/"
        },
        "outputId": "83ebe865-dbc7-440f-89f4-fcdd736aac6b"
      },
      "execution_count": 90,
      "outputs": [
        {
          "output_type": "stream",
          "name": "stdout",
          "text": [
            "93\n",
            "27\n",
            "Manufacturer           object\n",
            "Model                  object\n",
            "Type                   object\n",
            "Min.Price             float64\n",
            "Price                 float64\n",
            "Max.Price             float64\n",
            "MPG.city              float64\n",
            "MPG.highway           float64\n",
            "AirBags                object\n",
            "DriveTrain             object\n",
            "Cylinders              object\n",
            "EngineSize            float64\n",
            "Horsepower            float64\n",
            "RPM                   float64\n",
            "Rev.per.mile          float64\n",
            "Man.trans.avail        object\n",
            "Fuel.tank.capacity    float64\n",
            "Passengers            float64\n",
            "Length                float64\n",
            "Wheelbase             float64\n",
            "Width                 float64\n",
            "Turn.circle           float64\n",
            "Rear.seat.room        float64\n",
            "Luggage.room          float64\n",
            "Weight                float64\n",
            "Origin                 object\n",
            "Make                   object\n",
            "dtype: object\n",
            "       Manufacturer    Model     Type  Min.Price      Price  Max.Price  \\\n",
            "count            89       92       90  86.000000  91.000000  88.000000   \n",
            "unique           31       92        6        NaN        NaN        NaN   \n",
            "top            Ford  Integra  Midsize        NaN        NaN        NaN   \n",
            "freq              8        1       22        NaN        NaN        NaN   \n",
            "mean            NaN      NaN      NaN  17.118605  19.616484  21.459091   \n",
            "std             NaN      NaN      NaN   8.828290   9.724280  10.696563   \n",
            "min             NaN      NaN      NaN   6.700000   7.400000   7.900000   \n",
            "25%             NaN      NaN      NaN  10.825000  12.350000  14.575000   \n",
            "50%             NaN      NaN      NaN  14.600000  17.700000  19.150000   \n",
            "75%             NaN      NaN      NaN  20.250000  23.500000  24.825000   \n",
            "max             NaN      NaN      NaN  45.400000  61.900000  80.000000   \n",
            "\n",
            "         MPG.city  MPG.highway      AirBags DriveTrain  ... Passengers  \\\n",
            "count   84.000000    91.000000           55         86  ...  91.000000   \n",
            "unique        NaN          NaN            2          3  ...        NaN   \n",
            "top           NaN          NaN  Driver only      Front  ...        NaN   \n",
            "freq          NaN          NaN           39         61  ...        NaN   \n",
            "mean    22.404762    29.065934          NaN        NaN  ...   5.076923   \n",
            "std      5.841520     5.370293          NaN        NaN  ...   1.045953   \n",
            "min     15.000000    20.000000          NaN        NaN  ...   2.000000   \n",
            "25%     18.000000    26.000000          NaN        NaN  ...   4.000000   \n",
            "50%     21.000000    28.000000          NaN        NaN  ...   5.000000   \n",
            "75%     25.000000    31.000000          NaN        NaN  ...   6.000000   \n",
            "max     46.000000    50.000000          NaN        NaN  ...   8.000000   \n",
            "\n",
            "            Length   Wheelbase      Width  Turn.circle Rear.seat.room  \\\n",
            "count    89.000000   92.000000  87.000000    88.000000      89.000000   \n",
            "unique         NaN         NaN        NaN          NaN            NaN   \n",
            "top            NaN         NaN        NaN          NaN            NaN   \n",
            "freq           NaN         NaN        NaN          NaN            NaN   \n",
            "mean    182.865169  103.956522  69.448276    38.954545      27.853933   \n",
            "std      14.792651    6.856317   3.778023     3.304157       3.018129   \n",
            "min     141.000000   90.000000  60.000000    32.000000      19.000000   \n",
            "25%     174.000000   98.000000  67.000000    36.000000      26.000000   \n",
            "50%     181.000000  103.000000  69.000000    39.000000      27.500000   \n",
            "75%     192.000000  110.000000  72.000000    42.000000      30.000000   \n",
            "max     219.000000  119.000000  78.000000    45.000000      36.000000   \n",
            "\n",
            "        Luggage.room       Weight  Origin           Make  \n",
            "count      74.000000    86.000000      88             90  \n",
            "unique           NaN          NaN       2             90  \n",
            "top              NaN          NaN     USA  Acura Integra  \n",
            "freq             NaN          NaN      46              1  \n",
            "mean       13.986486  3104.593023     NaN            NaN  \n",
            "std         3.120824   600.129993     NaN            NaN  \n",
            "min         6.000000  1695.000000     NaN            NaN  \n",
            "25%        12.000000  2647.500000     NaN            NaN  \n",
            "50%        14.000000  3085.000000     NaN            NaN  \n",
            "75%        16.000000  3567.500000     NaN            NaN  \n",
            "max        22.000000  4105.000000     NaN            NaN  \n",
            "\n",
            "[11 rows x 27 columns]\n",
            "[['Acura' 'Integra' 'Small' ... 2705.0 'non-USA' 'Acura Integra']\n",
            " [nan 'Legend' 'Midsize' ... 3560.0 'non-USA' 'Acura Legend']\n",
            " ['Audi' '90' 'Compact' ... 3375.0 'non-USA' 'Audi 90']\n",
            " ...\n",
            " ['Volkswagen' 'Corrado' 'Sporty' ... 2810.0 'non-USA'\n",
            "  'Volkswagen Corrado']\n",
            " ['Volvo' '240' 'Compact' ... 2985.0 'non-USA' 'Volvo 240']\n",
            " [nan '850' 'Midsize' ... 3245.0 'non-USA' 'Volvo 850']]\n",
            "[['Acura', 'Integra', 'Small', 12.9, 15.9, 18.8, 25.0, 31.0, nan, 'Front', '4', 1.8, 140.0, 6300.0, 2890.0, 'Yes', 13.2, 5.0, 177.0, 102.0, 68.0, 37.0, 26.5, nan, 2705.0, 'non-USA', 'Acura Integra'], [nan, 'Legend', 'Midsize', 29.2, 33.9, 38.7, 18.0, 25.0, 'Driver & Passenger', 'Front', '6', 3.2, 200.0, 5500.0, 2335.0, 'Yes', 18.0, 5.0, 195.0, 115.0, 71.0, 38.0, 30.0, 15.0, 3560.0, 'non-USA', 'Acura Legend'], ['Audi', '90', 'Compact', 25.9, 29.1, 32.3, 20.0, 26.0, 'Driver only', 'Front', '6', 2.8, 172.0, 5500.0, 2280.0, 'Yes', 16.9, 5.0, 180.0, 102.0, 67.0, 37.0, 28.0, 14.0, 3375.0, 'non-USA', 'Audi 90'], ['Audi', '100', 'Midsize', nan, 37.7, 44.6, 19.0, 26.0, 'Driver & Passenger', nan, '6', nan, 172.0, 5500.0, 2535.0, nan, 21.1, 6.0, 193.0, 106.0, nan, 37.0, 31.0, 17.0, 3405.0, 'non-USA', 'Audi 100'], ['BMW', '535i', 'Midsize', nan, 30.0, nan, 22.0, 30.0, nan, 'Rear', '4', 3.5, 208.0, 5700.0, 2545.0, 'Yes', 21.1, 4.0, 186.0, 109.0, 69.0, 39.0, 27.0, 13.0, 3640.0, 'non-USA', 'BMW 535i'], ['Buick', 'Century', 'Midsize', 14.2, 15.7, 17.3, 22.0, 31.0, 'Driver only', nan, '4', 2.2, 110.0, 5200.0, 2565.0, 'No', 16.4, 6.0, 189.0, 105.0, 69.0, 41.0, 28.0, 16.0, nan, 'USA', 'Buick Century'], ['Buick', 'LeSabre', 'Large', 19.9, 20.8, nan, 19.0, 28.0, 'Driver only', 'Front', '6', 3.8, 170.0, 4800.0, nan, 'No', nan, 6.0, 200.0, 111.0, 74.0, 42.0, 30.5, 17.0, 3470.0, 'USA', 'Buick LeSabre'], ['Buick', 'Roadmaster', 'Large', 22.6, 23.7, 24.9, 16.0, 25.0, 'Driver only', 'Rear', '6', 5.7, 180.0, 4000.0, 1320.0, 'No', 23.0, 6.0, 216.0, 116.0, 78.0, 45.0, 30.5, 21.0, 4105.0, 'USA', 'Buick Roadmaster'], ['Buick', 'Riviera', 'Midsize', 26.3, 26.3, 26.3, 19.0, 27.0, 'Driver only', 'Front', '6', 3.8, 170.0, 4800.0, 1690.0, 'No', 18.8, 5.0, 198.0, 108.0, nan, 41.0, 26.5, 14.0, 3495.0, 'USA', 'Buick Riviera'], ['Cadillac', 'DeVille', 'Large', 33.0, 34.7, 36.3, 16.0, 25.0, 'Driver only', 'Front', '8', 4.9, 200.0, 4100.0, nan, 'No', 18.0, 6.0, 206.0, 114.0, 73.0, 43.0, 35.0, 18.0, 3620.0, 'USA', 'Cadillac DeVille'], ['Cadillac', 'Seville', 'Midsize', 37.5, 40.1, 42.7, 16.0, 25.0, 'Driver & Passenger', 'Front', '8', 4.6, 295.0, 6000.0, 1985.0, 'No', 20.0, 5.0, 204.0, 111.0, 74.0, 44.0, 31.0, nan, 3935.0, 'USA', 'Cadillac Seville'], ['Chevrolet', 'Cavalier', 'Compact', 8.5, 13.4, 18.3, 25.0, 36.0, nan, nan, '4', 2.2, nan, 5200.0, 2380.0, 'Yes', 15.2, 5.0, 182.0, 101.0, 66.0, 38.0, 25.0, 13.0, 2490.0, 'USA', 'Chevrolet Cavalier'], ['Chevrolet', 'Corsica', 'Compact', 11.4, 11.4, 11.4, 25.0, 34.0, 'Driver only', 'Front', nan, 2.2, 110.0, 5200.0, 2665.0, 'Yes', 15.6, 5.0, 184.0, 103.0, 68.0, 39.0, 26.0, nan, 2785.0, 'USA', 'Chevrolet Corsica'], ['Chevrolet', 'Camaro', 'Sporty', 13.4, 15.1, 16.8, 19.0, 28.0, 'Driver & Passenger', 'Rear', nan, 3.4, 160.0, 4600.0, 1805.0, 'Yes', nan, 4.0, 193.0, 101.0, 74.0, 43.0, 25.0, 13.0, 3240.0, 'USA', 'Chevrolet Camaro'], ['Chevrolet', 'Lumina', 'Midsize', 13.4, 15.9, 18.4, nan, 29.0, nan, 'Front', '4', 2.2, nan, 5200.0, 2595.0, 'No', 16.5, 6.0, nan, 108.0, 71.0, nan, 28.5, 16.0, 3195.0, 'USA', 'Chevrolet Lumina'], ['Chevrolet', 'Lumina_APV', 'Van', 14.7, 16.3, 18.0, 18.0, 23.0, nan, 'Front', '6', 3.8, 170.0, 4800.0, 1690.0, 'No', 20.0, 7.0, 178.0, 110.0, 74.0, 44.0, 30.5, nan, 3715.0, 'USA', 'Chevrolet Lumina_APV'], ['Chevrolet', 'Astro', 'Van', 14.7, 16.6, 18.6, 15.0, 20.0, nan, '4WD', '6', 4.3, nan, 4000.0, 1790.0, 'No', 27.0, 8.0, 194.0, 111.0, 78.0, 42.0, 33.5, nan, 4025.0, 'USA', 'Chevrolet Astro'], ['Chevrolet', 'Caprice', 'Large', 18.0, 18.8, 19.6, 17.0, 26.0, 'Driver only', 'Rear', '8', 5.0, 170.0, 4200.0, 1350.0, 'No', 23.0, 6.0, 214.0, 116.0, 77.0, 42.0, 29.5, 20.0, 3910.0, 'USA', 'Chevrolet Caprice'], ['Chevrolet', 'Corvette', 'Sporty', 34.6, 38.0, 41.5, 17.0, 25.0, 'Driver only', 'Rear', '8', 5.7, 300.0, 5000.0, 1450.0, 'Yes', 20.0, 2.0, 179.0, 96.0, 74.0, 43.0, nan, nan, 3380.0, nan, 'Chevrolet Corvette'], [nan, 'Concorde', 'Large', 18.4, 18.4, 18.4, 20.0, 28.0, 'Driver & Passenger', 'Front', '6', 3.3, 153.0, 5300.0, 1990.0, 'No', 18.0, 6.0, 203.0, 113.0, 74.0, nan, 31.0, 15.0, 3515.0, 'USA', 'Chrylser Concorde'], ['Chrysler', 'LeBaron', 'Compact', 14.5, 15.8, 17.1, 23.0, 28.0, 'Driver & Passenger', 'Front', '4', 3.0, 141.0, 5000.0, 2090.0, 'No', 16.0, 6.0, 183.0, 104.0, 68.0, 41.0, 30.5, 14.0, 3085.0, 'USA', 'Chrysler LeBaron'], ['Chrysler', 'Imperial', 'Large', 29.5, 29.5, 29.5, 20.0, 26.0, 'Driver only', 'Front', '6', 3.3, 147.0, 4800.0, 1785.0, 'No', 16.0, 6.0, 203.0, 110.0, 69.0, 44.0, 36.0, 17.0, 3570.0, 'USA', 'Chrysler Imperial'], ['Dodge', 'Colt', 'Small', 7.9, 9.2, 10.6, 29.0, 33.0, nan, 'Front', '4', 1.5, 92.0, 6000.0, 3285.0, 'Yes', nan, 5.0, 174.0, 98.0, 66.0, 32.0, nan, 11.0, 2270.0, 'USA', 'Dodge Colt'], ['Dodge', 'Shadow', 'Small', 8.4, 11.3, 14.2, 23.0, 29.0, 'Driver only', 'Front', '4', 2.2, 93.0, 4800.0, nan, 'Yes', 14.0, 5.0, 172.0, 97.0, 67.0, 38.0, 26.5, nan, 2670.0, 'USA', 'Dodge Shadow'], ['Dodge', 'Spirit', 'Compact', 11.9, 13.3, 14.7, 22.0, 27.0, 'Driver only', 'Front', '4', 2.5, 100.0, 4800.0, 2535.0, 'Yes', nan, 6.0, 181.0, 104.0, 68.0, 39.0, 30.5, nan, 2970.0, 'USA', 'Dodge Spirit'], ['Dodge', 'Caravan', 'Van', nan, 19.0, 24.4, 17.0, 21.0, 'Driver only', '4WD', '6', 3.0, 142.0, 5000.0, 1970.0, 'No', 20.0, 7.0, 175.0, 112.0, 72.0, 42.0, 26.5, nan, 3705.0, 'USA', 'Dodge Caravan'], ['Dodge', 'Dynasty', 'Midsize', 14.8, 15.6, 16.4, 21.0, nan, 'Driver only', 'Front', nan, 2.5, 100.0, 4800.0, 2465.0, 'No', 16.0, 6.0, 192.0, 105.0, 69.0, 42.0, 30.5, 16.0, 3080.0, 'USA', 'Dodge Dynasty'], ['Dodge', 'Stealth', 'Sporty', 18.5, 25.8, 33.1, nan, 24.0, 'Driver only', '4WD', '6', 3.0, 300.0, 6000.0, 2120.0, 'Yes', 19.8, 4.0, 180.0, 97.0, nan, 40.0, 20.0, 11.0, 3805.0, 'USA', 'Dodge Stealth'], ['Eagle', 'Summit', 'Small', 7.9, 12.2, 16.5, 29.0, 33.0, nan, 'Front', '4', 1.5, 92.0, 6000.0, 2505.0, 'Yes', 13.2, 5.0, 174.0, 98.0, 66.0, 36.0, 26.5, 11.0, 2295.0, 'USA', 'Eagle Summit'], ['Eagle', 'Vision', 'Large', nan, 19.3, 21.2, 20.0, 28.0, 'Driver & Passenger', 'Front', '6', 3.5, nan, 5800.0, 1980.0, 'No', 18.0, 6.0, 202.0, 113.0, 74.0, 40.0, 30.0, 15.0, 3490.0, 'USA', 'Eagle Vision'], ['Ford', 'Festiva', 'Small', 6.9, 7.4, 7.9, 31.0, 33.0, nan, 'Front', '4', 1.3, 63.0, 5000.0, 3150.0, 'Yes', 10.0, 4.0, 141.0, 90.0, 63.0, 33.0, 26.0, 12.0, 1845.0, 'USA', 'Ford Festiva'], ['Ford', 'Escort', 'Small', 8.4, 10.1, 11.9, 23.0, 30.0, nan, 'Front', '4', 1.8, 127.0, 6500.0, 2410.0, nan, 13.2, 5.0, 171.0, 98.0, 67.0, 36.0, 28.0, 12.0, 2530.0, 'USA', 'Ford Escort'], ['Ford', 'Tempo', 'Compact', 10.4, 11.3, 12.2, 22.0, 27.0, nan, 'Front', '4', 2.3, 96.0, 4200.0, 2805.0, 'Yes', 15.9, 5.0, 177.0, 100.0, 68.0, nan, 27.5, 13.0, nan, 'USA', nan], ['Ford', 'Mustang', 'Sporty', 10.8, 15.9, 21.0, 22.0, 29.0, 'Driver only', 'Rear', '4', 2.3, 105.0, 4600.0, 2285.0, 'Yes', 15.4, 4.0, 180.0, 101.0, 68.0, 40.0, 24.0, 12.0, nan, 'USA', 'Ford Mustang'], ['Ford', 'Probe', 'Sporty', 12.8, 14.0, 15.2, nan, 30.0, 'Driver only', 'Front', '4', 2.0, 115.0, 5500.0, 2340.0, 'Yes', 15.5, 4.0, 179.0, 103.0, 70.0, 38.0, 23.0, 18.0, 2710.0, 'USA', 'Ford Probe'], ['Ford', 'Aerostar', 'Van', 14.5, 19.9, 25.3, 15.0, 20.0, 'Driver only', '4WD', '6', 3.0, 145.0, 4800.0, 2080.0, 'Yes', 21.0, 7.0, 176.0, 119.0, 72.0, 45.0, 30.0, nan, 3735.0, 'USA', 'Ford Aerostar'], ['Ford', 'Taurus', 'Midsize', 15.6, 20.2, 24.8, 21.0, 30.0, 'Driver only', 'Front', '6', 3.0, nan, 4800.0, 1885.0, 'No', nan, 5.0, 192.0, 106.0, 71.0, 40.0, 27.5, 18.0, 3325.0, 'USA', 'Ford Taurus'], ['Ford', 'Crown_Victoria', 'Large', 20.1, 20.9, 21.7, 18.0, 26.0, 'Driver only', 'Rear', '8', 4.6, 190.0, 4200.0, nan, 'No', 20.0, 6.0, 212.0, 114.0, 78.0, 43.0, 30.0, 21.0, 3950.0, 'USA', 'Ford Crown_Victoria'], ['Geo', 'Metro', 'Small', 6.7, 8.4, 10.0, 46.0, 50.0, nan, 'Front', '3', 1.0, 55.0, 5700.0, 3755.0, nan, 10.6, 4.0, 151.0, 93.0, 63.0, 34.0, 27.5, 10.0, 1695.0, 'non-USA', 'Geo Metro'], ['Geo', 'Storm', 'Sporty', 11.5, 12.5, 13.5, 30.0, 36.0, 'Driver only', 'Front', '4', 1.6, 90.0, 5400.0, 3250.0, 'Yes', 12.4, 4.0, 164.0, 97.0, nan, 37.0, 24.5, 11.0, 2475.0, 'non-USA', 'Geo Storm'], ['Honda', 'Prelude', 'Sporty', 17.0, 19.8, 22.7, 24.0, 31.0, 'Driver & Passenger', 'Front', '4', 2.3, 160.0, 5800.0, 2855.0, 'Yes', nan, 4.0, 175.0, 100.0, 70.0, 39.0, 23.5, 8.0, 2865.0, 'non-USA', 'Honda Prelude'], ['Honda', 'Civic', 'Small', 8.4, 12.1, 15.8, 42.0, 46.0, 'Driver only', 'Front', '4', 1.5, nan, 5900.0, 2650.0, 'Yes', 11.9, 4.0, 173.0, nan, 67.0, 36.0, 28.0, 12.0, nan, 'non-USA', 'Honda Civic'], ['Honda', 'Accord', 'Compact', 13.8, 17.5, 21.2, 24.0, 31.0, 'Driver & Passenger', 'Front', '4', 2.2, 140.0, 5600.0, nan, 'Yes', 17.0, 4.0, 185.0, 107.0, 67.0, 41.0, 28.0, 14.0, 3040.0, 'non-USA', 'Honda Accord'], ['Hyundai', 'Excel', 'Small', 6.8, 8.0, 9.2, 29.0, 33.0, nan, 'Front', '4', 1.5, 81.0, 5500.0, 2710.0, 'Yes', 11.9, 5.0, 168.0, 94.0, 63.0, 35.0, 26.0, 11.0, 2345.0, 'non-USA', 'Hyundai Excel'], ['Hyundai', 'Elantra', 'Small', 9.0, 10.0, 11.0, nan, 29.0, nan, 'Front', '4', 1.8, 124.0, 6000.0, 2745.0, 'Yes', 13.7, 5.0, 172.0, 98.0, 66.0, 36.0, 28.0, 12.0, 2620.0, 'non-USA', 'Hyundai Elantra'], ['Hyundai', 'Scoupe', nan, 9.1, 10.0, 11.0, 26.0, 34.0, nan, 'Front', '4', 1.5, 92.0, 5550.0, 2540.0, 'Yes', 11.9, 4.0, 166.0, 94.0, 64.0, 34.0, 23.5, 9.0, 2285.0, 'non-USA', nan], ['Hyundai', 'Sonata', 'Midsize', 12.4, 13.9, 15.3, 20.0, 27.0, nan, 'Front', '4', 2.0, 128.0, 6000.0, 2335.0, 'Yes', 17.2, 5.0, 184.0, 104.0, 69.0, 41.0, 31.0, nan, 2885.0, nan, 'Hyundai Sonata'], ['Infiniti', 'Q45', 'Midsize', 45.4, 47.9, nan, 17.0, 22.0, nan, 'Rear', '8', 4.5, 278.0, 6000.0, 1955.0, 'No', 22.5, 5.0, 200.0, 113.0, 72.0, 42.0, 29.0, 15.0, 4000.0, 'non-USA', 'Infiniti Q45'], ['Lexus', 'ES300', 'Midsize', 27.5, 28.0, 28.4, 18.0, 24.0, 'Driver only', 'Front', '6', 3.0, 185.0, nan, 2325.0, 'Yes', 18.5, 5.0, 188.0, 103.0, 70.0, 40.0, 27.5, 14.0, 3510.0, 'non-USA', 'Lexus ES300'], [nan, 'SC300', 'Midsize', 34.7, 35.2, 35.6, 18.0, 23.0, 'Driver & Passenger', 'Rear', '6', 3.0, 225.0, 6000.0, 2510.0, 'Yes', nan, 4.0, 191.0, 106.0, 71.0, 39.0, 25.0, 9.0, 3515.0, 'non-USA', 'Lexus SC300'], ['Lincoln', 'Continental', 'Midsize', 33.3, 34.3, 35.3, 17.0, 26.0, 'Driver & Passenger', nan, '6', 3.8, 160.0, 4400.0, 1835.0, 'No', 18.4, 6.0, 205.0, 109.0, 73.0, 42.0, 30.0, 19.0, 3695.0, 'USA', 'Lincoln Continental'], ['Lincoln', 'Town_Car', 'Large', 34.4, 36.1, 37.8, 18.0, 26.0, 'Driver & Passenger', 'Rear', '8', 4.6, 210.0, 4600.0, 1840.0, 'No', 20.0, nan, 219.0, 117.0, 77.0, 45.0, 31.5, 22.0, 4055.0, 'USA', 'Lincoln Town_Car'], ['Mazda', '323', 'Small', 7.4, 8.3, 9.1, 29.0, 37.0, nan, 'Front', '4', 1.6, 82.0, 5000.0, 2370.0, 'Yes', 13.2, 4.0, 164.0, 97.0, 66.0, 34.0, 27.0, 16.0, 2325.0, 'non-USA', 'Mazda 323'], ['Mazda', 'Protege', 'Small', 10.9, 11.6, 12.3, 28.0, 36.0, nan, 'Front', '4', 1.8, 103.0, 5500.0, 2220.0, 'Yes', 14.5, 5.0, 172.0, 98.0, 66.0, 36.0, 26.5, 13.0, 2440.0, 'non-USA', 'Mazda Protege'], ['Mazda', '626', 'Compact', 14.3, 16.5, 18.7, 26.0, 34.0, 'Driver only', 'Front', '4', 2.5, 164.0, 5600.0, 2505.0, 'Yes', 15.5, 5.0, 184.0, 103.0, 69.0, 40.0, 29.5, 14.0, 2970.0, 'non-USA', 'Mazda 626'], ['Mazda', 'MPV', 'Van', 16.6, 19.1, 21.7, 18.0, 24.0, nan, '4WD', '6', 3.0, 155.0, 5000.0, 2240.0, 'No', 19.6, 7.0, 190.0, 110.0, 72.0, 39.0, 27.5, nan, 3735.0, 'non-USA', 'Mazda MPV'], ['Mazda', 'RX-7', 'Sporty', 32.5, 32.5, 32.5, 17.0, 25.0, 'Driver only', nan, 'rotary', 1.3, 255.0, 6500.0, 2325.0, 'Yes', 20.0, 2.0, 169.0, 96.0, 69.0, nan, nan, nan, nan, 'non-USA', 'Mazda RX-7'], ['Mercedes-Benz', '190E', 'Compact', 29.0, 31.9, 34.9, nan, 29.0, 'Driver only', 'Rear', '4', 2.3, 130.0, 5100.0, 2425.0, 'Yes', 14.5, 5.0, 175.0, 105.0, 67.0, 34.0, 26.0, 12.0, 2920.0, nan, 'Mercedes-Benz 190E'], ['Mercedes-Benz', '300E', 'Midsize', 43.8, 61.9, 80.0, 19.0, 25.0, 'Driver & Passenger', 'Rear', '6', 3.2, 217.0, 5500.0, 2220.0, 'No', 18.5, 5.0, nan, 110.0, 69.0, 37.0, nan, 15.0, 3525.0, 'non-USA', 'Mercedes-Benz 300E'], ['Mercury', nan, 'Sporty', 13.3, 14.1, 15.0, 23.0, 26.0, 'Driver only', 'Front', '4', 1.6, 100.0, 5750.0, 2475.0, 'Yes', 11.1, 4.0, 166.0, 95.0, 65.0, 36.0, 19.0, 6.0, 2450.0, 'USA', 'Mercury Capri'], ['Mercury', 'Cougar', 'Midsize', 14.9, 14.9, 14.9, 19.0, 26.0, nan, 'Rear', '6', 3.8, 140.0, 3800.0, 1730.0, 'No', 18.0, 5.0, 199.0, 113.0, 73.0, 38.0, 28.0, 15.0, 3610.0, 'USA', 'Mercury Cougar'], ['Mitsubishi', 'Mirage', 'Small', 7.7, 10.3, 12.9, 29.0, nan, nan, 'Front', '4', 1.5, 92.0, 6000.0, 2505.0, 'Yes', 13.2, 5.0, 172.0, 98.0, 67.0, 36.0, 26.0, 11.0, 2295.0, 'non-USA', 'Mitsubishi Mirage'], ['Mitsubishi', 'Diamante', 'Midsize', 22.4, 26.1, nan, 18.0, 24.0, 'Driver only', 'Front', '6', 3.0, 202.0, 6000.0, 2210.0, 'No', 19.0, 5.0, 190.0, 107.0, 70.0, 43.0, 27.5, 14.0, 3730.0, 'non-USA', 'Mitsubishi Diamante'], ['Nissan', 'Sentra', 'Small', 8.7, 11.8, 14.9, 29.0, 33.0, 'Driver only', 'Front', nan, 1.6, 110.0, 6000.0, 2435.0, 'Yes', 13.2, 5.0, 170.0, 96.0, 66.0, 33.0, 26.0, nan, nan, 'non-USA', 'Nissan Sentra'], ['Nissan', 'Altima', 'Compact', 13.0, 15.7, 18.3, 24.0, 30.0, 'Driver only', 'Front', '4', 2.4, 150.0, 5600.0, 2130.0, 'Yes', 15.9, 5.0, 181.0, 103.0, 67.0, 40.0, 28.5, 14.0, 3050.0, 'non-USA', 'Nissan Altima'], ['Nissan', 'Quest', 'Van', 16.7, 19.1, 21.5, 17.0, 23.0, nan, 'Front', '6', 3.0, nan, 4800.0, 2065.0, 'No', 20.0, 7.0, 190.0, 112.0, 74.0, 41.0, 27.0, nan, 4100.0, 'non-USA', 'Nissan Quest'], ['Nissan', 'Maxima', 'Midsize', 21.0, 21.5, 22.0, 21.0, 26.0, 'Driver only', 'Front', '6', 3.0, 160.0, 5200.0, 2045.0, nan, 18.5, 5.0, 188.0, 104.0, 69.0, 41.0, 28.5, 14.0, 3200.0, 'non-USA', 'Nissan Maxima'], ['Oldsmobile', 'Achieva', 'Compact', 13.0, 13.5, 14.0, 24.0, 31.0, nan, 'Front', '4', 2.3, 155.0, 6000.0, 2380.0, 'No', 15.2, 5.0, 188.0, 103.0, 67.0, 39.0, 28.0, 14.0, 2910.0, 'USA', 'Oldsmobile Achieva'], ['Oldsmobile', 'Cutlass_Ciera', 'Midsize', 14.2, 16.3, 18.4, 23.0, 31.0, 'Driver only', 'Front', '4', 2.2, 110.0, 5200.0, 2565.0, 'No', nan, 5.0, 190.0, 105.0, 70.0, 42.0, 28.0, 16.0, 2890.0, 'USA', 'Oldsmobile Cutlass_Ciera'], ['Oldsmobile', 'Silhouette', 'Van', 19.5, 19.5, 19.5, 18.0, 23.0, nan, 'Front', '6', 3.8, 170.0, 4800.0, 1690.0, 'No', 20.0, 7.0, nan, 110.0, 74.0, 44.0, 30.5, nan, 3715.0, 'USA', 'Oldsmobile Silhouette'], ['Oldsmobile', 'Eighty-Eight', 'Large', 19.5, 20.7, 21.9, nan, 28.0, 'Driver only', 'Front', '6', 3.8, 170.0, 4800.0, 1570.0, 'No', 18.0, 6.0, 201.0, 111.0, 74.0, 42.0, 31.5, 17.0, 3470.0, 'USA', 'Oldsmobile Eighty-Eight'], ['Plymouth', 'Laser', 'Sporty', 11.4, 14.4, 17.4, nan, 30.0, nan, '4WD', '4', 1.8, 92.0, 5000.0, 2360.0, 'Yes', 15.9, 4.0, 173.0, 97.0, 67.0, 39.0, 24.5, 8.0, 2640.0, nan, 'Plymouth Laser'], ['Pontiac', 'LeMans', 'Small', nan, 9.0, 9.9, 31.0, 41.0, nan, 'Front', '4', 1.6, 74.0, 5600.0, 3130.0, 'Yes', 13.2, 4.0, 177.0, 99.0, 66.0, 35.0, 25.5, 17.0, 2350.0, 'USA', 'Pontiac LeMans'], ['Pontiac', 'Sunbird', 'Compact', 9.4, 11.1, 12.8, nan, 31.0, nan, nan, '4', 2.0, 110.0, 5200.0, 2665.0, 'Yes', 15.2, 5.0, 181.0, 101.0, 66.0, 39.0, 25.0, 13.0, nan, 'USA', nan], ['Pontiac', 'Firebird', nan, 14.0, 17.7, 21.4, 19.0, 28.0, 'Driver & Passenger', 'Rear', '6', nan, 160.0, 4600.0, 1805.0, 'Yes', 15.5, 4.0, 196.0, 101.0, 75.0, 43.0, 25.0, 13.0, 3240.0, 'USA', 'Pontiac Firebird'], ['Pontiac', 'Grand_Prix', 'Midsize', 15.4, 18.5, 21.6, 19.0, 27.0, nan, 'Front', '6', 3.4, 200.0, 5000.0, 1890.0, 'Yes', 16.5, 5.0, 195.0, 108.0, 72.0, 41.0, 28.5, 16.0, 3450.0, 'USA', 'Pontiac Grand_Prix'], ['Pontiac', 'Bonneville', 'Large', 19.4, 24.4, 29.4, 19.0, 28.0, 'Driver & Passenger', 'Front', '6', 3.8, 170.0, 4800.0, 1565.0, 'No', 18.0, 6.0, 177.0, 111.0, 74.0, 43.0, 30.5, 18.0, 3495.0, 'USA', 'Pontiac Bonneville'], ['Saab', '900', 'Compact', 20.3, 28.7, 37.1, 20.0, 26.0, nan, 'Front', '4', 2.1, 140.0, 6000.0, 2910.0, 'Yes', 18.0, 5.0, nan, 99.0, 67.0, 37.0, 26.5, 14.0, 2775.0, 'non-USA', 'Saab 900'], ['Saturn', 'SL', 'Small', 9.2, nan, 12.9, nan, 38.0, 'Driver only', 'Front', '4', 1.9, 85.0, 5000.0, 2145.0, 'Yes', 12.8, 5.0, 176.0, 102.0, 68.0, 40.0, 26.5, nan, 2495.0, 'USA', 'Saturn SL'], ['Subaru', 'Justy', 'Small', 7.3, 8.4, 9.5, 33.0, 37.0, nan, '4WD', '3', 1.2, 73.0, 5600.0, 2875.0, 'Yes', 9.2, 4.0, 146.0, 90.0, 60.0, 32.0, 23.5, 10.0, 2045.0, 'non-USA', 'Subaru Justy'], ['Subaru', 'Loyale', 'Small', 10.5, 10.9, 11.3, 25.0, 30.0, nan, '4WD', '4', 1.8, 90.0, 5200.0, 3375.0, 'Yes', 15.9, 5.0, 175.0, 97.0, 65.0, 35.0, 27.5, 15.0, 2490.0, 'non-USA', 'Subaru Loyale'], ['Subaru', 'Legacy', 'Compact', 16.3, 19.5, 22.7, 23.0, 30.0, 'Driver only', '4WD', '4', 2.2, 130.0, nan, 2330.0, 'Yes', 15.9, 5.0, 179.0, 102.0, 67.0, 37.0, 27.0, 14.0, 3085.0, 'non-USA', 'Subaru Legacy'], ['Suzuki', 'Swift', nan, 7.3, 8.6, nan, 39.0, 43.0, nan, 'Front', '3', 1.3, 70.0, 6000.0, 3360.0, 'Yes', 10.6, 4.0, 161.0, 93.0, nan, 34.0, 27.5, 10.0, 1965.0, 'non-USA', 'Suzuki Swift'], ['Toyota', 'Tercel', 'Small', nan, 9.8, 11.8, 32.0, 37.0, 'Driver only', 'Front', '4', 1.5, 82.0, 5200.0, 3505.0, 'Yes', 11.9, nan, 162.0, 94.0, nan, 36.0, 24.0, 11.0, 2055.0, 'non-USA', 'Toyota Tercel'], ['Toyota', 'Celica', 'Sporty', 14.2, 18.4, 22.6, 25.0, 32.0, nan, 'Front', '4', 2.2, 135.0, nan, 2405.0, 'Yes', 15.9, 4.0, 174.0, 99.0, 69.0, nan, 23.0, 13.0, 2950.0, 'non-USA', 'Toyota Celica'], ['Toyota', 'Camry', 'Midsize', 15.2, nan, 21.2, 22.0, 29.0, 'Driver only', nan, '4', 2.2, 130.0, 5400.0, 2340.0, nan, 18.5, 5.0, 188.0, 103.0, 70.0, 38.0, 28.5, 15.0, 3030.0, 'non-USA', 'Toyota Camry'], ['Toyota', 'Previa', 'Van', nan, 22.7, 26.6, 18.0, 22.0, 'Driver only', '4WD', '4', 2.4, 138.0, 5000.0, 2515.0, 'Yes', 19.8, 7.0, 187.0, 113.0, 71.0, 41.0, 35.0, nan, 3785.0, 'non-USA', 'Toyota Previa'], ['Volkswagen', 'Fox', 'Small', 8.7, 9.1, 9.5, 25.0, 33.0, nan, 'Front', '4', 1.8, 81.0, 5500.0, 2550.0, 'Yes', 12.4, 4.0, 163.0, 93.0, 63.0, 34.0, 26.0, 10.0, 2240.0, 'non-USA', 'Volkswagen Fox'], ['Volkswagen', 'Eurovan', 'Van', 16.6, 19.7, 22.7, 17.0, 21.0, nan, 'Front', '5', 2.5, 109.0, 4500.0, 2915.0, 'Yes', 21.1, 7.0, 187.0, 115.0, 72.0, 38.0, 34.0, nan, 3960.0, nan, 'Volkswagen Eurovan'], ['Volkswagen', 'Passat', 'Compact', 17.6, 20.0, 22.4, 21.0, 30.0, nan, 'Front', '4', 2.0, 134.0, 5800.0, 2685.0, 'Yes', 18.5, 5.0, 180.0, 103.0, 67.0, 35.0, 31.5, 14.0, 2985.0, 'non-USA', 'Volkswagen Passat'], ['Volkswagen', 'Corrado', 'Sporty', 22.9, 23.3, 23.7, 18.0, 25.0, nan, 'Front', '6', 2.8, 178.0, 5800.0, 2385.0, 'Yes', 18.5, 4.0, 159.0, 97.0, 66.0, 36.0, 26.0, 15.0, 2810.0, 'non-USA', 'Volkswagen Corrado'], ['Volvo', '240', 'Compact', 21.8, 22.7, 23.5, 21.0, 28.0, 'Driver only', 'Rear', nan, 2.3, 114.0, 5400.0, 2215.0, 'Yes', 15.8, 5.0, 190.0, 104.0, 67.0, 37.0, 29.5, 14.0, 2985.0, 'non-USA', 'Volvo 240'], [nan, '850', 'Midsize', 24.8, 26.7, 28.5, 20.0, 28.0, 'Driver & Passenger', 'Front', '5', 2.4, 168.0, 6200.0, nan, 'Yes', 19.3, 5.0, 184.0, 105.0, 69.0, 38.0, 30.0, 15.0, 3245.0, 'non-USA', 'Volvo 850']]\n"
          ]
        }
      ]
    },
    {
      "cell_type": "code",
      "source": [
        "# n37\n",
        "\n",
        "import pandas as pd\n",
        "\n",
        "url = \"https://raw.githubusercontent.com/selva86/datasets/master/Cars93_miss.csv\"\n",
        "df = pd.read_csv(url)\n",
        "\n",
        "max_price_row = df.loc[df['Price'].idxmax()]\n",
        "\n",
        "row_index = df['Price'].idxmax()\n",
        "column_name = 'Price'\n",
        "\n",
        "print(f\"Производитель: {max_price_row['Manufacturer']}\")\n",
        "print(f\"Модель: {max_price_row['Model']}\")\n",
        "print(f\"Тип: {max_price_row['Type']}\")\n",
        "print(f\"Максимальная цена: {max_price_row['Price']}\")\n",
        "print(f\"Номер строки: {row_index}\")\n",
        "print(f\"Номер столбца: {column_name}\")"
      ],
      "metadata": {
        "id": "ue0-dgZB4Pmu",
        "colab": {
          "base_uri": "https://localhost:8080/"
        },
        "outputId": "1043231f-43fd-4681-da03-d38c07c8a9a0"
      },
      "execution_count": 88,
      "outputs": [
        {
          "output_type": "stream",
          "name": "stdout",
          "text": [
            "Производитель: Mercedes-Benz\n",
            "Модель: 300E\n",
            "Тип: Midsize\n",
            "Максимальная цена: 61.9\n",
            "Номер строки: 58\n",
            "Номер столбца: Price\n"
          ]
        }
      ]
    },
    {
      "cell_type": "code",
      "source": [
        "# n38\n",
        "\n",
        "import pandas as pd\n",
        "\n",
        "url = \"https://raw.githubusercontent.com/selva86/datasets/master/Cars93_miss.csv\"\n",
        "df = pd.read_csv(url)\n",
        "\n",
        "df.rename(columns={'Type': 'CarType'}, inplace=True)\n",
        "\n",
        "df.columns = df.columns.str.replace('.', '_')\n",
        "\n",
        "print(df.columns)"
      ],
      "metadata": {
        "colab": {
          "base_uri": "https://localhost:8080/"
        },
        "id": "dKRb-blF5jt3",
        "outputId": "9bd0839a-0f67-4824-9b61-599967926af1"
      },
      "execution_count": 89,
      "outputs": [
        {
          "output_type": "stream",
          "name": "stdout",
          "text": [
            "Index(['Manufacturer', 'Model', 'CarType', 'Min_Price', 'Price', 'Max_Price',\n",
            "       'MPG_city', 'MPG_highway', 'AirBags', 'DriveTrain', 'Cylinders',\n",
            "       'EngineSize', 'Horsepower', 'RPM', 'Rev_per_mile', 'Man_trans_avail',\n",
            "       'Fuel_tank_capacity', 'Passengers', 'Length', 'Wheelbase', 'Width',\n",
            "       'Turn_circle', 'Rear_seat_room', 'Luggage_room', 'Weight', 'Origin',\n",
            "       'Make'],\n",
            "      dtype='object')\n"
          ]
        }
      ]
    },
    {
      "cell_type": "code",
      "source": [
        "# n39\n",
        "\n",
        "import pandas as pd\n",
        "\n",
        "url = \"https://raw.githubusercontent.com/selva86/datasets/master/Cars93_miss.csv\"\n",
        "df = pd.read_csv(url)\n",
        "\n",
        "missing_values = df.isnull().sum()\n",
        "\n",
        "print(\"Количество отсутствующих значений в каждом столбце:\")\n",
        "print(missing_values)\n",
        "\n",
        "has_missing_values = df.isnull().values.any()\n",
        "print(f\"\\nЕсть ли отсутствующие значения в DataFrame: {has_missing_values}\")"
      ],
      "metadata": {
        "colab": {
          "base_uri": "https://localhost:8080/"
        },
        "id": "xWTuSuKk5j0u",
        "outputId": "ad3cc5a3-2975-420a-9343-b7af804d3622"
      },
      "execution_count": 98,
      "outputs": [
        {
          "output_type": "stream",
          "name": "stdout",
          "text": [
            "Количество отсутствующих значений в каждом столбце:\n",
            "Manufacturer           4\n",
            "Model                  1\n",
            "Type                   3\n",
            "Min.Price              7\n",
            "Price                  2\n",
            "Max.Price              5\n",
            "MPG.city               9\n",
            "MPG.highway            2\n",
            "AirBags               38\n",
            "DriveTrain             7\n",
            "Cylinders              5\n",
            "EngineSize             2\n",
            "Horsepower             7\n",
            "RPM                    3\n",
            "Rev.per.mile           6\n",
            "Man.trans.avail        5\n",
            "Fuel.tank.capacity     8\n",
            "Passengers             2\n",
            "Length                 4\n",
            "Wheelbase              1\n",
            "Width                  6\n",
            "Turn.circle            5\n",
            "Rear.seat.room         4\n",
            "Luggage.room          19\n",
            "Weight                 7\n",
            "Origin                 5\n",
            "Make                   3\n",
            "dtype: int64\n",
            "\n",
            "Есть ли отсутствующие значения в DataFrame: True\n"
          ]
        }
      ]
    },
    {
      "cell_type": "code",
      "source": [
        "# n40\n",
        "\n",
        "import pandas as pd\n",
        "\n",
        "url = \"https://raw.githubusercontent.com/selva86/datasets/master/Cars93_miss.csv\"\n",
        "df = pd.read_csv(url)\n",
        "\n",
        "missing_values = df.isnull().sum()\n",
        "\n",
        "print(\"Количество пропущенных значений в каждом столбце:\")\n",
        "print(missing_values)\n",
        "\n",
        "max_missing_column = missing_values.idxmax()\n",
        "max_missing_count = missing_values.max()\n",
        "\n",
        "print(f\"\\nСтолбец с наибольшим числом пропущенных значений: {max_missing_column}\")\n",
        "print(f\"Количество пропущенных значений: {max_missing_count}\")"
      ],
      "metadata": {
        "colab": {
          "base_uri": "https://localhost:8080/"
        },
        "id": "vwaNLI0j5j6e",
        "outputId": "ab3b9e5e-38af-486f-d3e2-d819c5c6ab92"
      },
      "execution_count": 99,
      "outputs": [
        {
          "output_type": "stream",
          "name": "stdout",
          "text": [
            "Количество пропущенных значений в каждом столбце:\n",
            "Manufacturer           4\n",
            "Model                  1\n",
            "Type                   3\n",
            "Min.Price              7\n",
            "Price                  2\n",
            "Max.Price              5\n",
            "MPG.city               9\n",
            "MPG.highway            2\n",
            "AirBags               38\n",
            "DriveTrain             7\n",
            "Cylinders              5\n",
            "EngineSize             2\n",
            "Horsepower             7\n",
            "RPM                    3\n",
            "Rev.per.mile           6\n",
            "Man.trans.avail        5\n",
            "Fuel.tank.capacity     8\n",
            "Passengers             2\n",
            "Length                 4\n",
            "Wheelbase              1\n",
            "Width                  6\n",
            "Turn.circle            5\n",
            "Rear.seat.room         4\n",
            "Luggage.room          19\n",
            "Weight                 7\n",
            "Origin                 5\n",
            "Make                   3\n",
            "dtype: int64\n",
            "\n",
            "Столбец с наибольшим числом пропущенных значений: AirBags\n",
            "Количество пропущенных значений: 38\n"
          ]
        }
      ]
    },
    {
      "cell_type": "code",
      "source": [
        "# n41\n",
        "\n",
        "import pandas as pd\n",
        "\n",
        "url = \"https://raw.githubusercontent.com/selva86/datasets/master/Cars93_miss.csv\"\n",
        "df = pd.read_csv(url)\n",
        "\n",
        "df['Min.Price'] = df['Min.Price'].apply(lambda x: df['Min.Price'].mean() if pd.isna(x) else x)\n",
        "\n",
        "df['Max.Price'] = df['Max.Price'].apply(lambda x: df['Max.Price'].median() if pd.isna(x) else x)\n",
        "\n",
        "print(df[['Min.Price', 'Max.Price']].head())"
      ],
      "metadata": {
        "colab": {
          "base_uri": "https://localhost:8080/"
        },
        "id": "6ukpX5US5kAu",
        "outputId": "95aec518-bb94-49c5-97f8-fdfe22b895d4"
      },
      "execution_count": 100,
      "outputs": [
        {
          "output_type": "stream",
          "name": "stdout",
          "text": [
            "   Min.Price  Max.Price\n",
            "0  12.900000      18.80\n",
            "1  29.200000      38.70\n",
            "2  25.900000      32.30\n",
            "3  17.118605      44.60\n",
            "4  17.118605      19.15\n"
          ]
        }
      ]
    },
    {
      "cell_type": "code",
      "source": [
        "# n42\n",
        "\n",
        "import pandas as pd\n",
        "\n",
        "df = pd.read_csv('https://raw.githubusercontent.com/selva86/datasets/master/Cars93_miss.csv')\n",
        "\n",
        "def replace_missing(column):\n",
        "    if column.name == 'Min.Price':\n",
        "        return column.fillna(column.mean())\n",
        "    elif column.name == 'Max.Price':\n",
        "        return column.fillna(column.median())\n",
        "    return column\n",
        "\n",
        "df = df.apply(replace_missing, axis=0)\n",
        "\n",
        "print(df)"
      ],
      "metadata": {
        "colab": {
          "base_uri": "https://localhost:8080/"
        },
        "id": "8-yysIoj5kPe",
        "outputId": "09c77e92-8077-4586-b9a6-1f1bd1717f1c"
      },
      "execution_count": 101,
      "outputs": [
        {
          "output_type": "stream",
          "name": "stdout",
          "text": [
            "   Manufacturer    Model     Type  Min.Price  Price  Max.Price  MPG.city  \\\n",
            "0         Acura  Integra    Small  12.900000   15.9      18.80      25.0   \n",
            "1           NaN   Legend  Midsize  29.200000   33.9      38.70      18.0   \n",
            "2          Audi       90  Compact  25.900000   29.1      32.30      20.0   \n",
            "3          Audi      100  Midsize  17.118605   37.7      44.60      19.0   \n",
            "4           BMW     535i  Midsize  17.118605   30.0      19.15      22.0   \n",
            "..          ...      ...      ...        ...    ...        ...       ...   \n",
            "88   Volkswagen  Eurovan      Van  16.600000   19.7      22.70      17.0   \n",
            "89   Volkswagen   Passat  Compact  17.600000   20.0      22.40      21.0   \n",
            "90   Volkswagen  Corrado   Sporty  22.900000   23.3      23.70      18.0   \n",
            "91        Volvo      240  Compact  21.800000   22.7      23.50      21.0   \n",
            "92          NaN      850  Midsize  24.800000   26.7      28.50      20.0   \n",
            "\n",
            "    MPG.highway             AirBags DriveTrain  ... Passengers  Length  \\\n",
            "0          31.0                 NaN      Front  ...        5.0   177.0   \n",
            "1          25.0  Driver & Passenger      Front  ...        5.0   195.0   \n",
            "2          26.0         Driver only      Front  ...        5.0   180.0   \n",
            "3          26.0  Driver & Passenger        NaN  ...        6.0   193.0   \n",
            "4          30.0                 NaN       Rear  ...        4.0   186.0   \n",
            "..          ...                 ...        ...  ...        ...     ...   \n",
            "88         21.0                 NaN      Front  ...        7.0   187.0   \n",
            "89         30.0                 NaN      Front  ...        5.0   180.0   \n",
            "90         25.0                 NaN      Front  ...        4.0   159.0   \n",
            "91         28.0         Driver only       Rear  ...        5.0   190.0   \n",
            "92         28.0  Driver & Passenger      Front  ...        5.0   184.0   \n",
            "\n",
            "    Wheelbase  Width  Turn.circle Rear.seat.room  Luggage.room  Weight  \\\n",
            "0       102.0   68.0         37.0           26.5           NaN  2705.0   \n",
            "1       115.0   71.0         38.0           30.0          15.0  3560.0   \n",
            "2       102.0   67.0         37.0           28.0          14.0  3375.0   \n",
            "3       106.0    NaN         37.0           31.0          17.0  3405.0   \n",
            "4       109.0   69.0         39.0           27.0          13.0  3640.0   \n",
            "..        ...    ...          ...            ...           ...     ...   \n",
            "88      115.0   72.0         38.0           34.0           NaN  3960.0   \n",
            "89      103.0   67.0         35.0           31.5          14.0  2985.0   \n",
            "90       97.0   66.0         36.0           26.0          15.0  2810.0   \n",
            "91      104.0   67.0         37.0           29.5          14.0  2985.0   \n",
            "92      105.0   69.0         38.0           30.0          15.0  3245.0   \n",
            "\n",
            "     Origin                Make  \n",
            "0   non-USA       Acura Integra  \n",
            "1   non-USA        Acura Legend  \n",
            "2   non-USA             Audi 90  \n",
            "3   non-USA            Audi 100  \n",
            "4   non-USA            BMW 535i  \n",
            "..      ...                 ...  \n",
            "88      NaN  Volkswagen Eurovan  \n",
            "89  non-USA   Volkswagen Passat  \n",
            "90  non-USA  Volkswagen Corrado  \n",
            "91  non-USA           Volvo 240  \n",
            "92  non-USA           Volvo 850  \n",
            "\n",
            "[93 rows x 27 columns]\n"
          ]
        }
      ]
    },
    {
      "cell_type": "code",
      "source": [
        "# n43\n",
        "\n",
        "import pandas as pd\n",
        "import numpy as np\n",
        "\n",
        "df = pd.DataFrame(np.arange(20).reshape(-1, 5), columns=list('abcde'))\n",
        "\n",
        "first_column_as_df = df.loc[:, ['a']]\n",
        "\n",
        "print(first_column_as_df)"
      ],
      "metadata": {
        "colab": {
          "base_uri": "https://localhost:8080/"
        },
        "id": "lwakLlG_5kVg",
        "outputId": "63abd93d-8938-48de-e813-7248b9a2e336"
      },
      "execution_count": 102,
      "outputs": [
        {
          "output_type": "stream",
          "name": "stdout",
          "text": [
            "    a\n",
            "0   0\n",
            "1   5\n",
            "2  10\n",
            "3  15\n"
          ]
        }
      ]
    },
    {
      "cell_type": "code",
      "source": [
        "# n44\n",
        "\n",
        "import pandas as pd\n",
        "import numpy as np\n",
        "\n",
        "df = pd.DataFrame(np.arange(20).reshape(-1, 5), columns=list('abcde'))\n",
        "\n",
        "df[['a', 'c']] = df[['c', 'a']]\n",
        "print(\"После обмена столбцов 'a' и 'c':\")\n",
        "print(df)\n",
        "\n",
        "def swap_columns(df, col1, col2):\n",
        "    df[[col1, col2]] = df[[col2, col1]]\n",
        "    return df\n",
        "\n",
        "df = swap_columns(df, 'a', 'c')\n",
        "print(\"\\nПосле повторного обмена столбцов 'a' и 'c' с использованием функции:\")\n",
        "print(df)\n",
        "\n",
        "df = df.reindex(columns=sorted(df.columns, reverse=True))\n",
        "print(\"\\nПосле сортировки столбцов в обратном алфавитном порядке:\")\n",
        "print(df)"
      ],
      "metadata": {
        "colab": {
          "base_uri": "https://localhost:8080/"
        },
        "id": "kMnj_AYb5kbx",
        "outputId": "b020854d-dafe-4793-e14b-2f4fea6e5c3c"
      },
      "execution_count": 104,
      "outputs": [
        {
          "output_type": "stream",
          "name": "stdout",
          "text": [
            "После обмена столбцов 'a' и 'c':\n",
            "    a   b   c   d   e\n",
            "0   2   1   0   3   4\n",
            "1   7   6   5   8   9\n",
            "2  12  11  10  13  14\n",
            "3  17  16  15  18  19\n",
            "\n",
            "После повторного обмена столбцов 'a' и 'c' с использованием функции:\n",
            "    a   b   c   d   e\n",
            "0   0   1   2   3   4\n",
            "1   5   6   7   8   9\n",
            "2  10  11  12  13  14\n",
            "3  15  16  17  18  19\n",
            "\n",
            "После сортировки столбцов в обратном алфавитном порядке:\n",
            "    e   d   c   b   a\n",
            "0   4   3   2   1   0\n",
            "1   9   8   7   6   5\n",
            "2  14  13  12  11  10\n",
            "3  19  18  17  16  15\n"
          ]
        }
      ]
    },
    {
      "cell_type": "code",
      "source": [
        "# n45\n",
        "\n",
        "import pandas as pd\n",
        "\n",
        "df = pd.read_csv('https://raw.githubusercontent.com/selva86/datasets/master/Cars93_miss.csv')\n",
        "\n",
        "pd.set_option('display.max_rows', 10)\n",
        "pd.set_option('display.max_columns', 10)\n",
        "\n",
        "print(df)"
      ],
      "metadata": {
        "colab": {
          "base_uri": "https://localhost:8080/"
        },
        "id": "5bthkSBD5ki_",
        "outputId": "e59e9185-3ada-4b4c-a1d3-7b68d278afa5"
      },
      "execution_count": 103,
      "outputs": [
        {
          "output_type": "stream",
          "name": "stdout",
          "text": [
            "   Manufacturer    Model     Type  Min.Price  Price  ...  Rear.seat.room  \\\n",
            "0         Acura  Integra    Small       12.9   15.9  ...            26.5   \n",
            "1           NaN   Legend  Midsize       29.2   33.9  ...            30.0   \n",
            "2          Audi       90  Compact       25.9   29.1  ...            28.0   \n",
            "3          Audi      100  Midsize        NaN   37.7  ...            31.0   \n",
            "4           BMW     535i  Midsize        NaN   30.0  ...            27.0   \n",
            "..          ...      ...      ...        ...    ...  ...             ...   \n",
            "88   Volkswagen  Eurovan      Van       16.6   19.7  ...            34.0   \n",
            "89   Volkswagen   Passat  Compact       17.6   20.0  ...            31.5   \n",
            "90   Volkswagen  Corrado   Sporty       22.9   23.3  ...            26.0   \n",
            "91        Volvo      240  Compact       21.8   22.7  ...            29.5   \n",
            "92          NaN      850  Midsize       24.8   26.7  ...            30.0   \n",
            "\n",
            "    Luggage.room  Weight   Origin                Make  \n",
            "0            NaN  2705.0  non-USA       Acura Integra  \n",
            "1           15.0  3560.0  non-USA        Acura Legend  \n",
            "2           14.0  3375.0  non-USA             Audi 90  \n",
            "3           17.0  3405.0  non-USA            Audi 100  \n",
            "4           13.0  3640.0  non-USA            BMW 535i  \n",
            "..           ...     ...      ...                 ...  \n",
            "88           NaN  3960.0      NaN  Volkswagen Eurovan  \n",
            "89          14.0  2985.0  non-USA   Volkswagen Passat  \n",
            "90          15.0  2810.0  non-USA  Volkswagen Corrado  \n",
            "91          14.0  2985.0  non-USA           Volvo 240  \n",
            "92          15.0  3245.0  non-USA           Volvo 850  \n",
            "\n",
            "[93 rows x 27 columns]\n"
          ]
        }
      ]
    },
    {
      "cell_type": "code",
      "source": [
        "# n46\n",
        "\n",
        "import pandas as pd\n",
        "import numpy as np\n",
        "\n",
        "df = pd.DataFrame(np.random.random(4) ** 10, columns=['random'])\n",
        "\n",
        "pd.set_option('display.float_format', '{:.4f}'.format)\n",
        "\n",
        "print(df)"
      ],
      "metadata": {
        "colab": {
          "base_uri": "https://localhost:8080/"
        },
        "id": "p-R1egkF5krP",
        "outputId": "98847c51-8c49-47c9-849f-04cb463904da"
      },
      "execution_count": 105,
      "outputs": [
        {
          "output_type": "stream",
          "name": "stdout",
          "text": [
            "   random\n",
            "0  0.0120\n",
            "1  0.0260\n",
            "2  0.0000\n",
            "3  0.0900\n"
          ]
        }
      ]
    },
    {
      "cell_type": "code",
      "source": [
        "# n47\n",
        "\n",
        "import pandas as pd\n",
        "import numpy as np\n",
        "\n",
        "df = pd.DataFrame(np.random.random(4), columns=['random'])\n",
        "\n",
        "df['random'] = df['random'].apply(lambda x: f'{x * 100:.2f}%')\n",
        "\n",
        "print(df)"
      ],
      "metadata": {
        "colab": {
          "base_uri": "https://localhost:8080/"
        },
        "id": "BQShsyJW5kx7",
        "outputId": "dd77b595-569a-4ea8-856b-0c495885b596"
      },
      "execution_count": 106,
      "outputs": [
        {
          "output_type": "stream",
          "name": "stdout",
          "text": [
            "   random\n",
            "0  72.24%\n",
            "1  65.00%\n",
            "2  26.03%\n",
            "3  21.11%\n"
          ]
        }
      ]
    },
    {
      "cell_type": "code",
      "source": [
        "# n48\n",
        "\n",
        "import pandas as pd\n",
        "\n",
        "df = pd.read_csv('https://raw.githubusercontent.com/selva86/datasets/master/Cars93_miss.csv')\n",
        "\n",
        "filtered_df = df.iloc[::20, :][['Manufacturer', 'Model', 'Type']]\n",
        "\n",
        "print(filtered_df)"
      ],
      "metadata": {
        "colab": {
          "base_uri": "https://localhost:8080/"
        },
        "id": "4eHkLWKH5k4o",
        "outputId": "66032d37-8a28-4d6f-c467-9d9978429cb8"
      },
      "execution_count": 107,
      "outputs": [
        {
          "output_type": "stream",
          "name": "stdout",
          "text": [
            "   Manufacturer    Model     Type\n",
            "0         Acura  Integra    Small\n",
            "20     Chrysler  LeBaron  Compact\n",
            "40        Honda  Prelude   Sporty\n",
            "60      Mercury   Cougar  Midsize\n",
            "80       Subaru   Loyale    Small\n"
          ]
        }
      ]
    },
    {
      "cell_type": "code",
      "source": [
        "# n49\n",
        "\n",
        "import pandas as pd\n",
        "\n",
        "df = pd.read_csv('https://raw.githubusercontent.com/selva86/datasets/master/Cars93_miss.csv', usecols=[0, 1, 2, 3, 5])\n",
        "\n",
        "df[['Manufacturer', 'Model', 'Type']] = df[['Manufacturer', 'Model', 'Type']].fillna('missing')\n",
        "\n",
        "df['index'] = df['Manufacturer'] + '_' + df['Model'] + '_' + df['Type']\n",
        "df.set_index('index', inplace=True)\n",
        "\n",
        "is_primary_key = df.index.is_unique\n",
        "\n",
        "print(df)\n",
        "print(f\"Индекс является первичным ключом: {is_primary_key}\")"
      ],
      "metadata": {
        "colab": {
          "base_uri": "https://localhost:8080/"
        },
        "id": "Sq17gRK05k_H",
        "outputId": "a30686b1-f6e7-4ce0-a14a-09b9aa69ebaf"
      },
      "execution_count": 108,
      "outputs": [
        {
          "output_type": "stream",
          "name": "stdout",
          "text": [
            "                          Manufacturer    Model     Type  Min.Price  Max.Price\n",
            "index                                                                         \n",
            "Acura_Integra_Small              Acura  Integra    Small    12.9000    18.8000\n",
            "missing_Legend_Midsize         missing   Legend  Midsize    29.2000    38.7000\n",
            "Audi_90_Compact                   Audi       90  Compact    25.9000    32.3000\n",
            "Audi_100_Midsize                  Audi      100  Midsize        NaN    44.6000\n",
            "BMW_535i_Midsize                   BMW     535i  Midsize        NaN        NaN\n",
            "...                                ...      ...      ...        ...        ...\n",
            "Volkswagen_Eurovan_Van      Volkswagen  Eurovan      Van    16.6000    22.7000\n",
            "Volkswagen_Passat_Compact   Volkswagen   Passat  Compact    17.6000    22.4000\n",
            "Volkswagen_Corrado_Sporty   Volkswagen  Corrado   Sporty    22.9000    23.7000\n",
            "Volvo_240_Compact                Volvo      240  Compact    21.8000    23.5000\n",
            "missing_850_Midsize            missing      850  Midsize    24.8000    28.5000\n",
            "\n",
            "[93 rows x 5 columns]\n",
            "Индекс является первичным ключом: True\n"
          ]
        }
      ]
    },
    {
      "cell_type": "code",
      "source": [
        "# n50\n",
        "\n",
        "import pandas as pd\n",
        "import numpy as np\n",
        "\n",
        "df = pd.DataFrame(np.random.randint(1, 30, 30).reshape(10, -1), columns=list('abc'))\n",
        "\n",
        "fifth_largest_value = df['a'].nlargest(5).iloc[-1]\n",
        "\n",
        "position = df[df['a'] == fifth_largest_value].index[0]\n",
        "\n",
        "print(f\"Позиция строки с 5-м наибольшим значением в столбце 'a': {position}\")"
      ],
      "metadata": {
        "colab": {
          "base_uri": "https://localhost:8080/"
        },
        "id": "_tuH4Qqw5lFo",
        "outputId": "793902bb-538e-4f19-ce92-d4b1d8879527"
      },
      "execution_count": 109,
      "outputs": [
        {
          "output_type": "stream",
          "name": "stdout",
          "text": [
            "Позиция строки с 5-м наибольшим значением в столбце 'a': 3\n"
          ]
        }
      ]
    },
    {
      "cell_type": "code",
      "source": [
        "# n51\n",
        "\n",
        "import pandas as pd\n",
        "import numpy as np\n",
        "\n",
        "ser = pd.Series(np.random.randint(1, 100, 15))\n",
        "\n",
        "mean_value = ser.mean()\n",
        "\n",
        "filtered_ser = ser[ser > mean_value]\n",
        "\n",
        "second_largest = filtered_ser.sort_values(ascending=False).iloc[1]\n",
        "\n",
        "print(\"Второе по величине значение, превышающее среднее:\", second_largest)"
      ],
      "metadata": {
        "colab": {
          "base_uri": "https://localhost:8080/"
        },
        "id": "q-eGkGZV5lMg",
        "outputId": "1dfac666-5f07-41cb-ee98-9a8a936524d2"
      },
      "execution_count": 111,
      "outputs": [
        {
          "output_type": "stream",
          "name": "stdout",
          "text": [
            "Второе по величине значение, превышающее среднее: 96\n"
          ]
        }
      ]
    },
    {
      "cell_type": "code",
      "source": [
        "# n52\n",
        "\n",
        "import pandas as pd\n",
        "import numpy as np\n",
        "\n",
        "df = pd.DataFrame(np.random.randint(10, 40, 60).reshape(-1, 4))\n",
        "\n",
        "row_sums = df.sum(axis=1)\n",
        "\n",
        "filtered_df = df[row_sums > 100]\n",
        "\n",
        "result = filtered_df.tail(2)\n",
        "\n",
        "print(\"Две последние строки, сумма строк которых больше 100:\")\n",
        "print(result)"
      ],
      "metadata": {
        "colab": {
          "base_uri": "https://localhost:8080/"
        },
        "id": "PUMK4ep95lTA",
        "outputId": "e0b1ab8f-caf3-47ff-b0e1-23f3548c9fd1"
      },
      "execution_count": 112,
      "outputs": [
        {
          "output_type": "stream",
          "name": "stdout",
          "text": [
            "Две последние строки, сумма строк которых больше 100:\n",
            "     0   1   2   3\n",
            "8   38  38  26  15\n",
            "12  34  38  32  36\n"
          ]
        }
      ]
    },
    {
      "cell_type": "code",
      "source": [
        "# n53\n",
        "\n",
        "import pandas as pd\n",
        "import numpy as np\n",
        "\n",
        "ser = pd.Series(np.logspace(-2, 2, 30))\n",
        "\n",
        "percentile_5 = ser.quantile(0.05)\n",
        "percentile_95 = ser.quantile(0.95)\n",
        "\n",
        "ser[ser < percentile_5] = percentile_5\n",
        "\n",
        "ser[ser > percentile_95] = percentile_95\n",
        "\n",
        "print(ser)"
      ],
      "metadata": {
        "colab": {
          "base_uri": "https://localhost:8080/"
        },
        "id": "NLpUqrmN5lZO",
        "outputId": "49dbf201-e8d3-44ca-c479-24faa9397c6f"
      },
      "execution_count": 113,
      "outputs": [
        {
          "output_type": "stream",
          "name": "stdout",
          "text": [
            "0     0.0160\n",
            "1     0.0160\n",
            "2     0.0189\n",
            "3     0.0259\n",
            "4     0.0356\n",
            "       ...  \n",
            "25   28.0722\n",
            "26   38.5662\n",
            "27   52.9832\n",
            "28   63.8767\n",
            "29   63.8767\n",
            "Length: 30, dtype: float64\n"
          ]
        }
      ]
    },
    {
      "cell_type": "code",
      "source": [
        "# n54\n",
        "\n",
        "import pandas as pd\n",
        "import numpy as np\n",
        "\n",
        "df = pd.DataFrame(np.random.randint(-20, 50, 100).reshape(10, -1))\n",
        "\n",
        "positive_values = df[df >= 0].stack().reset_index(drop=True)\n",
        "\n",
        "n = int(np.sqrt(len(positive_values)))\n",
        "\n",
        "positive_values = positive_values.nlargest(n**2)\n",
        "\n",
        "square_df = positive_values.values.reshape(n, n)\n",
        "\n",
        "result_df = pd.DataFrame(square_df)\n",
        "\n",
        "print(result_df)"
      ],
      "metadata": {
        "colab": {
          "base_uri": "https://localhost:8080/"
        },
        "id": "NwE6X5LX5lf3",
        "outputId": "2118b71d-4e13-496a-80f8-73762fd0c62a"
      },
      "execution_count": 114,
      "outputs": [
        {
          "output_type": "stream",
          "name": "stdout",
          "text": [
            "        0       1       2       3       4       5       6       7\n",
            "0 49.0000 48.0000 47.0000 46.0000 46.0000 46.0000 44.0000 43.0000\n",
            "1 42.0000 41.0000 39.0000 39.0000 36.0000 35.0000 35.0000 35.0000\n",
            "2 34.0000 34.0000 34.0000 33.0000 33.0000 32.0000 32.0000 31.0000\n",
            "3 31.0000 31.0000 31.0000 31.0000 30.0000 29.0000 27.0000 26.0000\n",
            "4 26.0000 23.0000 23.0000 21.0000 21.0000 20.0000 19.0000 17.0000\n",
            "5 17.0000 17.0000 16.0000 16.0000 14.0000 14.0000 13.0000 13.0000\n",
            "6 12.0000 12.0000 10.0000 10.0000 10.0000  9.0000  9.0000  9.0000\n",
            "7  9.0000  8.0000  8.0000  7.0000  5.0000  4.0000  4.0000  4.0000\n"
          ]
        }
      ]
    },
    {
      "cell_type": "code",
      "source": [
        "# n55\n",
        "\n",
        "import pandas as pd\n",
        "import numpy as np\n",
        "\n",
        "df = pd.DataFrame(np.arange(25).reshape(5, -1))\n",
        "\n",
        "df.iloc[[1, 2]] = df.iloc[[2, 1]].values\n",
        "\n",
        "print(df)"
      ],
      "metadata": {
        "colab": {
          "base_uri": "https://localhost:8080/"
        },
        "id": "7Ol5M0tl5lnA",
        "outputId": "704598e0-aef9-4fea-9e5e-40620f32b503"
      },
      "execution_count": 115,
      "outputs": [
        {
          "output_type": "stream",
          "name": "stdout",
          "text": [
            "    0   1   2   3   4\n",
            "0   0   1   2   3   4\n",
            "1  10  11  12  13  14\n",
            "2   5   6   7   8   9\n",
            "3  15  16  17  18  19\n",
            "4  20  21  22  23  24\n"
          ]
        }
      ]
    },
    {
      "cell_type": "code",
      "source": [
        "# n56\n",
        "\n",
        "import pandas as pd\n",
        "import numpy as np\n",
        "\n",
        "# Создание датафрейма\n",
        "df = pd.DataFrame(np.arange(25).reshape(5, -1))\n",
        "\n",
        "# Переворачивание строк датафрейма\n",
        "reversed_df = df.iloc[::-1]\n",
        "\n",
        "print(\"Исходный датафрейм:\")\n",
        "print(df)\n",
        "print(\"\\nПеревернутый датафрейм:\")\n",
        "print(reversed_df)"
      ],
      "metadata": {
        "colab": {
          "base_uri": "https://localhost:8080/"
        },
        "id": "LMqG1yE25lum",
        "outputId": "44963868-9910-48e8-dc07-f0a38bb562d4"
      },
      "execution_count": 116,
      "outputs": [
        {
          "output_type": "stream",
          "name": "stdout",
          "text": [
            "Исходный датафрейм:\n",
            "    0   1   2   3   4\n",
            "0   0   1   2   3   4\n",
            "1   5   6   7   8   9\n",
            "2  10  11  12  13  14\n",
            "3  15  16  17  18  19\n",
            "4  20  21  22  23  24\n",
            "\n",
            "Перевернутый датафрейм:\n",
            "    0   1   2   3   4\n",
            "4  20  21  22  23  24\n",
            "3  15  16  17  18  19\n",
            "2  10  11  12  13  14\n",
            "1   5   6   7   8   9\n",
            "0   0   1   2   3   4\n"
          ]
        }
      ]
    },
    {
      "cell_type": "code",
      "source": [
        "# n57\n",
        "\n",
        "import pandas as pd\n",
        "import numpy as np\n",
        "\n",
        "df = pd.DataFrame(np.arange(25).reshape(5, -1), columns=list('abcde'))\n",
        "\n",
        "binary_columns = pd.get_dummies(df['a'])\n",
        "\n",
        "df = pd.concat([binary_columns, df[['b', 'c', 'd', 'e']]], axis=1)\n",
        "\n",
        "print(df)"
      ],
      "metadata": {
        "colab": {
          "base_uri": "https://localhost:8080/"
        },
        "id": "GB7y7VNv5l1N",
        "outputId": "5fe5b47a-c70d-4af0-cb1d-64f451d532eb"
      },
      "execution_count": 119,
      "outputs": [
        {
          "output_type": "stream",
          "name": "stdout",
          "text": [
            "       0      5     10     15     20   b   c   d   e\n",
            "0   True  False  False  False  False   1   2   3   4\n",
            "1  False   True  False  False  False   6   7   8   9\n",
            "2  False  False   True  False  False  11  12  13  14\n",
            "3  False  False  False   True  False  16  17  18  19\n",
            "4  False  False  False  False   True  21  22  23  24\n"
          ]
        }
      ]
    },
    {
      "cell_type": "code",
      "source": [
        "# n58\n",
        "\n",
        "import pandas as pd\n",
        "import numpy as np\n",
        "\n",
        "df = pd.DataFrame(np.random.randint(1, 100, 40).reshape(10, -1))\n",
        "\n",
        "row_max = df.max(axis=1)\n",
        "\n",
        "max_counts = (df.eq(row_max, axis=0)).sum()\n",
        "\n",
        "column_with_most_max = max_counts.idxmax()\n",
        "\n",
        "print(f\"Столбец с наибольшим количеством строчных максимумов: {column_with_most_max}\")"
      ],
      "metadata": {
        "colab": {
          "base_uri": "https://localhost:8080/"
        },
        "id": "Gm7qPpWK5l7f",
        "outputId": "e684f3fa-2699-413d-cfcd-8aa1fa542235"
      },
      "execution_count": 124,
      "outputs": [
        {
          "output_type": "stream",
          "name": "stdout",
          "text": [
            "Столбец с наибольшим количеством строчных максимумов: 3\n"
          ]
        }
      ]
    },
    {
      "cell_type": "code",
      "source": [
        "# n59\n",
        "\n",
        "import pandas as pd\n",
        "import numpy as np\n",
        "from scipy.spatial.distance import cdist\n",
        "\n",
        "df = pd.DataFrame(np.random.randint(1, 100, 40).reshape(10, -1),\n",
        "                  columns=list('pqrs'), index=list('abcdefghij'))\n",
        "\n",
        "distances = cdist(df.values, df.values, metric='euclidean')\n",
        "\n",
        "df['nearest_row'] = ''\n",
        "df['dist'] = 0.0\n",
        "\n",
        "for i in range(len(df)):\n",
        "\n",
        "    distances[i, i] = np.inf\n",
        "\n",
        "    nearest_index = np.argmin(distances[i])\n",
        "\n",
        "    df.at[df.index[i], 'nearest_row'] = df.index[nearest_index]\n",
        "    df.at[df.index[i], 'dist'] = distances[i, nearest_index]\n",
        "\n",
        "print(\"Результат:\")\n",
        "print(df)"
      ],
      "metadata": {
        "colab": {
          "base_uri": "https://localhost:8080/"
        },
        "id": "gboMg1R85mCf",
        "outputId": "fc044188-6ed8-4480-f2a3-b2c502ce9219"
      },
      "execution_count": 127,
      "outputs": [
        {
          "output_type": "stream",
          "name": "stdout",
          "text": [
            "Результат:\n",
            "    p   q   r   s nearest_row    dist\n",
            "a  12   5  41  28           d 30.7409\n",
            "b  84  76  37  19           f 49.9900\n",
            "c  34  93  58  74           h 13.4536\n",
            "d   6  17  68  22           a 30.7409\n",
            "e  11  42  88  10           d 34.5543\n",
            "f  89  27  29  22           b 49.9900\n",
            "g  21  79  95  43           i 34.2929\n",
            "h  24  96  52  68           c 13.4536\n",
            "i  27  95  73  63           c 19.9750\n",
            "j  10  54  14   2           a 61.7252\n"
          ]
        }
      ]
    },
    {
      "cell_type": "code",
      "source": [
        "# n60\n",
        "\n",
        "import pandas as pd\n",
        "import numpy as np\n",
        "\n",
        "# Создание датафрейма\n",
        "df = pd.DataFrame(np.random.randint(1, 100, 80).reshape(8, -1),\n",
        "                  columns=list('pqrstuvwxy'), index=list('abcdefgh'))\n",
        "\n",
        "# Вычисление корреляционной матрицы\n",
        "corr_matrix = df.corr()\n",
        "\n",
        "# Поиск максимального абсолютного значения корреляции для каждого столбца\n",
        "max_abs_corr = corr_matrix.apply(lambda x: x.abs().max())\n",
        "\n",
        "print(\"Максимальное абсолютное значение корреляции для каждого столбца:\")\n",
        "print(max_abs_corr)"
      ],
      "metadata": {
        "colab": {
          "base_uri": "https://localhost:8080/"
        },
        "id": "wIjsB4Fn5mJN",
        "outputId": "b29da5b4-9478-472d-bcf9-12f1a50a9477"
      },
      "execution_count": 131,
      "outputs": [
        {
          "output_type": "stream",
          "name": "stdout",
          "text": [
            "Максимальное абсолютное значение корреляции для каждого столбца:\n",
            "p   1.0000\n",
            "q   1.0000\n",
            "r   1.0000\n",
            "s   1.0000\n",
            "t   1.0000\n",
            "u   1.0000\n",
            "v   1.0000\n",
            "w   1.0000\n",
            "x   1.0000\n",
            "y   1.0000\n",
            "dtype: float64\n"
          ]
        }
      ]
    },
    {
      "cell_type": "code",
      "source": [
        "# n61\n",
        "\n",
        "import pandas as pd\n",
        "import numpy as np\n",
        "\n",
        "df = pd.DataFrame(np.random.randint(1, 100, 80).reshape(8, -1))\n",
        "\n",
        "min_values = df.min(axis=1)\n",
        "max_values = df.max(axis=1)\n",
        "\n",
        "result_df = pd.DataFrame({'min': min_values, 'max': max_values})\n",
        "\n",
        "print(result_df)"
      ],
      "metadata": {
        "colab": {
          "base_uri": "https://localhost:8080/"
        },
        "id": "jAvpZ9g_5mQP",
        "outputId": "f76f679c-4edd-4e5d-b76f-9e721b206c88"
      },
      "execution_count": 135,
      "outputs": [
        {
          "output_type": "stream",
          "name": "stdout",
          "text": [
            "   min  max\n",
            "0    5   99\n",
            "1    2   88\n",
            "2    9   93\n",
            "3    7   98\n",
            "4    2   90\n",
            "5   17   96\n",
            "6   10   92\n",
            "7   13   97\n"
          ]
        }
      ]
    },
    {
      "cell_type": "code",
      "source": [
        "# n62\n",
        "\n",
        "import pandas as pd\n",
        "import numpy as np\n",
        "\n",
        "df = pd.DataFrame(np.random.randint(1, 100, 80).reshape(8, -1))\n",
        "\n",
        "def get_penultimate(row):\n",
        "    sorted_row = np.sort(row)[-2]\n",
        "    return sorted_row\n",
        "\n",
        "df['penultimate'] = df.apply(get_penultimate, axis=1)\n",
        "\n",
        "print(df)"
      ],
      "metadata": {
        "colab": {
          "base_uri": "https://localhost:8080/"
        },
        "id": "dfmK_CoF5mWY",
        "outputId": "97037a2a-61e5-4db9-bdc2-a76b8ec78264"
      },
      "execution_count": 137,
      "outputs": [
        {
          "output_type": "stream",
          "name": "stdout",
          "text": [
            "    0   1   2   3   4  ...   6   7   8   9  penultimate\n",
            "0  35  71  69  45   4  ...  97   5  70  17           71\n",
            "1  85  16  88  35  45  ...   1  26  73  69           85\n",
            "2  44  65  89  63  89  ...  49  92  92  28           92\n",
            "3  82  75  51   8   3  ...  76  35  75   3           81\n",
            "4  74  10  20  44  95  ...  20  21  55  24           94\n",
            "5  56  88  98  90  35  ...  22  43  55  29           90\n",
            "6  63  45  39  23  84  ...  69   7  97  34           97\n",
            "7  25  34  68  49  47  ...   2  76  23  60           68\n",
            "\n",
            "[8 rows x 11 columns]\n"
          ]
        }
      ]
    },
    {
      "cell_type": "code",
      "source": [
        "# n63\n",
        "\n",
        "import pandas as pd\n",
        "import numpy as np\n",
        "\n",
        "df = pd.DataFrame(np.random.randint(1, 100, 80).reshape(8, -1))\n",
        "\n",
        "df_normalized = (df - df.mean()) / df.std()\n",
        "\n",
        "df_ranked = (df - df.min()) / (df.max() - df.min())\n",
        "\n",
        "print(\"Нормализованный DataFrame:\")\n",
        "print(df_normalized)\n",
        "\n",
        "print(\"\\nРанжированный DataFrame:\")\n",
        "print(df_ranked)\n"
      ],
      "metadata": {
        "colab": {
          "base_uri": "https://localhost:8080/"
        },
        "id": "gLyN3yJv5mdX",
        "outputId": "b42e31b4-b92e-4fb6-d0a5-7a6407df5d3d"
      },
      "execution_count": 139,
      "outputs": [
        {
          "output_type": "stream",
          "name": "stdout",
          "text": [
            "Нормализованный DataFrame:\n",
            "        0       1       2       3       4       5       6       7       8  \\\n",
            "0 -1.3883 -1.6028  1.0436 -0.3997  0.6277  0.4690 -0.7049  0.1106  0.4903   \n",
            "1  0.5310  0.7789 -0.0232  1.4326 -0.0509 -0.6653 -0.0248 -1.9179 -0.3403   \n",
            "2 -0.7591  0.5297 -2.0640 -0.6512  0.0848 -0.4908 -0.9316 -0.7745 -0.2019   \n",
            "3  1.0344 -1.3812 -0.7653 -1.5853  0.5259 -1.1889 -0.2798  0.7008 -1.2631   \n",
            "4 -0.5703  0.3358  0.0232 -0.2560  0.6277  0.7744 -0.7332 -0.2213 -1.3093   \n",
            "5 -0.7591  1.0281  0.5798  0.3189  1.1706 -1.1889  1.7038  0.7008  0.0750   \n",
            "6  0.4995 -0.3012  0.6261  1.2889 -1.2724  0.9926  1.3921  1.2909  1.1362   \n",
            "7  1.4119  0.6127  0.5798 -0.1482 -1.7135  1.2980 -0.4215  0.1106  1.4131   \n",
            "\n",
            "        9  \n",
            "0 -0.7703  \n",
            "1 -0.8352  \n",
            "2  1.4677  \n",
            "3 -1.0298  \n",
            "4  0.5920  \n",
            "5  0.6568  \n",
            "6  0.8839  \n",
            "7 -0.9650  \n",
            "\n",
            "Ранжированный DataFrame:\n",
            "       0      1      2      3      4      5      6      7      8      9\n",
            "0 0.0000 0.0000 1.0000 0.3929 0.8118 0.6667 0.0860 0.6322 0.6610 0.1039\n",
            "1 0.6854 0.9053 0.6567 1.0000 0.5765 0.2105 0.3441 0.0000 0.3559 0.0779\n",
            "2 0.2247 0.8105 0.0000 0.3095 0.6235 0.2807 0.0000 0.3563 0.4068 1.0000\n",
            "3 0.8652 0.0842 0.4179 0.0000 0.7765 0.0000 0.2473 0.8161 0.0169 0.0000\n",
            "4 0.2921 0.7368 0.6716 0.4405 0.8118 0.7895 0.0753 0.5287 0.0000 0.6494\n",
            "5 0.2247 1.0000 0.8507 0.6310 1.0000 0.0000 1.0000 0.8161 0.5085 0.6753\n",
            "6 0.6742 0.4947 0.8657 0.9524 0.1529 0.8772 0.8817 1.0000 0.8983 0.7662\n",
            "7 1.0000 0.8421 0.8507 0.4762 0.0000 1.0000 0.1935 0.6322 1.0000 0.0260\n"
          ]
        }
      ]
    },
    {
      "cell_type": "code",
      "source": [
        "# n64\n",
        "\n",
        "import pandas as pd\n",
        "import numpy as np\n",
        "\n",
        "df = pd.DataFrame(np.random.randint(1, 100, 80).reshape(8, -1))\n",
        "\n",
        "correlations = [df.iloc[i].corr(df.iloc[i + 1]) for i in range(len(df) - 1)]\n",
        "\n",
        "result_df = pd.DataFrame(correlations, columns=['Correlation'])\n",
        "\n",
        "print(result_df)"
      ],
      "metadata": {
        "colab": {
          "base_uri": "https://localhost:8080/"
        },
        "id": "72Uy6Sfc5mjI",
        "outputId": "bae7be91-34ea-4b00-97d1-c1b3f3333245"
      },
      "execution_count": 141,
      "outputs": [
        {
          "output_type": "stream",
          "name": "stdout",
          "text": [
            "   Correlation\n",
            "0       0.0690\n",
            "1       0.2484\n",
            "2       0.2337\n",
            "3       0.0024\n",
            "4       0.0770\n",
            "5       0.3669\n",
            "6      -0.4719\n"
          ]
        }
      ]
    },
    {
      "cell_type": "code",
      "source": [
        "# n65\n",
        "\n",
        "import pandas as pd\n",
        "import numpy as np\n",
        "\n",
        "df = pd.DataFrame(np.random.randint(1, 100, 100).reshape(10, -1))\n",
        "\n",
        "df.values[[np.arange(df.shape[0])] * 2] = 0\n",
        "df.values[[np.arange(df.shape[0])[::-1]] * 2] = 0\n",
        "\n",
        "print(df)"
      ],
      "metadata": {
        "colab": {
          "base_uri": "https://localhost:8080/"
        },
        "id": "oiB1irpQ5mqO",
        "outputId": "569c43bb-d880-47c4-cea7-12636ccb1b45"
      },
      "execution_count": 140,
      "outputs": [
        {
          "output_type": "stream",
          "name": "stdout",
          "text": [
            "   0  1  2  3  4  5  6  7  8  9\n",
            "0  0  0  0  0  0  0  0  0  0  0\n",
            "1  0  0  0  0  0  0  0  0  0  0\n",
            "2  0  0  0  0  0  0  0  0  0  0\n",
            "3  0  0  0  0  0  0  0  0  0  0\n",
            "4  0  0  0  0  0  0  0  0  0  0\n",
            "5  0  0  0  0  0  0  0  0  0  0\n",
            "6  0  0  0  0  0  0  0  0  0  0\n",
            "7  0  0  0  0  0  0  0  0  0  0\n",
            "8  0  0  0  0  0  0  0  0  0  0\n",
            "9  0  0  0  0  0  0  0  0  0  0\n"
          ]
        }
      ]
    },
    {
      "cell_type": "code",
      "source": [
        "# n66\n",
        "\n",
        "import pandas as pd\n",
        "import numpy as np\n",
        "\n",
        "df = pd.DataFrame({\n",
        "    'col1': ['apple', 'banana', 'orange'] * 3,\n",
        "    'col2': np.random.rand(9),\n",
        "    'col3': np.random.randint(0, 15, 9)\n",
        "})\n",
        "\n",
        "df_grouped = df.groupby('col1')\n",
        "\n",
        "apple_group = df_grouped.get_group('apple').reset_index(drop=True)\n",
        "\n",
        "print(apple_group)"
      ],
      "metadata": {
        "colab": {
          "base_uri": "https://localhost:8080/"
        },
        "id": "cik0hXX-5mwn",
        "outputId": "bd01c178-e627-43a3-b930-b216b6e6a70b"
      },
      "execution_count": 142,
      "outputs": [
        {
          "output_type": "stream",
          "name": "stdout",
          "text": [
            "    col1   col2  col3\n",
            "0  apple 0.2062    10\n",
            "1  apple 0.2227     6\n",
            "2  apple 0.0404    11\n"
          ]
        }
      ]
    },
    {
      "cell_type": "code",
      "source": [
        "# n67\n",
        "\n",
        "import pandas as pd\n",
        "import numpy as np\n",
        "\n",
        "df = pd.DataFrame({\n",
        "    'fruit': ['apple', 'banana', 'orange'] * 3,\n",
        "    'rating': np.random.rand(9),\n",
        "    'price': np.random.randint(0, 15, 9)\n",
        "})\n",
        "\n",
        "banana_df = df[df['fruit'] == 'banana']\n",
        "\n",
        "sorted_banana_df = banana_df.sort_values(by='rating', ascending=False)\n",
        "\n",
        "second_largest = sorted_banana_df['rating'].iloc[1]\n",
        "\n",
        "print(\"Второе по величине значение taste для banana:\", second_largest)\n"
      ],
      "metadata": {
        "colab": {
          "base_uri": "https://localhost:8080/"
        },
        "id": "RL5YhDx95m3G",
        "outputId": "5ce6ab1e-de77-4016-c31f-7a79d18a55f4"
      },
      "execution_count": 144,
      "outputs": [
        {
          "output_type": "stream",
          "name": "stdout",
          "text": [
            "Второе по величине значение taste для banana: 0.4214024051977493\n"
          ]
        }
      ]
    },
    {
      "cell_type": "code",
      "source": [
        "# n68\n",
        "\n",
        "import pandas as pd\n",
        "import numpy as np\n",
        "\n",
        "df = pd.DataFrame({\n",
        "    'fruit': ['apple', 'banana', 'orange'] * 3,\n",
        "    'rating': np.random.rand(9),\n",
        "    'price': np.random.randint(0, 15, 9)\n",
        "})\n",
        "\n",
        "mean_price = df.groupby('fruit')['price'].mean().reset_index()\n",
        "\n",
        "mean_price.columns = ['fruit', 'mean_price']\n",
        "\n",
        "print(\"Средняя цена каждого фрукта:\")\n",
        "print(mean_price)"
      ],
      "metadata": {
        "colab": {
          "base_uri": "https://localhost:8080/"
        },
        "id": "gGw7XFJW5m_X",
        "outputId": "2fec777e-8951-4780-ad77-c58f1716ae9d"
      },
      "execution_count": 145,
      "outputs": [
        {
          "output_type": "stream",
          "name": "stdout",
          "text": [
            "Средняя цена каждого фрукта:\n",
            "    fruit  mean_price\n",
            "0   apple      8.0000\n",
            "1  banana      8.6667\n",
            "2  orange      3.0000\n"
          ]
        }
      ]
    },
    {
      "cell_type": "code",
      "source": [
        "# n69\n",
        "\n",
        "import pandas as pd\n",
        "import numpy as np\n",
        "\n",
        "df1 = pd.DataFrame({\n",
        "    'fruit': ['apple', 'banana', 'orange'] * 3,\n",
        "    'weight': ['high', 'medium', 'low'] * 3,\n",
        "    'price': np.random.randint(0, 15, 9)\n",
        "})\n",
        "\n",
        "df2 = pd.DataFrame({\n",
        "    'pazham': ['apple', 'orange', 'pine'] * 2,\n",
        "    'kilo': ['high', 'low'] * 3,\n",
        "    'price': np.random.randint(0, 15, 6)\n",
        "})\n",
        "\n",
        "merged_df = pd.merge(df1, df2, left_on=['fruit', 'weight'], right_on=['pazham', 'kilo'])\n",
        "\n",
        "print(merged_df)"
      ],
      "metadata": {
        "colab": {
          "base_uri": "https://localhost:8080/"
        },
        "id": "LJ9yd1w15nHO",
        "outputId": "c66e2f73-1c42-4d89-9abf-2af0fcd1cdd1"
      },
      "execution_count": 146,
      "outputs": [
        {
          "output_type": "stream",
          "name": "stdout",
          "text": [
            "    fruit weight  price_x  pazham  kilo  price_y\n",
            "0   apple   high       13   apple  high       12\n",
            "1  orange    low        1  orange   low        6\n",
            "2   apple   high        7   apple  high       12\n",
            "3  orange    low        3  orange   low        6\n",
            "4   apple   high       11   apple  high       12\n",
            "5  orange    low        6  orange   low        6\n"
          ]
        }
      ]
    },
    {
      "cell_type": "code",
      "source": [
        "# n70\n",
        "\n",
        "import pandas as pd\n",
        "import numpy as np\n",
        "\n",
        "df = pd.DataFrame({\n",
        "    'a': np.arange(1, 6),\n",
        "    'b': np.arange(10, 15)\n",
        "})\n",
        "\n",
        "df['lag1'] = df['a'].shift(1)\n",
        "\n",
        "df['lead1'] = df['b'].shift(-1)\n",
        "\n",
        "print(df)"
      ],
      "metadata": {
        "colab": {
          "base_uri": "https://localhost:8080/"
        },
        "id": "yfnKM_Pr5nQW",
        "outputId": "1fbda01f-f341-421c-c162-994e9b7ac16a"
      },
      "execution_count": 147,
      "outputs": [
        {
          "output_type": "stream",
          "name": "stdout",
          "text": [
            "   a   b   lag1   lead1\n",
            "0  1  10    NaN 11.0000\n",
            "1  2  11 1.0000 12.0000\n",
            "2  3  12 2.0000 13.0000\n",
            "3  4  13 3.0000 14.0000\n",
            "4  5  14 4.0000     NaN\n"
          ]
        }
      ]
    },
    {
      "cell_type": "code",
      "source": [
        "# n71\n",
        "\n",
        "import pandas as pd\n",
        "import numpy as np\n",
        "\n",
        "df = pd.DataFrame(np.random.randint(1, 10, 20).reshape(-1, 4), columns=list('abcd'))\n",
        "\n",
        "\n",
        "freqs = df.stack().value_counts()\n",
        "\n",
        "print(freqs)\n"
      ],
      "metadata": {
        "colab": {
          "base_uri": "https://localhost:8080/"
        },
        "id": "lWagkqx75nWY",
        "outputId": "03c80f85-f94b-4414-c1d1-a6016882dff5"
      },
      "execution_count": 149,
      "outputs": [
        {
          "output_type": "stream",
          "name": "stdout",
          "text": [
            "3    6\n",
            "2    4\n",
            "4    3\n",
            "6    2\n",
            "9    2\n",
            "5    1\n",
            "7    1\n",
            "1    1\n",
            "Name: count, dtype: int64\n"
          ]
        }
      ]
    },
    {
      "cell_type": "code",
      "source": [
        "# n72\n",
        "\n",
        "import pandas as pd\n",
        "\n",
        "df = pd.DataFrame([\n",
        "    \"STD, City   State\",\n",
        "    \"33, Kolkata   West Bengal\",\n",
        "    \"44, Chennai   Tamil Nadu\",\n",
        "    \"40, Hyderabad   Telengana\",\n",
        "    \"80, Bangalore   Karnataka\"\n",
        "], columns=['row'])\n",
        "\n",
        "df = df.iloc[1:]\n",
        "\n",
        "split_data = df['row'].str.split(', ', expand=True)\n",
        "\n",
        "if split_data.shape[1] < 3:\n",
        "    split_data[2] = None\n",
        "\n",
        "new_df = pd.DataFrame({\n",
        "    'STD': split_data[0],\n",
        "    'City': split_data[1],\n",
        "    'State': split_data[2]\n",
        "})\n",
        "\n",
        "print(new_df)"
      ],
      "metadata": {
        "colab": {
          "base_uri": "https://localhost:8080/"
        },
        "id": "dPYkGeFw5ndm",
        "outputId": "a82790c5-53d5-4f42-ee7b-7b37eaecd23e"
      },
      "execution_count": 155,
      "outputs": [
        {
          "output_type": "stream",
          "name": "stdout",
          "text": [
            "  STD                   City State\n",
            "1  33  Kolkata   West Bengal  None\n",
            "2  44   Chennai   Tamil Nadu  None\n",
            "3  40  Hyderabad   Telengana  None\n",
            "4  80  Bangalore   Karnataka  None\n"
          ]
        }
      ]
    }
  ]
}